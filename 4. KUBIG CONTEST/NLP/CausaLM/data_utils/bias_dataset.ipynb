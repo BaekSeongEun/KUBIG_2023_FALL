{
 "cells": [
  {
   "cell_type": "code",
   "execution_count": 7,
   "metadata": {},
   "outputs": [],
   "source": [
    "import pandas as pd \n",
    "from datasets.utils import bias_binary_rank_aggressive, bias_binary_rank_gentle"
   ]
  },
  {
   "cell_type": "code",
   "execution_count": null,
   "metadata": {},
   "outputs": [],
   "source": [
    "# bias_gentle \n",
    "# sort sentence from ratio of Adjective + delete the top half of the list for the sentence negative\n",
    "\n",
    "# bias_aggressive\n",
    "# do the same + delete the bottom half of the list (positive)\n",
    "\n",
    "# label_column : sentiment_label & bias_column : num_adj"
   ]
  },
  {
   "cell_type": "code",
   "execution_count": 15,
   "metadata": {},
   "outputs": [],
   "source": [
    "import os \n",
    "df=pd.read_csv('./Sentiment_Adjectives/datasets/adjectives_test.csv')"
   ]
  },
  {
   "cell_type": "code",
   "execution_count": 16,
   "metadata": {},
   "outputs": [],
   "source": [
    "dat_aggressive=bias_binary_rank_aggressive(df,'sentiment_label','num_adj',\n",
    "                            biased_label=1, biasing_factor=0.5)\n",
    "dat_gentle=bias_binary_rank_gentle(df,'sentiment_label','num_adj',\n",
    "                            biased_label=1, biasing_factor=0.5)\n",
    "dat_aggressive.to_csv('./Sentiment_Adjectives/datasets/adjectives_test_aggressive.csv')\n",
    "dat_gentle.to_csv('./Sentiment_Adjectives/datasets/adjectives_test_gentle.csv')"
   ]
  }
 ],
 "metadata": {
  "kernelspec": {
   "display_name": "Python 3",
   "language": "python",
   "name": "python3"
  },
  "language_info": {
   "codemirror_mode": {
    "name": "ipython",
    "version": 3
   },
   "file_extension": ".py",
   "mimetype": "text/x-python",
   "name": "python",
   "nbconvert_exporter": "python",
   "pygments_lexer": "ipython3",
   "version": "3.7.5"
  },
  "orig_nbformat": 4
 },
 "nbformat": 4,
 "nbformat_minor": 2
}
