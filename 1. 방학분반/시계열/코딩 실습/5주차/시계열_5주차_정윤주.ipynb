{
  "nbformat": 4,
  "nbformat_minor": 0,
  "metadata": {
    "colab": {
      "provenance": [],
      "toc_visible": true
    },
    "kernelspec": {
      "name": "python3",
      "display_name": "Python 3"
    },
    "language_info": {
      "name": "python"
    }
  },
  "cells": [
    {
      "cell_type": "code",
      "source": [
        "import pandas as pd\n",
        "import matplotlib.pyplot as plt"
      ],
      "metadata": {
        "id": "rnqKH1lYgTfG"
      },
      "execution_count": 1,
      "outputs": []
    },
    {
      "cell_type": "markdown",
      "source": [
        "# 4. Working with more than one time series"
      ],
      "metadata": {
        "id": "oHzTTsQ_Ise2"
      }
    },
    {
      "cell_type": "markdown",
      "source": [
        "Exercise 1."
      ],
      "metadata": {
        "id": "CulMVr3pIx5a"
      }
    },
    {
      "cell_type": "code",
      "execution_count": null,
      "metadata": {
        "id": "-5_u0V3ncLNo"
      },
      "outputs": [],
      "source": [
        "# Read in meat DataFrame\n",
        "meat = pd.read_csv(url_meat)\n",
        "\n",
        "# Review the first five lines of the meat DataFrame\n",
        "print(meat.head(5))\n",
        "\n",
        "# Convert the date column to a datestamp type\n",
        "meat['date'] = pd.to_datetime(meat['date']) #error있을시 errors='coerce'추가\n",
        "\n",
        "# Set the date column as the index of your DataFrame meat\n",
        "meat = meat.set_index('date')\n",
        "\n",
        "# Print the summary statistics of the DataFrame\n",
        "print(meat.describe())"
      ]
    },
    {
      "cell_type": "code",
      "source": [
        "# Plot time series dataset\n",
        "ax = meat.plot(linewidth =2, fontsize = 12)\n",
        "\n",
        "# Additional customizations\n",
        "ax.set_xlabel('Date')\n",
        "ax.legend(fontsize=15)\n",
        "\n",
        "# Show plot\n",
        "plt.show()"
      ],
      "metadata": {
        "id": "cexnballKzWA"
      },
      "execution_count": null,
      "outputs": []
    },
    {
      "cell_type": "code",
      "source": [
        "# Plot an area chart\n",
        "ax = meat.plot.area(fontsize=12)\n",
        "\n",
        "# Additional customizations\n",
        "ax.set_xlabel('Date')\n",
        "ax.legend(fontsize=15)\n",
        "\n",
        "# Show plot\n",
        "plt.show()"
      ],
      "metadata": {
        "id": "zQlQ43K6NyQU"
      },
      "execution_count": null,
      "outputs": []
    },
    {
      "cell_type": "markdown",
      "source": [
        "Statistical summaries of multiple time series\n",
        "As seen in the last exercise, the time series in the meat DataFrame display very different behavior over time.\n",
        "\n",
        "Using the summary statistics presented on your right, can you identify the time series with the highest mean and maximum value, respectively?\n",
        "\n",
        "\n",
        "\n",
        "```\n",
        "                 count      mean    min     max\n",
        "beef             827.0  1683.463  366.0  2512.0\n",
        "veal             827.0    54.199    8.8   215.0\n",
        "pork             827.0  1211.684  124.0  2210.4\n",
        "lamb_and_mutton  827.0    38.361   10.9   109.0\n",
        "broilers         635.0  1516.583  250.9  3383.8\n",
        "other_chicken    143.0    43.034   32.3    51.1\n",
        "turkey           635.0   292.815   12.4   585.1\n",
        "```\n",
        "\n",
        "\n",
        "\n",
        "sol : beef - highest mean / broilers - highest max"
      ],
      "metadata": {
        "id": "JH1w_9nQK7v9"
      }
    },
    {
      "cell_type": "markdown",
      "source": [
        "Exercise 2."
      ],
      "metadata": {
        "id": "aOm3Det9TVYj"
      }
    },
    {
      "cell_type": "code",
      "source": [
        "# Plot time series dataset using the cubehelix color palette\n",
        "ax = meat.plot(colormap='cubehelix', fontsize=15)\n",
        "\n",
        "# Additional customizations\n",
        "ax.set_xlabel('Date')\n",
        "ax.legend(fontsize=18)\n",
        "\n",
        "# Show plot\n",
        "plt.show()"
      ],
      "metadata": {
        "id": "rxyVswCoK0lT"
      },
      "execution_count": null,
      "outputs": []
    },
    {
      "cell_type": "code",
      "source": [
        "# Plot time series dataset using the PuOr color palette\n",
        "ax = meat.plot(colormap = 'PuOr', fontsize=15)\n",
        "\n",
        "# Additional customizations\n",
        "ax.set_xlabel('Date')\n",
        "ax.legend(fontsize=18)\n",
        "\n",
        "# Show plot\n",
        "plt.show()"
      ],
      "metadata": {
        "id": "THwx3veFM7q_"
      },
      "execution_count": null,
      "outputs": []
    },
    {
      "cell_type": "code",
      "source": [
        "# Plot the meat data\n",
        "ax = meat.plot(fontsize=6, linewidth=1)\n",
        "\n",
        "# Add x-axis labels\n",
        "ax.set_xlabel('Date', fontsize=6)\n",
        "\n",
        "meat_mean = pd.DataFrame(meat.mean()).T\n",
        "\n",
        "# Add summary table information to the plot\n",
        "ax.table(cellText=meat_mean.values,\n",
        "         colWidths = [0.15]*len(meat_mean.columns),\n",
        "         rowLabels=meat_mean.index,\n",
        "         colLabels=meat_mean.columns,\n",
        "         loc='top')\n",
        "\n",
        "# Specify the fontsize and location of your legend\n",
        "ax.legend(loc='upper center', bbox_to_anchor=(0.5, 0.95), ncol=3, fontsize=6)\n",
        "\n",
        "# Show plot\n",
        "plt.show()"
      ],
      "metadata": {
        "id": "T8PavxvUN-q0"
      },
      "execution_count": null,
      "outputs": []
    },
    {
      "cell_type": "markdown",
      "source": [
        "코드 내 meat_mean\n",
        "\n",
        "\n",
        "```\n",
        "          beef    veal      pork  lamb_and_mutton  broilers  other_chicken   turkey\n",
        "mean  1683.463  54.199  1211.684           38.361  1516.583         43.034  292.815\n",
        "```\n",
        "\n"
      ],
      "metadata": {
        "id": "hM8OZ6PQPqM_"
      }
    },
    {
      "cell_type": "code",
      "source": [
        "# Create a facetted graph with 2 rows and 4 columns\n",
        "meat.plot(subplots=True,\n",
        "          layout=(2,4),\n",
        "          sharex=False,\n",
        "          sharey=False,\n",
        "          colormap='viridis',\n",
        "          fontsize=2,\n",
        "          legend=False,\n",
        "          linewidth=0.2)\n",
        "\n",
        "plt.show()"
      ],
      "metadata": {
        "id": "IVHvfJ3oQb2z"
      },
      "execution_count": null,
      "outputs": []
    },
    {
      "cell_type": "markdown",
      "source": [
        "Exercise 3."
      ],
      "metadata": {
        "id": "yuR_7uQVR24d"
      }
    },
    {
      "cell_type": "code",
      "source": [
        "# Print the correlation matrix between the beef and pork columns using the spearman method\n",
        "print(meat[['beef', 'pork']].corr(method='spearman'))\n",
        "\n",
        "# Print the correlation between beef and pork columns\n",
        "print(0.828)"
      ],
      "metadata": {
        "id": "Sfw_mM_4R2gf"
      },
      "execution_count": null,
      "outputs": []
    },
    {
      "cell_type": "code",
      "source": [
        "# Print the correlation matrix between the pork, veal and turkey columns using the pearson method\n",
        "print(meat[['pork', 'veal', 'turkey']].corr(method='pearson'))\n",
        "\n",
        "# Print the correlation between veal and pork columns\n",
        "print(-0.809)\n",
        "\n",
        "# Print the correlation between veal and turkey columns\n",
        "print(-0.768)\n",
        "\n",
        "# Print the correlation between pork and turkey columns\n",
        "print(0.835)"
      ],
      "metadata": {
        "id": "xILNtz7USL_p"
      },
      "execution_count": null,
      "outputs": []
    },
    {
      "cell_type": "code",
      "source": [
        "# Import seaborn library\n",
        "import seaborn as sns\n",
        "\n",
        "# Get correlation matrix of the meat DataFrame: corr_meat\n",
        "corr_meat = meat.corr(method='spearman')\n",
        "\n",
        "# Customize the heatmap of the corr_meat correlation matrix\n",
        "sns.heatmap(corr_meat,\n",
        "            annot=True,\n",
        "            linewidths=0.4,\n",
        "            annot_kws={\"size\": 10})\n",
        "\n",
        "plt.xticks(rotation=90)\n",
        "plt.yticks(rotation=0)\n",
        "plt.show()"
      ],
      "metadata": {
        "id": "2m6FtrTVSSZa"
      },
      "execution_count": null,
      "outputs": []
    },
    {
      "cell_type": "code",
      "source": [
        "# Import seaborn library\n",
        "import seaborn as sns\n",
        "\n",
        "# Get correlation matrix of the meat DataFrame\n",
        "corr_meat = meat.corr(method = 'pearson')\n",
        "\n",
        "# Customize the heatmap of the corr_meat correlation matrix and rotate the x-axis labels\n",
        "fig = sns.clustermap(corr_meat,\n",
        "                     row_cluster=True,\n",
        "                     col_cluster=True,\n",
        "                     figsize=(10, 10))\n",
        "\n",
        "plt.setp(fig.ax_heatmap.xaxis.get_majorticklabels(), rotation=90)\n",
        "plt.setp(fig.ax_heatmap.yaxis.get_majorticklabels(), rotation=0)\n",
        "plt.show()"
      ],
      "metadata": {
        "id": "RpayMxwESwOl"
      },
      "execution_count": null,
      "outputs": []
    }
  ]
}