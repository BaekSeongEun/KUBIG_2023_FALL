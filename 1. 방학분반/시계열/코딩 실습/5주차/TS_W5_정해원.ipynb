{
  "nbformat": 4,
  "nbformat_minor": 0,
  "metadata": {
    "colab": {
      "provenance": []
    },
    "kernelspec": {
      "name": "python3",
      "display_name": "Python 3"
    },
    "language_info": {
      "name": "python"
    }
  },
  "cells": [
    {
      "cell_type": "markdown",
      "source": [
        "### **Fundamentals of Time Series**"
      ],
      "metadata": {
        "id": "PGi8lfnqcW4g"
      }
    },
    {
      "cell_type": "code",
      "execution_count": null,
      "metadata": {
        "id": "FhDa7mtJXt4v"
      },
      "outputs": [],
      "source": [
        "#Read Data\n",
        "\n",
        "import pandas as pd\n",
        "import matplotlib as plt\n",
        "\n",
        "df = pd.read_csv(\"time_series.csv\", index_col = 'date', parse_dates = True)"
      ]
    },
    {
      "cell_type": "code",
      "source": [
        "#Trend\n",
        "\n",
        "fig, ax = plt.subplots()\n",
        "df.plot(ax=ax)\n",
        "plt.show()"
      ],
      "metadata": {
        "id": "A2XDwBcJZWCD"
      },
      "execution_count": null,
      "outputs": []
    },
    {
      "cell_type": "code",
      "source": [
        "#TR-TE split\n",
        "df_train = df.loc[:'2018']  #past data\n",
        "df_test = df.loc['2019':]   #future data"
      ],
      "metadata": {
        "id": "i0JxQphHZhvG"
      },
      "execution_count": null,
      "outputs": []
    },
    {
      "cell_type": "code",
      "source": [
        "# Import modules\n",
        "import pandas as pd\n",
        "import matplotlib.pyplot as plt\n",
        "\n",
        "# Load in the time series\n",
        "candy = pd.read_csv('candy_production.csv',\n",
        "            index_col='date',\n",
        "            parse_dates=True)\n",
        "\n",
        "# Plot and show the time series on axis ax1\n",
        "fig, ax1 = plt.subplots()\n",
        "candy.plot(ax=ax1)\n",
        "plt.show()"
      ],
      "metadata": {
        "colab": {
          "base_uri": "https://localhost:8080/",
          "height": 393
        },
        "id": "oMDVM6NfZrKf",
        "outputId": "6c3f5418-2c1b-48b2-cf16-1e4c7add0160"
      },
      "execution_count": 2,
      "outputs": [
        {
          "output_type": "error",
          "ename": "FileNotFoundError",
          "evalue": "ignored",
          "traceback": [
            "\u001b[0;31m---------------------------------------------------------------------------\u001b[0m",
            "\u001b[0;31mFileNotFoundError\u001b[0m                         Traceback (most recent call last)",
            "\u001b[0;32m<ipython-input-2-d5f68e617e92>\u001b[0m in \u001b[0;36m<cell line: 6>\u001b[0;34m()\u001b[0m\n\u001b[1;32m      4\u001b[0m \u001b[0;34m\u001b[0m\u001b[0m\n\u001b[1;32m      5\u001b[0m \u001b[0;31m# Load in the time series\u001b[0m\u001b[0;34m\u001b[0m\u001b[0;34m\u001b[0m\u001b[0m\n\u001b[0;32m----> 6\u001b[0;31m candy = pd.read_csv('candy_production.csv', \n\u001b[0m\u001b[1;32m      7\u001b[0m             \u001b[0mindex_col\u001b[0m\u001b[0;34m=\u001b[0m\u001b[0;34m'date'\u001b[0m\u001b[0;34m,\u001b[0m\u001b[0;34m\u001b[0m\u001b[0;34m\u001b[0m\u001b[0m\n\u001b[1;32m      8\u001b[0m             parse_dates=True)\n",
            "\u001b[0;32m/usr/local/lib/python3.10/dist-packages/pandas/util/_decorators.py\u001b[0m in \u001b[0;36mwrapper\u001b[0;34m(*args, **kwargs)\u001b[0m\n\u001b[1;32m    209\u001b[0m                 \u001b[0;32melse\u001b[0m\u001b[0;34m:\u001b[0m\u001b[0;34m\u001b[0m\u001b[0;34m\u001b[0m\u001b[0m\n\u001b[1;32m    210\u001b[0m                     \u001b[0mkwargs\u001b[0m\u001b[0;34m[\u001b[0m\u001b[0mnew_arg_name\u001b[0m\u001b[0;34m]\u001b[0m \u001b[0;34m=\u001b[0m \u001b[0mnew_arg_value\u001b[0m\u001b[0;34m\u001b[0m\u001b[0;34m\u001b[0m\u001b[0m\n\u001b[0;32m--> 211\u001b[0;31m             \u001b[0;32mreturn\u001b[0m \u001b[0mfunc\u001b[0m\u001b[0;34m(\u001b[0m\u001b[0;34m*\u001b[0m\u001b[0margs\u001b[0m\u001b[0;34m,\u001b[0m \u001b[0;34m**\u001b[0m\u001b[0mkwargs\u001b[0m\u001b[0;34m)\u001b[0m\u001b[0;34m\u001b[0m\u001b[0;34m\u001b[0m\u001b[0m\n\u001b[0m\u001b[1;32m    212\u001b[0m \u001b[0;34m\u001b[0m\u001b[0m\n\u001b[1;32m    213\u001b[0m         \u001b[0;32mreturn\u001b[0m \u001b[0mcast\u001b[0m\u001b[0;34m(\u001b[0m\u001b[0mF\u001b[0m\u001b[0;34m,\u001b[0m \u001b[0mwrapper\u001b[0m\u001b[0;34m)\u001b[0m\u001b[0;34m\u001b[0m\u001b[0;34m\u001b[0m\u001b[0m\n",
            "\u001b[0;32m/usr/local/lib/python3.10/dist-packages/pandas/util/_decorators.py\u001b[0m in \u001b[0;36mwrapper\u001b[0;34m(*args, **kwargs)\u001b[0m\n\u001b[1;32m    329\u001b[0m                     \u001b[0mstacklevel\u001b[0m\u001b[0;34m=\u001b[0m\u001b[0mfind_stack_level\u001b[0m\u001b[0;34m(\u001b[0m\u001b[0;34m)\u001b[0m\u001b[0;34m,\u001b[0m\u001b[0;34m\u001b[0m\u001b[0;34m\u001b[0m\u001b[0m\n\u001b[1;32m    330\u001b[0m                 )\n\u001b[0;32m--> 331\u001b[0;31m             \u001b[0;32mreturn\u001b[0m \u001b[0mfunc\u001b[0m\u001b[0;34m(\u001b[0m\u001b[0;34m*\u001b[0m\u001b[0margs\u001b[0m\u001b[0;34m,\u001b[0m \u001b[0;34m**\u001b[0m\u001b[0mkwargs\u001b[0m\u001b[0;34m)\u001b[0m\u001b[0;34m\u001b[0m\u001b[0;34m\u001b[0m\u001b[0m\n\u001b[0m\u001b[1;32m    332\u001b[0m \u001b[0;34m\u001b[0m\u001b[0m\n\u001b[1;32m    333\u001b[0m         \u001b[0;31m# error: \"Callable[[VarArg(Any), KwArg(Any)], Any]\" has no\u001b[0m\u001b[0;34m\u001b[0m\u001b[0;34m\u001b[0m\u001b[0m\n",
            "\u001b[0;32m/usr/local/lib/python3.10/dist-packages/pandas/io/parsers/readers.py\u001b[0m in \u001b[0;36mread_csv\u001b[0;34m(filepath_or_buffer, sep, delimiter, header, names, index_col, usecols, squeeze, prefix, mangle_dupe_cols, dtype, engine, converters, true_values, false_values, skipinitialspace, skiprows, skipfooter, nrows, na_values, keep_default_na, na_filter, verbose, skip_blank_lines, parse_dates, infer_datetime_format, keep_date_col, date_parser, dayfirst, cache_dates, iterator, chunksize, compression, thousands, decimal, lineterminator, quotechar, quoting, doublequote, escapechar, comment, encoding, encoding_errors, dialect, error_bad_lines, warn_bad_lines, on_bad_lines, delim_whitespace, low_memory, memory_map, float_precision, storage_options)\u001b[0m\n\u001b[1;32m    948\u001b[0m     \u001b[0mkwds\u001b[0m\u001b[0;34m.\u001b[0m\u001b[0mupdate\u001b[0m\u001b[0;34m(\u001b[0m\u001b[0mkwds_defaults\u001b[0m\u001b[0;34m)\u001b[0m\u001b[0;34m\u001b[0m\u001b[0;34m\u001b[0m\u001b[0m\n\u001b[1;32m    949\u001b[0m \u001b[0;34m\u001b[0m\u001b[0m\n\u001b[0;32m--> 950\u001b[0;31m     \u001b[0;32mreturn\u001b[0m \u001b[0m_read\u001b[0m\u001b[0;34m(\u001b[0m\u001b[0mfilepath_or_buffer\u001b[0m\u001b[0;34m,\u001b[0m \u001b[0mkwds\u001b[0m\u001b[0;34m)\u001b[0m\u001b[0;34m\u001b[0m\u001b[0;34m\u001b[0m\u001b[0m\n\u001b[0m\u001b[1;32m    951\u001b[0m \u001b[0;34m\u001b[0m\u001b[0m\n\u001b[1;32m    952\u001b[0m \u001b[0;34m\u001b[0m\u001b[0m\n",
            "\u001b[0;32m/usr/local/lib/python3.10/dist-packages/pandas/io/parsers/readers.py\u001b[0m in \u001b[0;36m_read\u001b[0;34m(filepath_or_buffer, kwds)\u001b[0m\n\u001b[1;32m    603\u001b[0m \u001b[0;34m\u001b[0m\u001b[0m\n\u001b[1;32m    604\u001b[0m     \u001b[0;31m# Create the parser.\u001b[0m\u001b[0;34m\u001b[0m\u001b[0;34m\u001b[0m\u001b[0m\n\u001b[0;32m--> 605\u001b[0;31m     \u001b[0mparser\u001b[0m \u001b[0;34m=\u001b[0m \u001b[0mTextFileReader\u001b[0m\u001b[0;34m(\u001b[0m\u001b[0mfilepath_or_buffer\u001b[0m\u001b[0;34m,\u001b[0m \u001b[0;34m**\u001b[0m\u001b[0mkwds\u001b[0m\u001b[0;34m)\u001b[0m\u001b[0;34m\u001b[0m\u001b[0;34m\u001b[0m\u001b[0m\n\u001b[0m\u001b[1;32m    606\u001b[0m \u001b[0;34m\u001b[0m\u001b[0m\n\u001b[1;32m    607\u001b[0m     \u001b[0;32mif\u001b[0m \u001b[0mchunksize\u001b[0m \u001b[0;32mor\u001b[0m \u001b[0miterator\u001b[0m\u001b[0;34m:\u001b[0m\u001b[0;34m\u001b[0m\u001b[0;34m\u001b[0m\u001b[0m\n",
            "\u001b[0;32m/usr/local/lib/python3.10/dist-packages/pandas/io/parsers/readers.py\u001b[0m in \u001b[0;36m__init__\u001b[0;34m(self, f, engine, **kwds)\u001b[0m\n\u001b[1;32m   1440\u001b[0m \u001b[0;34m\u001b[0m\u001b[0m\n\u001b[1;32m   1441\u001b[0m         \u001b[0mself\u001b[0m\u001b[0;34m.\u001b[0m\u001b[0mhandles\u001b[0m\u001b[0;34m:\u001b[0m \u001b[0mIOHandles\u001b[0m \u001b[0;34m|\u001b[0m \u001b[0;32mNone\u001b[0m \u001b[0;34m=\u001b[0m \u001b[0;32mNone\u001b[0m\u001b[0;34m\u001b[0m\u001b[0;34m\u001b[0m\u001b[0m\n\u001b[0;32m-> 1442\u001b[0;31m         \u001b[0mself\u001b[0m\u001b[0;34m.\u001b[0m\u001b[0m_engine\u001b[0m \u001b[0;34m=\u001b[0m \u001b[0mself\u001b[0m\u001b[0;34m.\u001b[0m\u001b[0m_make_engine\u001b[0m\u001b[0;34m(\u001b[0m\u001b[0mf\u001b[0m\u001b[0;34m,\u001b[0m \u001b[0mself\u001b[0m\u001b[0;34m.\u001b[0m\u001b[0mengine\u001b[0m\u001b[0;34m)\u001b[0m\u001b[0;34m\u001b[0m\u001b[0;34m\u001b[0m\u001b[0m\n\u001b[0m\u001b[1;32m   1443\u001b[0m \u001b[0;34m\u001b[0m\u001b[0m\n\u001b[1;32m   1444\u001b[0m     \u001b[0;32mdef\u001b[0m \u001b[0mclose\u001b[0m\u001b[0;34m(\u001b[0m\u001b[0mself\u001b[0m\u001b[0;34m)\u001b[0m \u001b[0;34m->\u001b[0m \u001b[0;32mNone\u001b[0m\u001b[0;34m:\u001b[0m\u001b[0;34m\u001b[0m\u001b[0;34m\u001b[0m\u001b[0m\n",
            "\u001b[0;32m/usr/local/lib/python3.10/dist-packages/pandas/io/parsers/readers.py\u001b[0m in \u001b[0;36m_make_engine\u001b[0;34m(self, f, engine)\u001b[0m\n\u001b[1;32m   1733\u001b[0m                 \u001b[0;32mif\u001b[0m \u001b[0;34m\"b\"\u001b[0m \u001b[0;32mnot\u001b[0m \u001b[0;32min\u001b[0m \u001b[0mmode\u001b[0m\u001b[0;34m:\u001b[0m\u001b[0;34m\u001b[0m\u001b[0;34m\u001b[0m\u001b[0m\n\u001b[1;32m   1734\u001b[0m                     \u001b[0mmode\u001b[0m \u001b[0;34m+=\u001b[0m \u001b[0;34m\"b\"\u001b[0m\u001b[0;34m\u001b[0m\u001b[0;34m\u001b[0m\u001b[0m\n\u001b[0;32m-> 1735\u001b[0;31m             self.handles = get_handle(\n\u001b[0m\u001b[1;32m   1736\u001b[0m                 \u001b[0mf\u001b[0m\u001b[0;34m,\u001b[0m\u001b[0;34m\u001b[0m\u001b[0;34m\u001b[0m\u001b[0m\n\u001b[1;32m   1737\u001b[0m                 \u001b[0mmode\u001b[0m\u001b[0;34m,\u001b[0m\u001b[0;34m\u001b[0m\u001b[0;34m\u001b[0m\u001b[0m\n",
            "\u001b[0;32m/usr/local/lib/python3.10/dist-packages/pandas/io/common.py\u001b[0m in \u001b[0;36mget_handle\u001b[0;34m(path_or_buf, mode, encoding, compression, memory_map, is_text, errors, storage_options)\u001b[0m\n\u001b[1;32m    854\u001b[0m         \u001b[0;32mif\u001b[0m \u001b[0mioargs\u001b[0m\u001b[0;34m.\u001b[0m\u001b[0mencoding\u001b[0m \u001b[0;32mand\u001b[0m \u001b[0;34m\"b\"\u001b[0m \u001b[0;32mnot\u001b[0m \u001b[0;32min\u001b[0m \u001b[0mioargs\u001b[0m\u001b[0;34m.\u001b[0m\u001b[0mmode\u001b[0m\u001b[0;34m:\u001b[0m\u001b[0;34m\u001b[0m\u001b[0;34m\u001b[0m\u001b[0m\n\u001b[1;32m    855\u001b[0m             \u001b[0;31m# Encoding\u001b[0m\u001b[0;34m\u001b[0m\u001b[0;34m\u001b[0m\u001b[0m\n\u001b[0;32m--> 856\u001b[0;31m             handle = open(\n\u001b[0m\u001b[1;32m    857\u001b[0m                 \u001b[0mhandle\u001b[0m\u001b[0;34m,\u001b[0m\u001b[0;34m\u001b[0m\u001b[0;34m\u001b[0m\u001b[0m\n\u001b[1;32m    858\u001b[0m                 \u001b[0mioargs\u001b[0m\u001b[0;34m.\u001b[0m\u001b[0mmode\u001b[0m\u001b[0;34m,\u001b[0m\u001b[0;34m\u001b[0m\u001b[0;34m\u001b[0m\u001b[0m\n",
            "\u001b[0;31mFileNotFoundError\u001b[0m: [Errno 2] No such file or directory: 'candy_production.csv'"
          ]
        }
      ]
    },
    {
      "cell_type": "code",
      "source": [
        "# Split the data into a train and test set\n",
        "candy_train = candy.loc[:'2006']\n",
        "candy_test = candy.loc['2007':]\n",
        "\n",
        "# Create an axis\n",
        "fig, ax = plt.subplots()\n",
        "\n",
        "# Plot the train and test sets on the axis ax\n",
        "candy_train.plot(ax=ax)\n",
        "candy_test.plot(ax=ax)\n",
        "plt.show()"
      ],
      "metadata": {
        "id": "srZRlz85ad23"
      },
      "execution_count": null,
      "outputs": []
    },
    {
      "cell_type": "markdown",
      "source": [
        "![캡처.PNG](data:image/png;base64,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)"
      ],
      "metadata": {
        "id": "hSMUomGRb1Ww"
      }
    },
    {
      "cell_type": "markdown",
      "source": [
        "The top plot is non-stationary because it has a trend.\n",
        "\n",
        "The middle plot is non-stationary because the variance changes by time.\n",
        "\n",
        "**The bottom plot is stationary**"
      ],
      "metadata": {
        "id": "8Xs3EjrUb9KY"
      }
    },
    {
      "cell_type": "markdown",
      "source": [
        "### **Making time series stationary**"
      ],
      "metadata": {
        "id": "x96__IOsceCq"
      }
    },
    {
      "cell_type": "code",
      "source": [],
      "metadata": {
        "id": "Bq9bCszocQ-k"
      },
      "execution_count": null,
      "outputs": []
    },
    {
      "cell_type": "markdown",
      "source": [
        "## **Line Plots**"
      ],
      "metadata": {
        "id": "pNNOOHwHdWYf"
      }
    },
    {
      "cell_type": "code",
      "source": [
        "#Read Table\n",
        "\n",
        "# Import pandas\n",
        "import pandas as pd\n",
        "\n",
        "# Read in the file content in a DataFrame called discoveries\n",
        "discoveries = pd.read_csv(url_discoveries)\n",
        "\n",
        "# Display the first five lines of the DataFrame\n",
        "print(discoveries.head())"
      ],
      "metadata": {
        "id": "w7fM7zf8dhNh"
      },
      "execution_count": null,
      "outputs": []
    },
    {
      "cell_type": "code",
      "source": [
        "#Change class\n",
        "\n",
        "# Print the data type of each column in discoveries\n",
        "print(discoveries.dtypes)\n",
        "\n",
        "# Convert the date column to a datestamp type\n",
        "discoveries['date'] = pd.to_datetime(discoveries['date'])\n",
        "\n",
        "# Print the data type of each column in discoveries, again\n",
        "print(discoveries.dtypes)"
      ],
      "metadata": {
        "id": "Edkoew-UeNtl"
      },
      "execution_count": null,
      "outputs": []
    },
    {
      "cell_type": "markdown",
      "source": [
        "df = df.set_index()\n",
        "df.plot()\n",
        "plt.show()\n",
        "\n",
        "plt.style.use() #add style\n",
        "\n",
        "ax = df.plot(color=\"blue\", figsize, fontsize, linewidth, linestyle) #선이 파랗게\n",
        "\n",
        "ax.set_xlabel\n",
        "ax.set_ylabel\n",
        "ax.set_title\n"
      ],
      "metadata": {
        "id": "awrNiOTZebFZ"
      }
    },
    {
      "cell_type": "code",
      "source": [
        "#Plot에 조건 넣기\n",
        "\n",
        "# Set the date column as the index of your DataFrame discoveries\n",
        "discoveries = discoveries.set_index('date')\n",
        "\n",
        "# Plot the time series in your DataFrame\n",
        "ax = discoveries.plot(color = \"blue\")\n",
        "\n",
        "# Specify the x-axis label in your plot\n",
        "ax.set_xlabel('Date')\n",
        "\n",
        "# Specify the y-axis label in your plot\n",
        "ax.set_ylabel('Number of great discoveries')\n",
        "\n",
        "# Show plot\n",
        "plt.show()"
      ],
      "metadata": {
        "id": "MBy8ClsVeNzg"
      },
      "execution_count": null,
      "outputs": []
    },
    {
      "cell_type": "code",
      "source": [
        "# Import the matplotlib.pyplot sub-module\n",
        "import matplotlib.pyplot as plt\n",
        "\n",
        "# Use the fivethirtyeight style\n",
        "plt.style.use('fivethirtyeight')\n",
        "\n",
        "# Plot the time series\n",
        "ax1 = discoveries.plot()\n",
        "ax1.set_title('FiveThirtyEight Style')\n",
        "plt.show()"
      ],
      "metadata": {
        "id": "meAsey_LfXig"
      },
      "execution_count": null,
      "outputs": []
    },
    {
      "cell_type": "code",
      "source": [
        "# Import the matplotlib.pyplot sub-module\n",
        "import matplotlib.pyplot as plt\n",
        "\n",
        "# Use the ggplot style\n",
        "plt.style.use('ggplot')\n",
        "ax2 = discoveries.plot()\n",
        "\n",
        "# Set the title\n",
        "ax2.set_title('ggplot Style')\n",
        "plt.show()"
      ],
      "metadata": {
        "id": "InbxQUy5fjPN"
      },
      "execution_count": null,
      "outputs": []
    },
    {
      "cell_type": "code",
      "source": [
        "# Plot a line chart of the discoveries DataFrame using the specified arguments\n",
        "ax = discoveries.plot(color='blue', figsize=(8, 3), linewidth=2, fontsize=6)\n",
        "\n",
        "# Specify the title in your plot\n",
        "ax.set_title('Number of great inventions and scientific discoveries from 1860 to 1959', fontsize=8)\n",
        "\n",
        "# Show plot\n",
        "plt.show()"
      ],
      "metadata": {
        "id": "nuM2015CgBU7"
      },
      "execution_count": null,
      "outputs": []
    },
    {
      "cell_type": "markdown",
      "source": [
        "subset\n",
        "ax.axeline\n"
      ],
      "metadata": {
        "id": "CA_SMRf7fzoN"
      }
    },
    {
      "cell_type": "code",
      "source": [
        "# Subsetting\n",
        "\n",
        "# Select the subset of data between 1945 and 1950\n",
        "discoveries_subset_1 = discoveries['1945':'1950']\n",
        "\n",
        "# Plot the time series in your DataFrame as a blue area chart\n",
        "ax = discoveries_subset_1.plot(color='blue', fontsize=15)\n",
        "\n",
        "# Show plot\n",
        "plt.show()\n",
        "\n",
        "# Select the subset of data between 1939 and 1958\n",
        "discoveries_subset_2 = discoveries['1939':'1958']\n",
        "\n",
        "# Plot the time series in your DataFrame as a blue area chart\n",
        "ax = discoveries_subset_2.plot(color='blue', fontsize=15)\n",
        "\n",
        "# Show plot\n",
        "plt.show()"
      ],
      "metadata": {
        "id": "a8QF3bdxgcPW"
      },
      "execution_count": null,
      "outputs": []
    },
    {
      "cell_type": "code",
      "source": [
        "# Plot your the discoveries time series\n",
        "ax = discoveries.plot(color='blue', fontsize=6)\n",
        "\n",
        "# Add a red vertical line\n",
        "ax.axvline('1939-01-01', color='red', linestyle='--')\n",
        "\n",
        "# Add a green horizontal line\n",
        "ax.axhline(y = 4, color='green', linestyle='--')\n",
        "\n",
        "plt.show()"
      ],
      "metadata": {
        "id": "MBtpPzrIg--c"
      },
      "execution_count": null,
      "outputs": []
    },
    {
      "cell_type": "code",
      "source": [
        "# 영역색칠\n",
        "\n",
        "# Plot your the discoveries time series\n",
        "ax = discoveries.plot(color='blue', fontsize=6)\n",
        "\n",
        "# Add a vertical red shaded region\n",
        "ax.axvspan('1900-01-01', '1915-01-01', color='red', alpha=0.3)\n",
        "\n",
        "# Add a horizontal green shaded region\n",
        "ax.axhspan(6, 8, color='green', alpha=0.3)\n",
        "\n",
        "plt.show()"
      ],
      "metadata": {
        "id": "2DnRG2FdhZJH"
      },
      "execution_count": null,
      "outputs": []
    },
    {
      "cell_type": "markdown",
      "source": [
        "## Missing Values"
      ],
      "metadata": {
        "id": "Vvz9DU1r4bcZ"
      }
    },
    {
      "cell_type": "code",
      "source": [
        "# Display first seven rows of co2_levels\n",
        "print(co2_levels.head(7))\n",
        "\n",
        "# Set datestamp column as index\n",
        "co2_levels = co2_levels.set_index('datestamp')\n",
        "\n",
        "# Print out the number of missing values\n",
        "print(co2_levels.isnull().sum())\n",
        "\n",
        "# Impute missing values with the next valid observation\n",
        "co2_levels = co2_levels.fillna(method='backfill')\n",
        "\n",
        "# Print out the number of missing values\n",
        "print(co2_levels.isnull().sum())\n"
      ],
      "metadata": {
        "id": "RBYnuw564c_o"
      },
      "execution_count": null,
      "outputs": []
    },
    {
      "cell_type": "markdown",
      "source": [
        "data.rolling(window=52).mean()\n",
        "\n",
        "data.plot()"
      ],
      "metadata": {
        "id": "bkToiMTg5TUI"
      }
    },
    {
      "cell_type": "code",
      "source": [
        "# Compute the 52 weeks rolling mean of the co2_levels DataFrame\n",
        "ma = co2_levels.rolling(window=52).mean()\n",
        "\n",
        "# Compute the 52 weeks rolling standard deviation of the co2_levels DataFrame\n",
        "mstd = co2_levels.rolling(window=52).std()\n",
        "\n",
        "# Add the upper bound column to the ma DataFrame\n",
        "ma['upper'] = ma['co2'] + (2 * mstd['co2'])\n",
        "\n",
        "# Add the lower bound column to the ma DataFrame\n",
        "ma['lower'] = ma['co2'] - (2 * mstd['co2'])\n",
        "\n",
        "# Plot the content of the ma DataFrame\n",
        "ax = ma.plot(linewidth=0.8, fontsize=6)\n",
        "\n",
        "# Specify labels, legend, and show the plot\n",
        "ax.set_xlabel('Date', fontsize=10)\n",
        "ax.set_ylabel('CO2 levels in Mauai Hawaii', fontsize=10)\n",
        "ax.set_title('Rolling mean and variance of CO2 levels\\nin Mauai Hawaii from 1958 to 2001', fontsize=10)\n",
        "plt.show()"
      ],
      "metadata": {
        "id": "Cind6l3q5d5N"
      },
      "execution_count": null,
      "outputs": []
    },
    {
      "cell_type": "code",
      "source": [
        "# Get month for each dates in the index of co2_levels\n",
        "index_month = co2_levels.index.month\n",
        "\n",
        "# Compute the mean CO2 levels for each month of the year\n",
        "mean_co2_levels_by_month = co2_levels.groupby(index_month).mean()\n",
        "\n",
        "# Plot the mean CO2 levels for each month of the year\n",
        "mean_co2_levels_by_month.plot(fontsize=6)\n",
        "\n",
        "# Specify the fontsize on the legend\n",
        "plt.legend(fontsize=10)\n",
        "\n",
        "# Show plot\n",
        "plt.show()"
      ],
      "metadata": {
        "id": "EGeWvCSa7El6"
      },
      "execution_count": null,
      "outputs": []
    },
    {
      "cell_type": "markdown",
      "source": [
        "df.describe() #key statistics\n",
        "df.boxplot()\n",
        "df.plot(type='hist', 'density', ...)"
      ],
      "metadata": {
        "id": "ilTS45Q27Ima"
      }
    },
    {
      "cell_type": "code",
      "source": [
        "# Print out summary statistics of the co2_levels DataFrame\n",
        "print(co2_levels.describe())\n",
        "\n",
        "# Print out the minima of the co2 column in the co2_levels DataFrame\n",
        "print(co2_levels['co2'].min())\n",
        "\n",
        "# Print out the maxima of the co2 column in the co2_levels DataFrame\n",
        "print(co2_levels['co2'].max())"
      ],
      "metadata": {
        "id": "eEjKgXi871si"
      },
      "execution_count": null,
      "outputs": []
    },
    {
      "cell_type": "code",
      "source": [
        "# Generate a boxplot\n",
        "ax = co2_levels.boxplot()\n",
        "\n",
        "# Set the labels and display the plot\n",
        "ax.set_xlabel('CO2', fontsize=10)\n",
        "ax.set_ylabel('Boxplot CO2 levels in Maui Hawaii', fontsize=10)\n",
        "plt.legend(fontsize=10)\n",
        "plt.show()"
      ],
      "metadata": {
        "id": "hNGsjJn58Ag_"
      },
      "execution_count": null,
      "outputs": []
    },
    {
      "cell_type": "code",
      "source": [
        "# Generate a histogram\n",
        "ax = co2_levels.plot(kind='hist', bins=50, fontsize=6)\n",
        "\n",
        "# Set the labels and display the plot\n",
        "ax.set_xlabel('CO2', fontsize=10)\n",
        "ax.set_ylabel('Histogram of CO2 levels in Maui Hawaii', fontsize=10)\n",
        "plt.legend(fontsize=10)\n",
        "plt.show()"
      ],
      "metadata": {
        "id": "P01kQYgB8BLa"
      },
      "execution_count": null,
      "outputs": []
    },
    {
      "cell_type": "code",
      "source": [
        "# Display density plot of CO2 levels values\n",
        "ax = co2_levels.plot(kind='density', linewidth=4, fontsize=6)\n",
        "\n",
        "# Annotate x-axis labels\n",
        "ax.set_xlabel('CO2', fontsize=10)\n",
        "\n",
        "# Annotate y-axis labels\n",
        "ax.set_ylabel('Density plot of CO2 levels in Maui Hawaii', fontsize=10)\n",
        "\n",
        "plt.show()"
      ],
      "metadata": {
        "id": "AcCgBLJf8hom"
      },
      "execution_count": null,
      "outputs": []
    },
    {
      "cell_type": "markdown",
      "source": [
        "## **Autocorrelation and Partial ac**"
      ],
      "metadata": {
        "id": "BvEJlBj08mKz"
      }
    },
    {
      "cell_type": "markdown",
      "source": [
        "from statsmodels.graphics import tsaplots\n",
        "tsaplots.plot_acf( , lags)"
      ],
      "metadata": {
        "id": "Ps0QyICQ8s0g"
      }
    },
    {
      "cell_type": "code",
      "source": [
        "#ACF\n",
        "\n",
        "# Import required libraries\n",
        "import matplotlib.pyplot as plt\n",
        "plt.style.use('fivethirtyeight')\n",
        "from statsmodels.graphics import tsaplots\n",
        "\n",
        "# Display the autocorrelation plot of your time series\n",
        "fig = tsaplots.plot_acf(co2_levels['co2'], lags=24)\n",
        "\n",
        "# Show plot\n",
        "plt.show()"
      ],
      "metadata": {
        "id": "HYjqXSLH8qC1"
      },
      "execution_count": null,
      "outputs": []
    },
    {
      "cell_type": "markdown",
      "source": [
        "If acf plot -> does not decrease, and over the se interval, -> highly correlated, stastically significant"
      ],
      "metadata": {
        "id": "_dCRX0wUYI6V"
      }
    },
    {
      "cell_type": "code",
      "source": [
        "#PACF\n",
        "\n",
        "# Import required libraries\n",
        "import matplotlib.pyplot as plt\n",
        "plt.style.use('fivethirtyeight')\n",
        "from statsmodels.graphics import tsaplots\n",
        "\n",
        "# Display the partial autocorrelation plot of your time series\n",
        "fig = tsaplots.plot_pacf(co2_levels['co2'], lags=24)\n",
        "\n",
        "# Show plot\n",
        "plt.show()"
      ],
      "metadata": {
        "id": "OOlxItzuYSX5"
      },
      "execution_count": null,
      "outputs": []
    },
    {
      "cell_type": "markdown",
      "source": [
        "By looking at pacf -> lag values that have high graph -> possible lag value\n",
        "\n",
        "import statsmodels.api as sm\n",
        "\n",
        "import matplotlib.pyplot as plt\n",
        "\n",
        "from pylab import rcParams\n",
        "\n",
        "data.tsa.seasonal_decompose()"
      ],
      "metadata": {
        "id": "CKeBkcqEYiG0"
      }
    },
    {
      "cell_type": "code",
      "source": [
        "# Import statsmodels.api as sm\n",
        "import statsmodels.api as sm\n",
        "\n",
        "# Perform time series decompositon\n",
        "decomposition = sm.tsa.seasonal_decompose(co2_levels)\n",
        "\n",
        "# Print the seasonality component\n",
        "print(decomposition.seasonal)\n",
        "\n",
        "# Extract the trend component\n",
        "trend = decomposition.trend\n",
        "\n",
        "# Plot the values of the trend\n",
        "ax = trend.plot(figsize=(12, 6), fontsize=6)\n",
        "\n",
        "# Specify axis labels\n",
        "ax.set_xlabel('Date', fontsize=10)\n",
        "ax.set_title('Seasonal component the CO2 time-series', fontsize=10)\n",
        "plt.show()"
      ],
      "metadata": {
        "id": "JOrUBWeDYbNV"
      },
      "execution_count": null,
      "outputs": []
    },
    {
      "cell_type": "code",
      "source": [
        "# Plot the time series in your DataFrame\n",
        "ax = airline.plot(color = \"blue\", fontsize=12)\n",
        "\n",
        "# Add a red vertical line at the date 1955-12-01\n",
        "ax.axvline('1955-12-01', color='red', linestyle='--')\n",
        "\n",
        "# Specify the labels in your plot\n",
        "ax.set_xlabel('Date', fontsize=12)\n",
        "ax.set_ylabel('Number of Monthly Airline Passengers', fontsize=12)\n",
        "ax.set_title(\"Number of Monthly Airline Passengers\")\n",
        "plt.show()"
      ],
      "metadata": {
        "id": "Gnx_TVHyZVIi"
      },
      "execution_count": null,
      "outputs": []
    },
    {
      "cell_type": "code",
      "source": [
        "# Print out the number of missing values\n",
        "print(airline.isnull().sum())\n",
        "\n",
        "# Print out summary statistics of the airline DataFrame\n",
        "print(airline.describe())\n",
        "\n",
        "# Display boxplot of airline values\n",
        "ax = airline.boxplot()\n",
        "\n",
        "# Specify the title of your plot\n",
        "ax.set_title('Boxplot of Monthly Airline\\nPassengers Count', fontsize=20)\n",
        "plt.show()\n",
        "\n",
        "# Get month for each dates from the index of airline\n",
        "index_month = airline.index.month\n",
        "\n",
        "# Compute the mean number of passengers for each month of the year\n",
        "mean_airline_by_month = airline.groupby(index_month).mean()\n",
        "\n",
        "# Plot the mean number of passengers for each month of the year\n",
        "mean_airline_by_month.plot()\n",
        "plt.legend(fontsize=20)\n",
        "plt.show()"
      ],
      "metadata": {
        "id": "EXWePMnaha0b"
      },
      "execution_count": null,
      "outputs": []
    },
    {
      "cell_type": "code",
      "source": [
        "# Import statsmodels.api as sm\n",
        "import statsmodels.api as sm\n",
        "\n",
        "# Perform time series decompositon\n",
        "decomposition = sm.tsa.seasonal_decompose(airline)\n",
        "\n",
        "# Extract the trend and seasonal components\n",
        "trend = decomposition.trend\n",
        "seasonal = decomposition.seasonal\n",
        "\n",
        "# Print the first 5 rows of airline_decomposed\n",
        "print(airline_decomposed.head(5))\n",
        "\n",
        "# Plot the values of the airline_decomposed DataFrame\n",
        "ax = airline_decomposed.plot(figsize=(12, 6), fontsize=15)\n",
        "\n",
        "# Specify axis labels\n",
        "ax.set_xlabel('Date', fontsize=15)\n",
        "plt.legend(fontsize=15)\n",
        "plt.show()"
      ],
      "metadata": {
        "id": "9_mSpsDrhsO2"
      },
      "execution_count": null,
      "outputs": []
    },
    {
      "cell_type": "markdown",
      "source": [
        "# **Multiple Time Series**"
      ],
      "metadata": {
        "id": "Vb6uMyMUh4wu"
      }
    },
    {
      "cell_type": "markdown",
      "source": [
        "df.plot.area #area chart"
      ],
      "metadata": {
        "id": "PmOnuUBDiEjJ"
      }
    },
    {
      "cell_type": "code",
      "source": [
        "## Area chart\n",
        "\n",
        "# Read in meat DataFrame\n",
        "meat = pd.read_csv(url_meat)\n",
        "\n",
        "# Review the first five lines of the meat DataFrame\n",
        "print(meat.head(5))\n",
        "\n",
        "# Convert the date column to a datestamp type\n",
        "meat['date'] = pd.to_datetime(meat['date'])\n",
        "\n",
        "# Set the date column as the index of your DataFrame meat\n",
        "meat = meat.set_index('date')\n",
        "\n",
        "# Print the summary statistics of the DataFrame\n",
        "print(meat.describe())"
      ],
      "metadata": {
        "id": "MLX0F3tTh2Ry"
      },
      "execution_count": null,
      "outputs": []
    },
    {
      "cell_type": "code",
      "source": [
        "# Plot an area chart\n",
        "ax = meat.plot.area(fontsize=12)\n",
        "\n",
        "# Additional customizations\n",
        "ax.set_xlabel('Date')\n",
        "ax.legend(fontsize=15)\n",
        "\n",
        "# Show plot\n",
        "plt.show()"
      ],
      "metadata": {
        "id": "tdvfnMNQi-Y6"
      },
      "execution_count": null,
      "outputs": []
    },
    {
      "cell_type": "markdown",
      "source": [
        "matplotlib - 배경색 고려 x, 파란색 중복으로 나타나는 그래프 문제"
      ],
      "metadata": {
        "id": "SrUAPZXHjT_C"
      }
    },
    {
      "cell_type": "code",
      "source": [
        "## Palette 1\n",
        "\n",
        "# Plot time series dataset using the cubehelix color palette\n",
        "ax = meat.plot(colormap='cubehelix', fontsize=15)\n",
        "\n",
        "# Additional customizations\n",
        "ax.set_xlabel('Date')\n",
        "ax.legend(fontsize=18)\n",
        "\n",
        "# Show plot\n",
        "plt.show()"
      ],
      "metadata": {
        "id": "6sN9HrjpjTX-"
      },
      "execution_count": null,
      "outputs": []
    },
    {
      "cell_type": "code",
      "source": [
        "## Palette 2\n",
        "\n",
        "# Plot time series dataset using the PuOr color palette\n",
        "ax = meat.plot(colormap = 'PuOr', fontsize=15)\n",
        "\n",
        "# Additional customizations\n",
        "ax.set_xlabel('Date')\n",
        "ax.legend(fontsize=18)\n",
        "\n",
        "# Show plot\n",
        "plt.show()"
      ],
      "metadata": {
        "id": "FjMxFX_84VIf"
      },
      "execution_count": null,
      "outputs": []
    },
    {
      "cell_type": "code",
      "source": [
        "# Plot the meat data\n",
        "ax = meat.plot(fontsize=6, linewidth=1)\n",
        "\n",
        "# Add x-axis labels\n",
        "ax.set_xlabel('Date', fontsize=6)\n",
        "\n",
        "# Add summary table information to the plot\n",
        "ax.table(cellText=meat_mean.values,\n",
        "         colWidths = [0.15]*len(meat_mean.columns),\n",
        "         rowLabels=meat_mean.index,\n",
        "         colLabels=meat_mean.columns,\n",
        "         loc='top')\n",
        "\n",
        "# Specify the fontsize and location of your legend\n",
        "ax.legend(loc='upper center', bbox_to_anchor=(0.5, 0.95), ncol=3, fontsize=6)\n",
        "\n",
        "# Show plot\n",
        "plt.show()"
      ],
      "metadata": {
        "id": "KcUKxkcK49td"
      },
      "execution_count": null,
      "outputs": []
    },
    {
      "cell_type": "code",
      "source": [
        "# Create a facetted graph with 2 rows and 4 columns, not sharing the axis\n",
        "meat.plot(subplots=True,\n",
        "          layout=(2,4),\n",
        "          sharex=False,\n",
        "          sharey=False,\n",
        "          colormap='viridis',\n",
        "          fontsize=2,\n",
        "          legend=False,\n",
        "          linewidth=0.2)\n",
        "\n",
        "plt.show()"
      ],
      "metadata": {
        "id": "tlDbnya45MUN"
      },
      "execution_count": null,
      "outputs": []
    },
    {
      "cell_type": "markdown",
      "source": [
        "#### Relationships between multiple time series"
      ],
      "metadata": {
        "id": "xW2G1q9y5T1t"
      }
    },
    {
      "cell_type": "markdown",
      "source": [
        "from scipy.stats.stats import pearsonr\n",
        "import spearmanr\n",
        "import kendalltau\n",
        "\n",
        "#모두 상관관계 반환\n",
        "array.corr\n",
        "\n",
        "#heatmap\n",
        "import seaborn as sns\n",
        "sns.heatmap(corr_mat)"
      ],
      "metadata": {
        "id": "ZmjzxpXgBRER"
      }
    },
    {
      "cell_type": "code",
      "source": [
        "# Import seaborn library\n",
        "import seaborn as sns\n",
        "\n",
        "# Get correlation matrix of the meat DataFrame: corr_meat\n",
        "corr_meat = meat.corr(method='spearman')\n",
        "\n",
        "# Customize the heatmap of the corr_meat correlation matrix\n",
        "sns.heatmap(corr_meat,\n",
        "            annot=True,\n",
        "            linewidths=0.4,\n",
        "            annot_kws={\"size\": 10})\n",
        "\n",
        "plt.xticks(rotation=90)\n",
        "plt.yticks(rotation=0)\n",
        "plt.show()"
      ],
      "metadata": {
        "id": "AtNO-8w75X03"
      },
      "execution_count": null,
      "outputs": []
    },
    {
      "cell_type": "code",
      "source": [
        "# Import seaborn library\n",
        "import seaborn as sns\n",
        "\n",
        "# Get correlation matrix of the meat DataFrame\n",
        "corr_meat = meat.corr(method = 'pearson')\n",
        "\n",
        "# Customize the heatmap of the corr_meat correlation matrix and rotate the x-axis labels\n",
        "fig = sns.clustermap(corr_meat,\n",
        "                     row_cluster=True,\n",
        "                     col_cluster=True,\n",
        "                     figsize=(10, 10))\n",
        "\n",
        "plt.setp(fig.ax_heatmap.xaxis.get_majorticklabels(), rotation=90)\n",
        "plt.setp(fig.ax_heatmap.yaxis.get_majorticklabels(), rotation=0)\n",
        "plt.show()"
      ],
      "metadata": {
        "id": "GqwOoOT9CsxO"
      },
      "execution_count": null,
      "outputs": []
    },
    {
      "cell_type": "markdown",
      "source": [
        "# **Other Cases**"
      ],
      "metadata": {
        "id": "9rXc9DpfEKIo"
      }
    },
    {
      "cell_type": "code",
      "source": [
        "# Read in jobs file\n",
        "jobs = pd.read_csv(url_jobs)\n",
        "\n",
        "# Print first five lines of your DataFrame\n",
        "print(jobs.head(5))\n",
        "\n",
        "# Check the type of each column in your DataFrame\n",
        "print(jobs.dtypes)\n",
        "\n",
        "# Convert datestamp column to a datetime object\n",
        "jobs['datestamp'] = pd.to_datetime(jobs['datestamp'])\n",
        "\n",
        "# Set the datestamp columns as the index of your DataFrame\n",
        "jobs = jobs.set_index('datestamp')\n",
        "\n",
        "# Check the number of missing values in each column\n",
        "print(jobs.isnull().sum())"
      ],
      "metadata": {
        "id": "YCB0euiNCtcc"
      },
      "execution_count": null,
      "outputs": []
    },
    {
      "cell_type": "code",
      "source": [
        "# Generate a boxplot\n",
        "jobs.boxplot(fontsize=6, vert=False)\n",
        "plt.show()\n",
        "\n",
        "# Generate numerical summaries\n",
        "print(jobs.describe())\n",
        "\n",
        "# Print the name of the time series with the highest mean\n",
        "print('Agriculture')\n",
        "\n",
        "# Print the name of the time series with the highest variability\n",
        "print('Construction')"
      ],
      "metadata": {
        "id": "5REtXWpqEOhb"
      },
      "execution_count": null,
      "outputs": []
    },
    {
      "cell_type": "markdown",
      "source": [],
      "metadata": {
        "id": "V_-vly3TFBvI"
      }
    },
    {
      "cell_type": "code",
      "source": [
        "# A subset of the jobs DataFrame\n",
        "jobs_subset = jobs[['Finance', 'Information', 'Manufacturing', 'Construction']]\n",
        "\n",
        "# Print the first 5 rows of jobs_subset\n",
        "print(jobs_subset.head(5))\n",
        "\n",
        "# Create a facetted graph with 2 rows and 2 columns\n",
        "ax = jobs_subset.plot(subplots=True,\n",
        "                      layout=(2,2),\n",
        "                      sharex=False,\n",
        "                      sharey=False,\n",
        "                      linewidth=0.7,\n",
        "                      fontsize=3,\n",
        "                      legend=False)\n",
        "\n",
        "plt.show()"
      ],
      "metadata": {
        "id": "_e3pc7o-FApt"
      },
      "execution_count": null,
      "outputs": []
    },
    {
      "cell_type": "code",
      "source": [
        "# A subset of the jobs DataFrame\n",
        "jobs_subset = jobs[['Finance', 'Information', 'Manufacturing', 'Construction']]\n",
        "\n",
        "# Print the first 5 rows of jobs_subset\n",
        "print(jobs_subset.head(5))\n",
        "\n",
        "# Create a facetted graph with 2 rows and 2 columns\n",
        "ax = jobs_subset.plot(subplots=True,\n",
        "                      layout=(2,2),\n",
        "                      sharex=False,\n",
        "                      sharey=False,\n",
        "                      linewidth=0.7,\n",
        "                      fontsize=3,\n",
        "                      legend=False)\n",
        "\n",
        "plt.show()"
      ],
      "metadata": {
        "id": "tZ9A-OxtFx-n"
      },
      "execution_count": null,
      "outputs": []
    },
    {
      "cell_type": "code",
      "source": [
        "# Plot all time series in the jobs DataFrame\n",
        "ax = jobs.plot(colormap='Spectral', fontsize=6, linewidth=0.8)\n",
        "\n",
        "# Set labels and legend\n",
        "ax.set_xlabel('Date', fontsize=10)\n",
        "ax.set_ylabel('Unemployment Rate', fontsize=10)\n",
        "ax.set_title('Unemployment rate of U.S. workers by industry', fontsize=10)\n",
        "ax.legend(loc='center left', bbox_to_anchor=(1.0, 0.5))\n",
        "\n",
        "# Annotate your plots with vertical lines\n",
        "ax.axvline('2001-07-01', color='blue', linestyle='--', linewidth=0.8)\n",
        "ax.axvline('2008-09-01', color='blue', linestyle='--', linewidth=0.8)\n",
        "\n",
        "# Show plot\n",
        "plt.show()"
      ],
      "metadata": {
        "id": "IChwpcM3Gcim"
      },
      "execution_count": null,
      "outputs": []
    },
    {
      "cell_type": "code",
      "source": [
        "# Extract the month from the index of jobs\n",
        "index_month = jobs.index.month\n",
        "\n",
        "# Compute the mean unemployment rate for each month\n",
        "jobs_by_month = jobs.groupby(index_month).mean()\n",
        "\n",
        "# Plot the mean unemployment rate for each month\n",
        "ax = jobs_by_month.plot(fontsize=6, linewidth=1)\n",
        "\n",
        "# Set axis labels and legend\n",
        "ax.set_xlabel('Month', fontsize=10)\n",
        "ax.set_ylabel('Mean unemployment rate', fontsize=10)\n",
        "ax.legend(bbox_to_anchor=(0.8, 0.6), fontsize=10)\n",
        "plt.show()"
      ],
      "metadata": {
        "id": "OycHXAPl6P1j"
      },
      "execution_count": null,
      "outputs": []
    },
    {
      "cell_type": "code",
      "source": [
        "# Extract of the year in each date indices of the jobs DataFrame\n",
        "index_year = jobs.index.year\n",
        "\n",
        "# Compute the mean unemployment rate for each year\n",
        "jobs_by_year = jobs.groupby(index_year).mean()\n",
        "\n",
        "# Plot the mean unemployment rate for each year\n",
        "ax = jobs_by_year.plot(fontsize=6, linewidth=1)\n",
        "\n",
        "# Set axis labels and legend\n",
        "ax.set_xlabel('Year', fontsize=10)\n",
        "ax.set_ylabel('Mean unemployment rate', fontsize=10)\n",
        "ax.legend(bbox_to_anchor=(0.1, 0.5), fontsize=10)\n",
        "plt.show()"
      ],
      "metadata": {
        "id": "6mbl1WtN6Q71"
      },
      "execution_count": null,
      "outputs": []
    },
    {
      "cell_type": "markdown",
      "source": [
        "use python dictionaries"
      ],
      "metadata": {
        "id": "wBR0bBRu6gr7"
      }
    },
    {
      "cell_type": "code",
      "source": [
        "# Initialize dictionary\n",
        "jobs_decomp = {}\n",
        "\n",
        "# Get the names of each time series in the DataFrame\n",
        "jobs_names = jobs.columns\n",
        "\n",
        "# Run time series decomposition on each time series of the DataFrame\n",
        "for ts in jobs_names:\n",
        "    ts_decomposition = sm.tsa.seasonal_decompose(jobs[ts])\n",
        "    jobs_decomp[ts] = ts_decomposition"
      ],
      "metadata": {
        "id": "OUo6z2pt6rs8"
      },
      "execution_count": null,
      "outputs": []
    },
    {
      "cell_type": "code",
      "source": [
        "# Extract the seasonal values for the decomposition of each time series\n",
        "for ts in jobs_names:\n",
        "    jobs_seasonal[ts] = jobs_decomp[ts].seasonal\n",
        "\n",
        "# Create a DataFrame from the jobs_seasonal dictionary\n",
        "seasonality_df = pd.DataFrame.from_dict(jobs_seasonal)\n",
        "\n",
        "# Remove the label for the index\n",
        "seasonality_df.index.name = None\n",
        "\n",
        "# Create a faceted plot of the seasonality_df DataFrame\n",
        "seasonality_df.plot(subplots=True,\n",
        "                   layout=(4, 4),\n",
        "                   sharey=False,\n",
        "                   fontsize=2,\n",
        "                   linewidth=0.3,\n",
        "                   legend=False)\n",
        "\n",
        "# Show plot\n",
        "plt.show()"
      ],
      "metadata": {
        "id": "aBdVo8_n7f3L"
      },
      "execution_count": null,
      "outputs": []
    },
    {
      "cell_type": "code",
      "source": [
        "# Get correlation matrix of the seasonality_df DataFrame\n",
        "seasonality_corr = seasonality_df.corr(method='spearman')\n",
        "\n",
        "# Customize the clustermap of the seasonality_corr correlation matrix\n",
        "fig = sns.clustermap(seasonality_corr, annot=True, annot_kws={\"size\": 4}, linewidths=.4, figsize=(15, 10))\n",
        "plt.setp(fig.ax_heatmap.yaxis.get_majorticklabels(), rotation=0)\n",
        "plt.setp(fig.ax_heatmap.xaxis.get_majorticklabels(), rotation=90)\n",
        "plt.show()\n",
        "\n",
        "# Print the correlation between the seasonalities of the Government and Education & Health industries\n",
        "print(0.89)"
      ],
      "metadata": {
        "id": "b4n0GRLV7gxT"
      },
      "execution_count": null,
      "outputs": []
    }
  ]
}