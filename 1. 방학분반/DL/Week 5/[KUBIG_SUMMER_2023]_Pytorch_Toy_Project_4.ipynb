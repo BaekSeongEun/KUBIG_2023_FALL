{
  "nbformat": 4,
  "nbformat_minor": 0,
  "metadata": {
    "colab": {
      "provenance": []
    },
    "kernelspec": {
      "name": "python3",
      "display_name": "Python 3"
    },
    "language_info": {
      "name": "python"
    }
  },
  "cells": [
    {
      "cell_type": "markdown",
      "source": [
        "#Week 5 Pytorch Toy Project 4\n",
        "\n",
        "Pytorch Trainer (by imjjun 16th)\n",
        "\n",
        "---\n",
        "\n",
        "According to the last pytorch toy project, we have just learned how to make customized dataset(dataloader), own model and basic training code!\n",
        "\n",
        "On this notebook, we would learn some tips to train our own models which are:\n",
        "\n",
        "- TensorboardX\n",
        "\n",
        "- Weights & biases\n",
        "\n",
        "Also, You would implement whole pipeline of Deep Learning with Pytorch, and the main model might be the RNN!"
      ],
      "metadata": {
        "id": "g67h2Kn8SA-C"
      }
    },
    {
      "cell_type": "markdown",
      "source": [
        "##1. TensorboardX\n",
        "\n",
        "Tensorboard is a visualization tool of training for Pytorch(& tensorflow). You could visualize the loss, Accuracy on train/valid/test dataset. We could get many insights through this useful tool & We don't need to implement some graphs with `matplotlib` library individually. Let's put into use intuitively."
      ],
      "metadata": {
        "id": "PywbtcIvVJFy"
      }
    },
    {
      "cell_type": "code",
      "source": [
        "#Primarily, pre-define the whole network which was just implemented on 2nd week assignment & some methods\n",
        "\n",
        "import torch\n",
        "import torchvision\n",
        "from torch import nn\n",
        "from torch.utils.data import DataLoader\n",
        "from torchvision import datasets\n",
        "from torchvision.transforms import ToTensor\n",
        "import matplotlib.pyplot as plt\n",
        "import numpy as np\n",
        "\n",
        "def matplotlib_imshow(img, one_channel=False):\n",
        "    if one_channel:\n",
        "        img = img.mean(dim=0)\n",
        "    img = img / 2 + 0.5\n",
        "    npimg = img.numpy()\n",
        "    if one_channel:\n",
        "        plt.imshow(npimg, cmap=\"Greys\")\n",
        "    else:\n",
        "        plt.imshow(np.transpose(npimg, (1, 2, 0)))\n",
        "\n",
        "classes = ('T-shirt/top', 'Trouser', 'Pullover', 'Dress', 'Coat',\n",
        "        'Sandal', 'Shirt', 'Sneaker', 'Bag', 'Ankle Boot')\n",
        "\n",
        "training_data = datasets.FashionMNIST(\n",
        "    root=\"data\",\n",
        "    train=True,\n",
        "    download=True,\n",
        "    transform=ToTensor()\n",
        ")\n",
        "\n",
        "test_data = datasets.FashionMNIST(\n",
        "    root=\"data\",\n",
        "    train=False,\n",
        "    download=True,\n",
        "    transform=ToTensor()\n",
        ")\n",
        "\n",
        "train_dataloader = DataLoader(training_data, batch_size=64)\n",
        "test_dataloader = DataLoader(test_data, batch_size=64)\n",
        "\n",
        "class examplenet(nn.Module):\n",
        "    def __init__(self):\n",
        "        super().__init__()\n",
        "        self.flatten = nn.Flatten()\n",
        "        self.linear=nn.Linear(28*28, 10)\n",
        "        self.softmax=nn.Softmax()\n",
        "\n",
        "    def forward(self, x):\n",
        "        x = self.flatten(x)\n",
        "        x = self.linear(x)\n",
        "        x = self.softmax(x)\n",
        "\n",
        "        return x\n",
        "\n",
        "model = examplenet()\n",
        "\n",
        "#If we wanna revise your hyperparameters, we could just do that.\n",
        "learning_rate = 1e-3\n",
        "loss = nn.CrossEntropyLoss()\n",
        "optimizer = torch.optim.SGD(model.parameters(), lr=learning_rate)"
      ],
      "metadata": {
        "id": "QpszCPypWHkq"
      },
      "execution_count": null,
      "outputs": []
    },
    {
      "cell_type": "markdown",
      "source": [
        "##1. TensorboardX\n",
        "\n",
        "We would set-up & write the tensorboard while training. After that, we could finally obtain some visualized results so that we could get some inspections of our model like 'Where is the flaw of our model?'\n",
        "\n",
        "This automated tool is quite so strong that we could adjust this tool wherever pytorch exists. It would be more comfortable to use pytorch than before."
      ],
      "metadata": {
        "id": "K-KUfcSTXPHh"
      }
    },
    {
      "cell_type": "code",
      "source": [
        "#1 Tensorboard Setup\n",
        "from torch.utils.tensorboard import SummaryWriter\n",
        "\n",
        "# original directory of tensorboard is 'runs' but we could revise this directory such as 'runs/experiment1'\n",
        "# If you wanna make many experiments with one model, making such directories is strongly recommended since you have to make lots of tensorboard afterward.\n",
        "writer = SummaryWriter('runs/experiment1')"
      ],
      "metadata": {
        "id": "8j7m1FRoXO2o"
      },
      "execution_count": null,
      "outputs": []
    },
    {
      "cell_type": "code",
      "source": [
        "# +) Image Uploading\n",
        "\n",
        "dataiter = iter(train_dataloader)\n",
        "images, labels = next(dataiter)\n",
        "\n",
        "# 이미지 그리드를 만듭니다.\n",
        "img_grid = torchvision.utils.make_grid(images)\n",
        "\n",
        "# 이미지를 보여줍니다.\n",
        "matplotlib_imshow(img_grid, one_channel=True)\n",
        "\n",
        "# tensorboard에 기록합니다.\n",
        "writer.add_image('Images on Dataset', img_grid)"
      ],
      "metadata": {
        "id": "6ezVi2J4Yim4"
      },
      "execution_count": null,
      "outputs": []
    },
    {
      "cell_type": "code",
      "source": [
        "#2 Write the model on Tensorboard\n",
        "#You could visulaize your Artificial network on Tensorboard\n",
        "#Plz refer to below code\n",
        "\n",
        "writer.add_graph(model, images)\n",
        "writer.close()"
      ],
      "metadata": {
        "id": "YU3uPXXWZLhX"
      },
      "execution_count": null,
      "outputs": []
    },
    {
      "cell_type": "markdown",
      "source": [
        "You must focus on this part: \"trainer\". Tensorboard must be added to this part. So carefully watch which part was changed."
      ],
      "metadata": {
        "id": "QWlvjQakW3O5"
      }
    },
    {
      "cell_type": "code",
      "source": [
        "#3 Track the loss of model on Tensorboard\n",
        "\n",
        "def train_loop(dataloader, model, loss_fn, optimizer):\n",
        "    size = len(dataloader.dataset)\n",
        "    model.train()\n",
        "    for batch, (X, y) in enumerate(dataloader):\n",
        "\n",
        "        pred = model(X)\n",
        "        loss = loss_fn(pred, y)\n",
        "\n",
        "        optimizer.zero_grad()\n",
        "        loss.backward()\n",
        "        optimizer.step()\n",
        "\n",
        "\n",
        "        if batch % 100 == 0:\n",
        "            loss, current = loss.item(), (batch + 1) * len(X)\n",
        "            print(f\"loss: {loss:>7f}  [{current:>5d}/{size:>5d}]\")\n",
        "\n",
        "            writer.add_scalar('training loss',\n",
        "                            loss,\n",
        "                            (batch + 1) * len(X))\n",
        "            #We could add the scalar of loss so that we could finally visulaize the loss plot on tensorboard\n"
      ],
      "metadata": {
        "id": "pohW7MQiW0S6"
      },
      "execution_count": null,
      "outputs": []
    },
    {
      "cell_type": "markdown",
      "source": [
        "Run this code so that you could check the visualized loss plot"
      ],
      "metadata": {
        "id": "GO6vVURdHJpT"
      }
    },
    {
      "cell_type": "code",
      "source": [
        "epochs = 10\n",
        "for t in range(epochs):\n",
        "    print(f\"Epoch {t+1}\\n-------------------------------\")\n",
        "    train_loop(train_dataloader, model, loss, optimizer)\n",
        "   #test_loop(test_dataloader, model, loss)\n",
        "print(\"Done!\")"
      ],
      "metadata": {
        "id": "47uFcx3aG4t8"
      },
      "execution_count": null,
      "outputs": []
    },
    {
      "cell_type": "markdown",
      "source": [
        "From now on, you can access the website, which would be shown below like: http://localhost:####.\n",
        "\n",
        "Then, you could see whole results quickly :) If we add more scalars such as ValidLoss or Test loss and some evaluation metrics, we could enjoy more visualized insights as much as possible!"
      ],
      "metadata": {
        "id": "XwRAOTR6GrZT"
      }
    },
    {
      "cell_type": "code",
      "source": [
        "%load_ext tensorboard #For colab #If you run this notebook in local, you don't need to make up this code. Just use the below code\n",
        "%tensorboard --logdir=runs/experiment1 #You have to assign the directory of tensorboard"
      ],
      "metadata": {
        "id": "kxDdTrT5GidE"
      },
      "execution_count": null,
      "outputs": []
    },
    {
      "cell_type": "markdown",
      "source": [
        "#2 Weight & Biases (WandB)\n",
        "\n",
        "This is an online platform for Deep learning Training. Additionally, it stores some artifacts(i.e. weights) so that we don't need to store your weights by ourselves.\n",
        "\n",
        "Weight storing(checkpoint) is very important since there are lots of case to be an optimal case. Training forever doesn't guarantee performace-up. Therefore, using WandB might be an another solution to get some insights & pre-trained weights either."
      ],
      "metadata": {
        "id": "ZhvNMVV4HRN7"
      }
    },
    {
      "cell_type": "code",
      "source": [
        "#Install wandb\n",
        "!pip install wandb"
      ],
      "metadata": {
        "id": "RT61hfdRJQmQ"
      },
      "execution_count": null,
      "outputs": []
    },
    {
      "cell_type": "markdown",
      "source": [
        "For below cell, we have to sign up for Wandb official website & copy-paste your own API from your profile.\n",
        "\n",
        "we could enroll our account here: https://wandb.ai/site"
      ],
      "metadata": {
        "id": "xOfx9ylkJdUW"
      }
    },
    {
      "cell_type": "code",
      "source": [
        "import wandb\n",
        "\n",
        "wandb.login()"
      ],
      "metadata": {
        "id": "vemVMNLbJUCY"
      },
      "execution_count": null,
      "outputs": []
    },
    {
      "cell_type": "code",
      "source": [
        "run = wandb.init(\n",
        "\n",
        "    project=\"project 1\",\n",
        "\n",
        "    #Make configuration\n",
        "    #In deep learning, configuration means the set of hyperparameters. You could include something that we should determine such as epochs, learning_rate, weight decay, batch size and seed etc.\n",
        "    #As you know, if we wanna obtain same result through randomized & augmented network, we have to fix the seed !\n",
        "    config={\n",
        "        \"learning_rate\": 0.01,\n",
        "        \"epochs\": 10,\n",
        "    },\n",
        "    reinit=True\n",
        "    )\n",
        "\n",
        "wandb.watch(model)"
      ],
      "metadata": {
        "id": "KnJBJjdUJWDg"
      },
      "execution_count": null,
      "outputs": []
    },
    {
      "cell_type": "code",
      "source": [
        "def train_loop(dataloader, model, loss_fn, optimizer):\n",
        "    size = len(dataloader.dataset)\n",
        "    model.train()\n",
        "    for batch, (X, y) in enumerate(dataloader):\n",
        "\n",
        "        pred = model(X)\n",
        "        loss = loss_fn(pred, y)\n",
        "\n",
        "\n",
        "        optimizer.zero_grad()\n",
        "        loss.backward()\n",
        "        optimizer.step()\n",
        "\n",
        "\n",
        "        if batch % 100 == 0:\n",
        "            loss, current = loss.item(), (batch + 1) * len(X)\n",
        "            print(f\"loss: {loss:>7f}  [{current:>5d}/{size:>5d}]\")\n",
        "\n",
        "            #Revision of your training code as below:\n",
        "            wandb.log({ \"Training_loss\": loss}) #You can record your log here\n"
      ],
      "metadata": {
        "id": "ARjyc8tDKQAn"
      },
      "execution_count": null,
      "outputs": []
    },
    {
      "cell_type": "code",
      "source": [
        "#Then, enjoy your wandb!\n",
        "epochs = 10\n",
        "for t in range(epochs):\n",
        "    print(f\"Epoch {t+1}\\n-------------------------------\")\n",
        "    train_loop(train_dataloader, model, loss, optimizer)\n",
        "    #pytorch method for saving model's weight\n",
        "    torch.save(model.state_dict(), '/content/model.pth')\n",
        "    # Save as artifact for version control.\n",
        "    artifact = wandb.Artifact('model', type='model')\n",
        "    artifact.add_file('/content/model.pth')\n",
        "\n",
        "   #test_loop(test_dataloader, model, loss)\n",
        "print(\"Done!\")"
      ],
      "metadata": {
        "id": "ieanQ_XSL-RS"
      },
      "execution_count": null,
      "outputs": []
    },
    {
      "cell_type": "markdown",
      "source": [
        "![스크린샷, 2023-08-01 17-28-08.png](data:image/png;base64,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)\n",
        "\n",
        "We could find some artifacts here!"
      ],
      "metadata": {
        "id": "hDckJJ_hNn8u"
      }
    },
    {
      "cell_type": "markdown",
      "source": [
        "#3. Enjoy your pytorch using whole things that we have learned!\n",
        "\n",
        "We can finally use the RNN & LSTM layers that are already given by pytorch. Compared to implemented one of numpy, which should be stacked by ourselves, we could just pre-define the number of layers and use it. Let's see some codes with official explanation of pytorch docs.\n",
        "\n",
        "RNN: https://pytorch.org/docs/stable/generated/torch.nn.RNN.html\n",
        "\n",
        "LSTM: https://pytorch.org/docs/stable/generated/torch.nn.LSTM.html"
      ],
      "metadata": {
        "id": "NCV-GtxnN3xV"
      }
    },
    {
      "cell_type": "code",
      "source": [
        "rnn = nn.RNN(10, 20, 2) #input_size, hidden_size, num_layers\n",
        "#nn.RNN(input_size = the number of features in the input x\n",
        "#       hidden_size = the number of features in the hidden state h\n",
        "#       num_layers = the number of recurrent layers(RNN cells)\n",
        "#       nonlinearity = tanh(default) or relu\n",
        "#       bias = True / False\n",
        "#       batch_first = input shape (batch, seq, feature) or (seq, batch, feature)\n",
        "#       dropout\n",
        "#       bidirectional = training techniques(would be handled later, ex.BERT)\n",
        "#       )"
      ],
      "metadata": {
        "id": "aUZ59Bt7QkrC"
      },
      "execution_count": null,
      "outputs": []
    },
    {
      "cell_type": "code",
      "source": [
        "lstm = nn.LSTM(10,20,2) #input_size, hidden_size, num_layers\n",
        "#nn.LSTM(input_size = the number of features in the input x\n",
        "#       hidden_size = the number of features in the hidden state h\n",
        "#       num_layers = the number of recurrent layers(RNN cells)\n",
        "#       bias = True / False\n",
        "#       batch_first = input shape (batch, seq, feature) or (seq, batch, feature)\n",
        "#       dropout\n",
        "#       bidirectional = training techniques(would be handled later, ex.BERT)\n",
        "#       proj_size = LSTM with projections of corresponding size -> change output's size(kind of linear transformation)\n",
        "#       )"
      ],
      "metadata": {
        "id": "WfWthPn3RV6Y"
      },
      "execution_count": null,
      "outputs": []
    },
    {
      "cell_type": "markdown",
      "source": [
        "Since we have learned the whole pipeline of Deep Learning Training & but still not familiar( lol 🤐 ), we would follow-up the code which had been written by Wandb! Here is the original reference of this notebook: https://colab.research.google.com/gist/SauravMaheshkar/168f0817f0cd29dd4048868fb0dd4401/lstms-in-pytorch.ipynb#scrollTo=zxlsEhz4w3mT\n",
        "\n",
        "Below code might be same with above link's notebook.\n",
        "\n",
        "All we should do is to change this LSTM code to RNN Code with same Dataset. Pytorch has lots of other libraries such as torchvision, torchtext etc.\n",
        "\n",
        "In this notebook, with torchtext's dataset, we might train our own RNN model with WandB! We should do something deeper as below:\n",
        "\n",
        "- [Mandatory] **LSTM -> RNN**: `nn.LSTM -> nn.RNN`\n",
        "- [Mandatory] **Analysis of Dataset** => You should show some insights like 'What does it look like?' or 'The length of whole dataset & label?'\n",
        "\n",
        "- [Optional] **WandB -> TensorBoard**: How about using `tensorboard`?\n",
        "- [Optional] **Make some comments on helper functions & others**\n",
        "\n",
        "Good luck with all of us :>"
      ],
      "metadata": {
        "id": "ixXsDRCdR9a-"
      }
    },
    {
      "cell_type": "markdown",
      "source": [
        "##1 Setup Cell"
      ],
      "metadata": {
        "id": "keoyZVKhW0ZO"
      }
    },
    {
      "cell_type": "code",
      "source": [
        "%%capture\n",
        "\n",
        "## Install the latest version of wandb client 🔥🔥\n",
        "!pip install -q --upgrade wandb\n",
        "!pip install torchtext\n",
        "\n",
        "import torch\n",
        "from torch import nn\n",
        "import torch.nn.functional as F\n",
        "from torchtext.legacy import data\n",
        "from torch.autograd import Variable\n",
        "from torchtext.legacy import datasets\n",
        "from torchtext.vocab import Vectors, GloVe"
      ],
      "metadata": {
        "id": "L64BOznPWzUH"
      },
      "execution_count": null,
      "outputs": []
    },
    {
      "cell_type": "code",
      "source": [
        "import os\n",
        "import wandb\n",
        "\n",
        "# Paste your api key here\n",
        "os.environ[\"WANDB_API_KEY\"] = '...'\n",
        "\n",
        "# Feel free to change these and experiment !!\n",
        "config = wandb.config\n",
        "config.learning_rate = 2e-5\n",
        "config.batch_size = 32\n",
        "config.output_size = 2\n",
        "config.hidden_size = 256\n",
        "config.embedding_length = 300\n",
        "config.epochs = 10"
      ],
      "metadata": {
        "id": "vS7qu5yMXCZu"
      },
      "execution_count": null,
      "outputs": []
    },
    {
      "cell_type": "markdown",
      "source": [
        "##2 Dataset\n",
        "\n",
        "How about Dataset? Please give your insight in this notebook. What is our task?"
      ],
      "metadata": {
        "id": "Y95vfFCCXI6-"
      }
    },
    {
      "cell_type": "code",
      "source": [
        "# Ported from: https://github.com/prakashpandey9/Text-Classification-Pytorch/blob/master/load_data.py\n",
        "\n",
        "def load_dataset(test_sen=None):\n",
        "\n",
        "    tokenize = lambda x: x.split()\n",
        "    TEXT = data.Field(sequential=True, tokenize=tokenize, lower=True, include_lengths=True, batch_first=True, fix_length=200)\n",
        "    LABEL = data.LabelField()\n",
        "    train_data, test_data = datasets.IMDB.splits(TEXT, LABEL)\n",
        "    TEXT.build_vocab(train_data, vectors=GloVe(name='6B', dim=300))\n",
        "    LABEL.build_vocab(train_data)\n",
        "\n",
        "    word_embeddings = TEXT.vocab.vectors #Word Embedding means the vectorization version of NLP since computer couldn't understand the language literally. We should convert NL into some numbers, which must be some tensors\n",
        "\n",
        "    train_data, valid_data = train_data.split()\n",
        "    train_iter, valid_iter, test_iter = data.BucketIterator.splits((train_data, valid_data, test_data),\n",
        "                                                                   batch_size=32,\n",
        "                                                                   sort_key=lambda x: len(x.text),\n",
        "                                                                   repeat=False, shuffle=True)\n",
        "\n",
        "    vocab_size = len(TEXT.vocab)\n",
        "\n",
        "    return TEXT, vocab_size, word_embeddings, train_iter, valid_iter, test_iter\n",
        "\n",
        "TEXT, vocab_size, word_embeddings, train_iter, valid_iter, test_iter = load_dataset()"
      ],
      "metadata": {
        "id": "JVkinEUXXH1G"
      },
      "execution_count": null,
      "outputs": []
    },
    {
      "cell_type": "markdown",
      "source": [
        "##3 Model\n",
        "\n",
        "We should change the main hero to our hero, RNN."
      ],
      "metadata": {
        "id": "0rD0JE-4XNqG"
      }
    },
    {
      "cell_type": "code",
      "source": [
        "class LSTMClassifier(nn.Module):\n",
        "\tdef __init__(self, batch_size, output_size, hidden_size, vocab_size, embedding_length, weights):\n",
        "\t\tsuper(LSTMClassifier, self).__init__()\n",
        "\t\tself.batch_size = batch_size\n",
        "\t\tself.output_size = output_size\n",
        "\t\tself.hidden_size = hidden_size\n",
        "\t\tself.vocab_size = vocab_size\n",
        "\t\tself.embedding_length = embedding_length\n",
        "\n",
        "\t\tself.word_embeddings = nn.Embedding(vocab_size, embedding_length)\n",
        "\t\tself.word_embeddings.weight = nn.Parameter(weights, requires_grad=False)\n",
        "\t\tself.lstm = nn.LSTM(embedding_length, hidden_size) # Our main hero for this tutorial\n",
        "\t\tself.label = nn.Linear(hidden_size, output_size)\n",
        "\n",
        "\tdef forward(self, input_sentence, batch_size=None):\n",
        "\t\tinput = self.word_embeddings(input_sentence)\n",
        "\t\tinput = input.permute(1, 0, 2)\n",
        "\t\tif batch_size is None:\n",
        "\t\t\th_0 = Variable(torch.zeros(1, self.batch_size, self.hidden_size).cuda())\n",
        "\t\t\tc_0 = Variable(torch.zeros(1, self.batch_size, self.hidden_size).cuda())\n",
        "\t\telse:\n",
        "\t\t\th_0 = Variable(torch.zeros(1, batch_size, self.hidden_size).cuda())\n",
        "\t\t\tc_0 = Variable(torch.zeros(1, batch_size, self.hidden_size).cuda())\n",
        "\t\toutput, (final_hidden_state, final_cell_state) = self.lstm(input, (h_0, c_0))\n",
        "\t\tfinal_output = self.label(final_hidden_state[-1])\n",
        "\n",
        "\t\treturn final_output"
      ],
      "metadata": {
        "id": "4EKMkhsXXVnt"
      },
      "execution_count": null,
      "outputs": []
    },
    {
      "cell_type": "markdown",
      "source": [
        "##4 Training (with helper function)\n",
        "\n",
        "\n",
        "Why do we just make the function of training, not making it directly?\n",
        "\n",
        "-> Actually, we must do lots of experiment with some models, which means we control many **hyperparameters** so that optimized model would be returned. Instantiation of Training code is more efficient than that."
      ],
      "metadata": {
        "id": "Zt9xqO7HZanB"
      }
    },
    {
      "cell_type": "code",
      "source": [
        "def clip_gradient(model, clip_value):\n",
        "    params = list(filter(lambda p: p.grad is not None, model.parameters()))\n",
        "    for p in params:\n",
        "        p.grad.data.clamp_(-clip_value, clip_value)\n",
        "\n",
        "def train_model(model, train_iter, epoch):\n",
        "    total_epoch_loss = 0\n",
        "    total_epoch_acc = 0\n",
        "    model.cuda()\n",
        "    optim = torch.optim.Adam(filter(lambda p: p.requires_grad, model.parameters()))\n",
        "    steps = 0\n",
        "    model.train()\n",
        "    for idx, batch in enumerate(train_iter):\n",
        "        text = batch.text[0]\n",
        "        target = batch.label\n",
        "        target = torch.autograd.Variable(target).long()\n",
        "        if torch.cuda.is_available():\n",
        "            text = text.cuda()\n",
        "            target = target.cuda()\n",
        "        if (text.size()[0] is not 32):\n",
        "            continue\n",
        "        optim.zero_grad()\n",
        "        prediction = model(text)\n",
        "        loss = loss_fn(prediction, target)\n",
        "        wandb.log({\"Training Loss\": loss.item()})\n",
        "        num_corrects = (torch.max(prediction, 1)[1].view(target.size()).data == target.data).float().sum()\n",
        "        acc = 100.0 * num_corrects/len(batch)\n",
        "        wandb.log({\"Training Accuracy\": acc.item()})\n",
        "        loss.backward()\n",
        "        clip_gradient(model, 1e-1)\n",
        "        optim.step()\n",
        "        steps += 1\n",
        "\n",
        "        if steps % 100 == 0:\n",
        "            print (f'Epoch: {epoch+1}, Idx: {idx+1}, Training Loss: {loss.item():.4f}, Training Accuracy: {acc.item(): .2f}%')\n",
        "\n",
        "        total_epoch_loss += loss.item()\n",
        "        total_epoch_acc += acc.item()\n",
        "\n",
        "    return total_epoch_loss/len(train_iter), total_epoch_acc/len(train_iter)\n",
        "\n",
        "def eval_model(model, val_iter):\n",
        "    total_epoch_loss = 0\n",
        "    total_epoch_acc = 0\n",
        "    model.eval()\n",
        "    with torch.no_grad():\n",
        "        for idx, batch in enumerate(val_iter):\n",
        "            text = batch.text[0]\n",
        "            if (text.size()[0] is not 32):\n",
        "                continue\n",
        "            target = batch.label\n",
        "            target = torch.autograd.Variable(target).long()\n",
        "            if torch.cuda.is_available():\n",
        "                text = text.cuda()\n",
        "                target = target.cuda()\n",
        "            prediction = model(text)\n",
        "            loss = loss_fn(prediction, target)\n",
        "            wandb.log({\"Evaluation Loss\": loss.item()})\n",
        "            num_corrects = (torch.max(prediction, 1)[1].view(target.size()).data == target.data).sum()\n",
        "            acc = 100.0 * num_corrects/len(batch)\n",
        "            wandb.log({\"Evaluation Accuracy\": acc.item()})\n",
        "            total_epoch_loss += loss.item()\n",
        "            total_epoch_acc += acc.item()\n",
        "\n",
        "    return total_epoch_loss/len(val_iter), total_epoch_acc/len(val_iter)"
      ],
      "metadata": {
        "id": "0C91VhPeZ4LK"
      },
      "execution_count": null,
      "outputs": []
    },
    {
      "cell_type": "code",
      "source": [
        "model = LSTMClassifier(config.batch_size, config.output_size, config.hidden_size, vocab_size, config.embedding_length, word_embeddings)\n",
        "loss_fn = F.cross_entropy\n",
        "\n",
        "# Create a wandb run to log all your metrics\n",
        "# You must define your own name in the init function !\n",
        "run = wandb.init(project='...', entity='...', reinit=True)\n",
        "\n",
        "wandb.watch(model)\n",
        "\n",
        "for epoch in range(config.epochs):\n",
        "    train_loss, train_acc = train_model(model, train_iter, epoch)\n",
        "    val_loss, val_acc = eval_model(model, valid_iter)\n",
        "\n",
        "    print(f'Epoch: {epoch+1:02}, Train Loss: {train_loss:.3f}, Train Acc: {train_acc:.2f}%, Val. Loss: {val_loss:3f}, Val. Acc: {val_acc:.2f}%')\n",
        "\n",
        "run.finish()"
      ],
      "metadata": {
        "id": "r9TjgYScZZSc"
      },
      "execution_count": null,
      "outputs": []
    },
    {
      "cell_type": "markdown",
      "source": [
        "**End of this notebook**"
      ],
      "metadata": {
        "id": "FwyKLSJ4aahq"
      }
    }
  ]
}