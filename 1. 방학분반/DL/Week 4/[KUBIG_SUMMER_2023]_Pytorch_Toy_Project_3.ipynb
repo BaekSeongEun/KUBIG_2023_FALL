{
  "nbformat": 4,
  "nbformat_minor": 0,
  "metadata": {
    "colab": {
      "provenance": [],
      "gpuType": "T4"
    },
    "kernelspec": {
      "name": "python3",
      "display_name": "Python 3"
    },
    "language_info": {
      "name": "python"
    },
    "accelerator": "GPU"
  },
  "cells": [
    {
      "cell_type": "markdown",
      "source": [
        "#Pytorch Toy Project 3\n",
        "\n",
        "Make our own customized network & performance up! _ by imjjun(KUBIG 16th)\n",
        "\n",
        "\n",
        "\n",
        "---\n",
        "\n",
        "\n",
        "On this notebook, we would make our own network through 2 ways: nn.Sequential & line-by-line. Each has advantages & disadvantages. So you could choose your own way to implement your network!"
      ],
      "metadata": {
        "id": "dnKpc0OFYHs9"
      }
    },
    {
      "cell_type": "code",
      "execution_count": null,
      "metadata": {
        "colab": {
          "base_uri": "https://localhost:8080/"
        },
        "id": "U7sHkskIWEEc",
        "outputId": "d2687d50-e668-4d70-bc94-41341e34a063"
      },
      "outputs": [
        {
          "output_type": "execute_result",
          "data": {
            "text/plain": [
              "<torch._C.Generator at 0x793d281219f0>"
            ]
          },
          "metadata": {},
          "execution_count": 105
        }
      ],
      "source": [
        "import torch\n",
        "import torch.nn as nn\n",
        "\n",
        "torch.manual_seed(1)"
      ]
    },
    {
      "cell_type": "code",
      "source": [
        "if torch.cuda.is_available(): device=torch.device('cuda')\n",
        "print(device)\n",
        "#Make sure that your runtime must be 'GPU'\n",
        "#Print out CUDA clearly\n",
        "#If not, this task must be really time-consuming"
      ],
      "metadata": {
        "colab": {
          "base_uri": "https://localhost:8080/"
        },
        "id": "BjPS-5IRdU9l",
        "outputId": "6e79193a-de97-4170-c212-a5040d2f47e7"
      },
      "execution_count": null,
      "outputs": [
        {
          "output_type": "stream",
          "name": "stdout",
          "text": [
            "cuda\n"
          ]
        }
      ]
    },
    {
      "cell_type": "code",
      "source": [
        "#Same Data with Week 2!\n",
        "import torch\n",
        "from torch import nn\n",
        "from torch.utils.data import DataLoader\n",
        "from torchvision import datasets\n",
        "from torchvision import transforms\n",
        "\n",
        "#This line is for transformation of Image. You don't need to consider about it.\n",
        "transform=transforms.Compose([transforms.ToTensor(),\n",
        "                              transforms.Normalize((0.5),(0.5))])\n",
        "\n",
        "#Train data download\n",
        "training_data = datasets.FashionMNIST(\n",
        "    root=\"data\",\n",
        "    train=True,\n",
        "    download=True,\n",
        "    transform=transform\n",
        ")\n",
        "\n",
        "#Test data download\n",
        "test_data = datasets.FashionMNIST(\n",
        "    root=\"data\",\n",
        "    train=False,\n",
        "    download=True,\n",
        "    transform=transform\n",
        ")\n",
        "\n",
        "#Make dataloader for iteration when training\n",
        "#would be covered on next toy project\n",
        "train_dataloader = DataLoader(training_data, batch_size=64)\n",
        "test_dataloader = DataLoader(test_data, batch_size=64)"
      ],
      "metadata": {
        "id": "QZpSGpPCcjiK"
      },
      "execution_count": null,
      "outputs": []
    },
    {
      "cell_type": "markdown",
      "source": [
        "#1 How to make your network\n",
        "\n",
        "*If you fix the torch's seed, you would get very similiar result."
      ],
      "metadata": {
        "id": "m-wnOJAwZF43"
      }
    },
    {
      "cell_type": "code",
      "source": [
        "#nn.Sequential\n",
        "\n",
        "class Customnet1(nn.Module):\n",
        "  \"\"\"Define your network by using nn.Sequential. Primarily, this network should be inherited by nn.Module from torch.nn\n",
        "     There are two functions which you have to implement, 1) __init__ & 2) forward\n",
        "\n",
        "     In __init__, you have to pre-define your layers with dimension. For example, you have to decide the kernel size of Convolution layer, or the size of weight of Affine_forward.\n",
        "\n",
        "     In forward, you should pass your input through your network. You can use the network, which is pre-defined in __init__. Or make some creative operations which couldn't be implemented in __init__.\n",
        "\n",
        "\n",
        "  \"\"\"\n",
        "  def __init__(self):\n",
        "    #Intialize the nn.Module firstly\n",
        "    super().__init__()\n",
        "\n",
        "    #You can contain your layers here\n",
        "    #nn.conv2d(input_channel, output_channel, kernel_size, stride, padding, dilation, etc,,,)\n",
        "    #nn.MaxPool2d(kernel_size, stride, etc,,)\n",
        "    #The details could be searched in pytorch official docs\n",
        "    self.layer=nn.Sequential(\n",
        "                             nn.Conv2d(1,64,(2,2)), #You can control Kernel size, using the tuple like (3,3) or (3,2). The kernel must not be a square.\n",
        "                             nn.MaxPool2d(4), #This kernel size must also be able to become non-symmetric.\n",
        "                             nn.ReLU(),\n",
        "                             nn.Conv2d(64,64,(2,2)),\n",
        "                             nn.MaxPool2d(4),\n",
        "                             nn.ReLU(),\n",
        "                             nn.Flatten(),\n",
        "                             nn.Linear(64, 10), # In_channel, Output Channel\n",
        "                             nn.Softmax())\n",
        "  #As you can see, nn.Sequential is a very comfortable function because that method wraps the whole layers! Just passing through the layer makes us design the network.\n",
        "  #This\n",
        "\n",
        "  #forwad has two variables: (self, x)\n",
        "  # x is the 'input' which is passed from the DataLoader\n",
        "  # This process is fully automatic so that you don't need to consider any other things.\n",
        "  def forward(self, x):\n",
        "\n",
        "    x=self.layer(x)\n",
        "\n",
        "    return x"
      ],
      "metadata": {
        "id": "k_s3I5WWZFh5"
      },
      "execution_count": null,
      "outputs": []
    },
    {
      "cell_type": "code",
      "source": [
        "# line-by-line\n",
        "# Not using the nn.Sequential, you can define whole layers line-by-line\n",
        "\n",
        "class Customnet2(nn.Module):\n",
        "  \"\"\"The main principle is same with above.\n",
        "\n",
        "  \"\"\"\n",
        "  def __init__(self):\n",
        "\n",
        "    super().__init__()\n",
        "\n",
        "    #Define whole layers individually\n",
        "    self.conv1=nn.Conv2d(1,64,(2,2))\n",
        "    self.conv2=nn.Conv2d(64,64,(2,2))\n",
        "    self.maxpool=nn.MaxPool2d(4)\n",
        "    self.relu=nn.ReLU()\n",
        "    self.flatten=nn.Flatten()\n",
        "    self.linear=nn.Linear(64,10)\n",
        "    self.softmax=nn.Softmax()\n",
        "\n",
        "  def forward(self, x):\n",
        "    #forward should be complicated compared to nn.Sequential's one\n",
        "    #You can add some operations which are not included in nn.Module\n",
        "    #For example, if you want to print out the shape of x, you can add the line in this Class.\n",
        "    #But regretfully, since nn.Sequential does not contain the print method,  you cannot print out the shape of x if you use the nn.Sequential\n",
        "\n",
        "    x=self.conv1(x)\n",
        "    x=self.maxpool(x)\n",
        "    x=self.relu(x)\n",
        "    x=self.conv2(x)\n",
        "    x=self.maxpool(x)\n",
        "    x=self.relu(x)\n",
        "\n",
        "    x=self.flatten(x)\n",
        "    x=self.linear(x)\n",
        "    x=self.softmax(x)\n",
        "\n",
        "    return x\n"
      ],
      "metadata": {
        "id": "0qTMHbywiwGH"
      },
      "execution_count": null,
      "outputs": []
    },
    {
      "cell_type": "markdown",
      "source": [
        "**Recap**\n",
        "\n",
        "We just have learned about learning rate, loss function & Optimizer! We have to pre-define them before training. Use your own code to pre-define them."
      ],
      "metadata": {
        "id": "8V5MK-KAdmjp"
      }
    },
    {
      "cell_type": "markdown",
      "source": [
        "### Customnet1"
      ],
      "metadata": {
        "id": "gSiTCKlnkJOf"
      }
    },
    {
      "cell_type": "code",
      "source": [
        "#model\n",
        "model=Customnet1().to(device) #You can load your model on GPU!\n",
        "\n",
        "#learning rate\n",
        "learning_rate=1e-4\n",
        "\n",
        "#epoch\n",
        "epoch=10\n",
        "\n",
        "#Loss function\n",
        "loss=nn.CrossEntropyLoss()\n",
        "\n",
        "#Optimizer\n",
        "optimizer=torch.optim.Adam(model.parameters(), lr=learning_rate)"
      ],
      "metadata": {
        "id": "uh8fvcFcdukH"
      },
      "execution_count": null,
      "outputs": []
    },
    {
      "cell_type": "code",
      "source": [
        "#Same with pytorch project 1\n",
        "def train_loop(dataloader, model, loss_fn, optimizer):\n",
        "    size = len(dataloader.dataset)\n",
        "    model.train()\n",
        "    for batch, (X, y) in enumerate(dataloader):\n",
        "\n",
        "        pred = model(X.to(device)) #Also load the input on GPU\n",
        "        loss = loss_fn(pred.cpu(), y) #Detach your predicted result on CPU #Loss could be calculated on CPU\n",
        "\n",
        "\n",
        "        optimizer.zero_grad()\n",
        "        loss.backward()\n",
        "        optimizer.step()\n",
        "\n",
        "\n",
        "        if batch % 100 == 0:\n",
        "            loss, current = loss.item(), (batch + 1) * len(X)\n",
        "            print(f\"loss: {loss:>7f}  [{current:>5d}/{size:>5d}]\")"
      ],
      "metadata": {
        "id": "W-Sb1WqJdmD5"
      },
      "execution_count": null,
      "outputs": []
    },
    {
      "cell_type": "code",
      "source": [
        "#Same with pytorch project 1\n",
        "def test_loop(dataloader, model, loss_fn):\n",
        "\n",
        "    model.eval() #test mode\n",
        "    size = len(dataloader.dataset)\n",
        "    num_batches = len(dataloader)\n",
        "    test_loss, correct = 0, 0\n",
        "\n",
        "\n",
        "\n",
        "    with torch.no_grad():\n",
        "        for X, y in dataloader:\n",
        "            pred = model(X.to(device))\n",
        "            test_loss += loss_fn(pred.cpu(), y).item()\n",
        "            correct += (pred.cpu().argmax(1) == y).type(torch.float).sum().item()\n",
        "\n",
        "    test_loss /= num_batches\n",
        "    correct /= size\n",
        "    print(f\"Test Error: \\n Accuracy: {(100*correct):>0.1f}%, Avg loss: {test_loss:>8f} \\n\")"
      ],
      "metadata": {
        "id": "enZ_hqnRea8X"
      },
      "execution_count": null,
      "outputs": []
    },
    {
      "cell_type": "code",
      "source": [
        "for t in range(epoch):\n",
        "    print(f\"Epoch {t+1}\\n-------------------------------\")\n",
        "    train_loop(train_dataloader, model, loss, optimizer)\n",
        "    test_loop(test_dataloader, model, loss)\n",
        "print(\"Done!\")"
      ],
      "metadata": {
        "id": "njrsLoZOelWF"
      },
      "execution_count": null,
      "outputs": []
    },
    {
      "cell_type": "markdown",
      "source": [
        "###Customnet2\n",
        "\n",
        "Very similiar result with Customnet1 because two networks are originally identical!"
      ],
      "metadata": {
        "id": "rVMJ_J3nkOD7"
      }
    },
    {
      "cell_type": "code",
      "source": [
        "#model\n",
        "model=Customnet2().to(device) #You can load your model on GPU!\n",
        "\n",
        "#learning rate\n",
        "learning_rate=1e-4\n",
        "\n",
        "#epoch\n",
        "epoch=10\n",
        "\n",
        "#Loss function\n",
        "loss=nn.CrossEntropyLoss()\n",
        "\n",
        "#Optimizer\n",
        "optimizer=torch.optim.Adam(model.parameters(), lr=learning_rate)"
      ],
      "metadata": {
        "id": "srL6jzuikQQD"
      },
      "execution_count": null,
      "outputs": []
    },
    {
      "cell_type": "code",
      "source": [
        "for t in range(epoch):\n",
        "    print(f\"Epoch {t+1}\\n-------------------------------\")\n",
        "    train_loop(train_dataloader, model, loss, optimizer)\n",
        "    test_loop(test_dataloader, model, loss)\n",
        "print(\"Done!\")"
      ],
      "metadata": {
        "id": "TZgITeAckQGR"
      },
      "execution_count": null,
      "outputs": []
    },
    {
      "cell_type": "code",
      "source": [
        "#So, many people use the mixed way like below:\n",
        "\n",
        "class Customnet3(nn.Module):\n",
        "  \"\"\"The main principle is same with above.\n",
        "\n",
        "  \"\"\"\n",
        "  def __init__(self):\n",
        "\n",
        "    super().__init__()\n",
        "\n",
        "    #More simpler than line-by-line but still intuitive to revise\n",
        "    #Making blocks!\n",
        "    self.conv1=nn.Sequential(nn.Conv2d(1,64,(2,2)),\n",
        "                             nn.MaxPool(4),\n",
        "                             nn.ReLU())\n",
        "    self.conv2=nn.Sequential(nn.Conv2d(64,64,(2,2)),\n",
        "                             nn.MaxPool(4),\n",
        "                             nn.ReLU())\n",
        "    self.flatten=nn.Flatten()\n",
        "    self.linear=nn.Sequential(nn.Linear(64,10),\n",
        "                              nn.Softmax())\n",
        "\n",
        "\n",
        "  def forward(self, x):\n",
        "\n",
        "    #More simpler than line-by-line forward\n",
        "\n",
        "    x=self.conv1(x)\n",
        "    x=self.conv2(x)\n",
        "    x=self.flatten(x)\n",
        "    x=self.linear(x)\n",
        "\n",
        "    return x"
      ],
      "metadata": {
        "id": "1ihbgkrkl_Sx"
      },
      "execution_count": null,
      "outputs": []
    },
    {
      "cell_type": "markdown",
      "source": [
        "#2 Implementation of Alexnet\n",
        "\n",
        "Since you have learned how to make our own network, then you can make the Alexnet, which was taught in our session.\n",
        "\n",
        "Alexnet has a relatively simple structure, compared to other networks such as GoogLeNet or Resnet but still powerful.\n",
        "\n",
        "Our task is the development of Alexnet using the above method. We should have used the Imagenet dataset, same with Alexnet's one but ImageNet dataset is so huge and pytorch doesn't even support this dataset now.\n",
        "\n",
        "-> We would use the smaller one, CIFAR100 which has 100 categories for classification task.\n",
        "\n",
        "Enjoy your implementation, and feel free to ask!\n",
        "\n",
        "*Don't worry too much. You will handle some Natural Language processing tasks from NEXT WEEK."
      ],
      "metadata": {
        "id": "uOkzy0nnm1e-"
      }
    },
    {
      "cell_type": "markdown",
      "source": [
        "![image.png](data:image/png;base64,iVBORw0KGgoAAAANSUhEUgAAAycAAAEFCAIAAAB2MA/qAAAgAElEQVR4Aex9dVwU3fc/tiiisKTAsgoiokg/FgaKigWidIhigWB3gmJiIIiIit3dXZiA+OjHQLAA6VC6Yef+Xl/uy/ubZ2Z2NtgFhDl/6Jnb98ww+573PfdcKcAIYwHGAowFGAswFmAswFiAsYDkLSAl+S6YHhgLMBZgLMBYgLEAYwHGAowFAIO6mIeAsQBjAcYCjAUYCzAWYCxQHxZgUFd9WJnpg7EAYwHGAowFGAswFmAswKAu5hlgLMBYgLEAYwHGAowFGAvUhwUY1FUfVmb6YCzAWICxAGMBxgKMBRgLMKiLeQYYCzAWYCzAWICxAGMBxgL1YQEGddWHlZk+GAswFmAswFiAsQBjAcYCDOpingHGAowFGAswFmAswFiAsUB9WIBBXfVhZaYPxgKMBRgLMBZgLMBYgLEAg7qYZ4CxAGMBxgKMBRgLMBZgLFAfFmBQV31YmemDsQBjAcYCzdACgYGBycnJvCael5f35csXXrlMOmOBJmkBPqgLw7CKP8LlcpukCZhJMRZgLNAcLBAZGXns2DGamT579qy6upqmADkrNjbWycmJnM6kQAuYmZnFxMTwssbly5cnTpzIK5dX+vPnz799+8Yrl0lnLNDILcAHdbm7u7dq1apt27Zt2rSxtraurKyU3Hx+/vzp7e3NYDuChTEMI6RI+jIjI0O8H6D1PwVJm4im/Z8/fyYmJtIUEDArJSWlsLBQwMKo2JcvXyT6R4o6+huVffv2zZ49m2bkXbp0ycvLoylAznr69OngwYPJ6UwKtIAkUNfUqVMPHz78N1r4y5cvVVVVDTXys2fPCvtir6ioiIqKqs8Bjx079uHDh8L2+He99PigrgEDBqiqqtbU1AAArKys9u3bJ6w5BC/v6ekZHBwseHl8SThCfIp4dQzDSktLxdumgK1NmjTp4sWLAhYWS7H9+/fPmjVLLE3BRhQUFHJycsTYYGNuauPGjatWrar7CO3t7c+fP4/aSUlJSRZA2Gx2ZGSkAAWbTpGEhARkJXqFQV309pFELoO68Fbt1q3bjx8/8Cn1qU+YMOHatWtC9fjz508NDQ2hqtSxsKWl5f3794VthMVi5ebmClurocrzQV3jx4/v06fP0aNHAQDR0dFsNlsSoPLjx48VFRWCMyL/+9//IMMcFhZ28ODB6upqTU3NX79+Sc6IKSkp6urqkmufpuX6R118f5xoRkuZxaAuSrPQJzo4OJw7dw6W8fDwkJeXZwsgrVu3VlVVFaBgEymioaHRpk0bGxsbemPCXL4PNsN1CWJGocowqAtvLgZ14a1BqYuMuiQKACiHKnIif9S1efNmbW1tydFdb9++VVRUfPXqlYBzwDDM1NQU/iCtWLFiy5YtBQUFO3bsELC6aMUaFnVdunRJtGGLVissLMzb21u0upS1GNRFaRb6REdHx7Nnz8IyDg4OXbt2pS8Pc7W0tJqby8ucOXOmTJkCADh69Oj79+9prCQh1DVkyBCaTpt5FoO68A/AX4e6UlJS/gquS15evumgrgkTJly/fn3YsGGSo7sqKipiY2PxjyZf/fbt25AYW7x4saTxFhxMA6IuW1vbekZde/funTNnDt+7IHgBBQWFv4j+FXxelCXFtcLo5OR05swZ2IWfn5+ysvKNGzcoe8Qnamlpff/+HZ/S5PX09HR5efns7Ozw8PB//vmHxtlAENSVn58vlMUiIyMZ1EVjMQmhriNHjtB02miz/kbUVc+LPKJxXfLy8r9//260950wMD5cF1wJjoyMlATddfToUQ8PD8KA6C8rKyvfvn2LysybN2/Hjh16enplZWUoURJKs0Jde/bs8fHxEaMZ/65F9zpOXFyoy9nZ+fTp03Aw/v7+9vb2JiYmfMfWvXv3ZoK6ysrKXr9+/ejRo4yMDF9f38WLFyPjzJ8/39PTk7wXYd++fV5eXqgYWencuTODushmqUuKJFCXh4cHg7pEuCki+HXV/w+faKhLTk5O2H0wIhhQXFUEQl0AALHTXRiGzZgxQ9gtFcHBwePGjUOT9/LyWrFihZ2dHUqRkFL/Dx+aiK2t7eXLl9FlPSghISFz584VY0cM6hLBmC4uLqdOnYIV/f39165da2hoyNcZtvmgroCAgOnTpy9evLhXr17Hjh2DdBc0V0FBwfbt22tqalJSUrKyspDxw8LCGNSFrFE/ipmZ2evXr3n1JVrkCAZ18bInfboIqCs1NfWv4LpE8Mikt5VEcwVFXeKluyIiIioqKkSY2OPHj+Pj41HFQ4cOQZcOlCIhpQFR18SJE+sZdQUHB8+bN4/SkhUVFUuWLJk+ffoMYaRNmzYjR46krDFTrDJLrDJ16lQLCwuaGI+UJtq4cePq1asps4RKdHV1PXnyJKzi7++/bt26q1evGhkZ0W86aT6oCxnz1q1bkydPJtBdMPf48eMsFuvz58/wkkFdyGj1ppiamtKjLltbW2EHw6AuYS0Gy4uGutTU1ETrTrRaonFdXbp0EZalFm14YqnFB3VZW1ujz2tx0V0HDhwwMzMTYRWW/PuXkpLSoUOHelhSaVjUdeXKFbHcbAEbCQoKmj9/PmXhhISEtm3bent7HxBG2rdvT1Nlv1glXHyya9eujh07uri4UJqCV2JAQIBYUJebm9uJEydgLxB1AQBMTEzoH4bu3bs34NZ0XjaRUHpycvLz589tbW337NmDvLsIfWVkZAAAYmNjAwICdu3aJQmua+jQoYROmUtkAXrUdenSJQZ1IVtJWmnCqKtz584FBQWSNqC42uePuq5evQo7qzvdVVVVVVpaWlFRUVRUJOwE0tPTyQtVJ06c0NHRmTp1qrCtCVu+AVGXjY0N/Q+tsHPhW37Xrl0LFy6kLJaQkNC1a9e+ffvSMy6Eun/XBhP84Hft2jVp0qTq6uqBAwei9T58AbIuLtTl7u5+/Phx2D5CXTdu3DAwMKAxfsO665KtIdGUU6dOeXh4GBsbQ19PSroLDiA5OdnV1XX+/PleXl40sW9EeHc/efKEQV00d1lCqAvu7qLpt3FmNeyfpwioKy0t7a/gumRlZZsm6qqjd1dZWZmVldWmTZtE+3v48uULOR5xSUnJx48fFRQUJE13NSvUtWPHjkWLFlHepoSEBB0dHTMzM6ECt/69qKusrExVVfX9+/fR0dEwRDBfjlZcqGvKlCno+BqEugAAZmZmNHtaG/a1TvnMSDoxOjp64MCBAABedBcaQFhYmJ2dnbq6+u3bt1EiXhHh3c2gLrwBybokUNeUKVMY1EU2Nd8U0VCXgDFr+PYuYAHRVhhlZWXJu2cE7LH+i/HhumxsbBDXBQCoC91VVVW1e/dumn3dNJOnNGhhYSE8esXf31/YvZA0fVFmNSzqwt8CyuGJN3H79u1LliyhbBOirlu3bunr69MwLoS6f9e2XgBARETEhAkTLC0tAwICtm/fPmnSJDQjQ0ND+lUqcaEuDw8P9NOCR130xm8+qAtRVi9fvvznn3/gDaKhuwAAMBBdbGzsp0+fMAy7evUq4fwxBnWh51xcCoO68JZs2D/PJoy6OnXqRAkS8MZvPDp/1EVY3hLBuyszM9PLy6su509NmDAB+bgg24WHh8NzZwsKChQUFCQaHLIBUZe1tXU9o67AwMClS5ciO+MViLoAAP369cOfV4MvQ9bl5OT4UkTkWg2YEhUV9fPnz5ycHFdX140bN0K6C46npKTk2bNnAICnT59SxisRF+qaOnUq2h6PR13Q+BcuXKC0T7du3cRyCiRl440q0crKasKECY6Ojt26dbtz5w4cGz3dtXfvXhT+99evX+bm5gROl0FdYr/FDOrCm7Rh3S5FQF3p6el/BdfVqVMnEdyW8LemPnWhUZcIdNfcuXM3b94s8qwqKytnz56NPm1ROzdv3nzx4gW8XL9+vUQ3MzYr1LV169Zly5YhO+MVhLru3LnTu3dvAlWAL4nX/zrUhQa/a9euxYsXQ+8ulAgVT09PMzMzQiIAQFyoa9q0aWhJnYC67ty506dPH0qukcPhNBPUhWFYUlJSfHx8cXEx/i7Q0F141AWrlJaWVldXOzg4wKPfaFDX+/fv31BJeHi4iYkJVU5zSbty5QpNDGRTU1OaINiiedP/vSuMDbvFWDTUpaqqiv/7krQu2gqjjIwM4T0g6XHWpX2hUZdQ3l3x8fGlpaWUPw+CD1qQRcnCwkJFRUXJ0V0Ni7rQNlLBjVaXklu2bFmxYgVlCwh1AQD69++PjqyhLIwS/0bUtXnz5lGjRpmYmGRnZyPvLjQjqMAzKPbu3fvmzRuUFRAQsGbNGnQpsuLp6Xno0CFYnYC6oPHRKY34LpoP6sLPGq/T0F1k1AUAwDDswoULAQEBAAAZGRnKdQo3NzcVFRVjKunRo4eMjAxVTrNIMzIykpaW1tTUxDAsNTWV/AY2MTGRBOpCLo/4W9/49fpEXeTYTI0QdRUWFhL2XIuGujp27Nh0UNfEiRMJK4yCe3d9/vxZWVn58ePHdfljuHDhAlxGJDQSHBy8fft2fOKGDRtEprswDEujldevX6uqqtIWET2T/OeBn5cIfyr46iLomzdvXrlyJWVFPOq6d+9er169BKG7/q7AwXDi2dnZcXFxtra2YWFhAABKuguWPHbsmLm5ObLDhg0bxIK6pk+fHhERAbsgo6579+5paWlFREQc/q+wWKxt27b9N63ZXQ0ZMmTSpElkdpwSdeGf81atWk2YMAGfAvXZs2d36dKlurqanPX48eNhw4aR05tPClpnuHz5sqqq6t27dwEAb9++hR/bfFEX3mlSQKO5u7szqIuvrT58+DBy5Ei0HAQAEOGnJCMjQ9Jcl6GhoZaWFsJeIqOukpISvjZpJAX4cF28QnQK4t1VVVUVHR1dx3n6+fk9fPiQ3Iinp+eDBw/w6ZDu+vr1Kz5RQH3Lli0dO3bsyluUlZVbtmzJO1/0HHl5eRaLRbMbAB6FKeBExFIsLCxMEK4LADBw4EB0ag1N139X4GD8RJ49ezZy5EgAAC+6C1/Yx8dn8+bNfn5+YkFdM2bMOHjwIGyfjLoAAJaWlhMnTpz6X5GRkZk8efJ/05rdVf/+/du1axceHg4AmDZtmru7O9zh6OXlRf9hJiMjA5car127hmKrAgACAwPZbDZa8MXfdAZ1FRQUoHUGDMNqamoKCgp69+7t5uYGAOjTp8/Lly/xFsPrFy9eZFAX3iDi1Tt16iQlJWVhYQHJeNFQl4qKinhHRWjtwoULUlJS7dq1c3Bw+P79u2ioq0OHDqWlpYSWG+2liKiL3rvr3LlzDg4O9T/ngIAA+IYVtutx48bJyMjk5OTwqii5FcaMjIwuXbrAWAC7d+92c3NLSUnBD2P8+PHXr1/Hp0haj42N1dDQIFMFAAA81wUAePDgga6uLqJ5eA3sr0NdERER8fHxX79+dXR0RCFPaeguOPEfP34sXrzY39+fl1ccL/tQps+cOfPAgQMwixJ1OTk5kSGvpqZmUlISZYPNJzExMZHD4cD5xsbGwgX6mJiY3r17Qww9bNgwU1NTAMDXr18DAwPfv38PAMjPz0crjOHh4To6OuXl5bCRwMBAJyen7t27k+mux48fW1hYNB/bopn++vXr7t27Z8+e/fTp0/r168nfjXCviaKiIvR0Li0tJZ+U19xQl5qaWnh4+LVr167WypUrVy7XyqVauVgrF2rl/Pnz52rlbK2cqZXTtXKqVk6ePHmiVo7XyrFaOVorR2rl8OHD69evb926dYsWLaSlpXv27Dl48GBhnVUyMjJYLJathEVGRkZKSqpVq1ZSUlJKSkpChSWCD2SbNm14bTBCT2zjUUREXfTeXd7e3h8+fKjjJIuKiv755x/KxdoLFy7gPWlQR5DuEvZsRwCAnZ2dlZUVr417AADJoS4AwLx58+DZvVlZWXv27MnLy8vIyJg1axacY/2jLgDAmDFj4Moasi1UCKgLAGBubo4OriEURpd/HerauXOng4PD5MmTAwMD0d5bQeguAMCGDRtMTU2HDRtG6SGEbMJXmTVr1v79+2ExBnXxNRe+AB514dNDQ0PnzJkDARakshISEpYsWXLv3j0AwIgRI6SkpAoLC//3v/9NnToVJvr4+Dg5Ofn7+y9ZssTS0hKt+aJmHz161DxR1759+5YuXbp161YTE5PQ0FBEdyHLQMXExOTJkycAgEePHsnKysLAv2hHc3NDXfLy8sOHD7euFRsbm4m1AiHNpFqZXCt2dnb2teJQK4614lQrzrXi4uLiWituteJeK1NqxaNWpk6dOm3aNCcnJwhlOnToICUl1adPH7K/EOF+ES4zMzOVlJQgKJTQv6dPn27fvr2UlFTHjh21tLSMjIwg30wYCf1lmzZtKH0D6Gs1VC4f1EVz9DIl3XX06FFxLa/evXt3xowZlHbp3bs3L9Z648aNkNmmrMgr0c7OLjw8XF5enhfdJVHURfb/zcvLCwwMhO7S+vr6O3bs4DVyCaXHxMRQ0l1k1PXo0SMdHR36HQ9/1yFZNCblS3dB1LVq1Sp4dGZCQgKvJ4qmF5g1e/ZsuEYGAGBQF19z4QvwRV34wnhdRkamqKgoIyPj0KFD8PTAKVOmKCgo+Pn59evX79KlSxwOB6FwWLHZoi5kt6dPn44ePZqS7oJnWCFv+rKyssLCQgzDtLS0rK2tAQAnT54UbYURHduAhvFXKPXpTY8+JLp06RIUFFRRUSGCs0pmZqaysrJEbTtv3jwpKSlDQ0PoSjRy5EgRUFe7du1kZWUpQ/lIdPCiNc4fddEEwiZ4dx07dkxfXz8rK0u0oQhe6+PHj7z2RRYVFSkqKgpLd9nZ2Z0/f97Hx4fX2pBEURcAwNfXl1dg0p49e/bv3x8AEBcXB5dCBDdUXUpS0l1k1AUAGDJkCP1LsHPnzn/R0aQ0RhOE7sJ70+/du1dRUTEzM5OmTV5ZXl5eMBq+sKiLfFwpry6aanodURfZLMbGxlpaWqWlpaNGjULLvrBYc0Zd8fHxV69eHTdu3L59+/DeXXgDUnrTc7lc+JROmjRJWloa7nwkwFl8IwTdzc2N/oVDKN94LusTdWVnZ7dq1Wrp0qVooVyEZRNJo67S0tLJkyfjA1KOHDkS0sxC3bV27doNGzZMWCZPqC7EWLhOqAvRXTU1NZaWlqGhoeL6cV25ciWMRUme6pcvX+j/Pjdt2uTq6kquSJMCUVdqaqq8vDxl7BlJo660tDReTNu4ceNu3LgBADh79iyHw/n333+5XC55hzbN7ETLoqS7KFHXw4cP5eTkuvOWli1bampq8s4n5miJW7TFJ506deK18A3tvGHDhrVr1yKbw9OXHz9+DG8iSuereHt7o0VewbkuNpvNoC5xoa6MjIw1a9ZgGLZp0yb4URQVFaWpqYl//zRn1HX79u3FixcPHDgQbmyipLtgMDNeT/vFixdHjhxZXV0dFxcnJycXGhoKAODrJ8qgLl72xKenpqYivAXTRUBdWVlZEuW6yI6SIqOuoKAgsnMh3iCNR68T6oLeXREREba2th4eHmw2m9IFW9jZFhUVaWlpkV0vYTscDud///sfTZtFRUVKSkoJCQk0ZQhZ9vb2MNK6t7c35fY9CaGuHz9+RP+RGTNmUDJt48aNu3nzJn7A3759U1FR2bBhA9xbh88Sr06muyhRV3Z2tpyc3HfeIiMj8+7dO975FDnfxC1fxSQrVqxQUlJ6//59dXX148ePyZzr+vXr8agL3pGnT5/26dNHqNNC58yZs3fvXlidQV2CPNjoXogLdc2YMWPNmjVVVVWBgYGIirayskIrv9Bdafjw4YIMr6mW+fr1a+/evQEAlHSXsbExpQ8utAberysrKwuGDxg0aND48eNpzMWgLhrj0GSJhrqUlJRo2hR7lmioq23btt+/f2exWPS+LmIfrWgN8kFdkyZNollhhLG7tLS0du7cWVVVZWVlhdZERBsNqkWGwDCrtLQUog1UklLZtGmTi4sLZRZlor29PXSiSklJYbFYMPolvqSEUNeMGTNGjBjhVStPnjxhsVhkpm3s2LEE1AU/B+ER62ZmZlZWVvihilEn0128UJeioiJNvzQhv2lqNc6sa9euQbfN5ORkIyMjiNHxh1FQoi40l1OnTvn6+vL6okDFAABeXl7oUV+8ePHcuXPxuQAAyj2MzZPrOnnyZN++fY2NjQ0MDF69ekWDunx8fAhmxF926NDh169fb968cXJywn9A4lFXTEwM/vPy4cOHzRN1oWf+1atXhoaG0Ixkuosv6ho1ahT+FgAASkpKnj9/DgDYu3cvJVXGoC6CxQS8bNqoq7Ky0tTUtI7xQQW0ZB2L8UddNNs4f/36NXv27MGDB8NjeqOjo/HvI9FG9urVq5CQENHqolrC0l0IdcFfO3KMUMmhrjNnzqBhz5kzZ/ny5egSKmPHjr116xYhEV1WVVW9ffsWALB9+/ZRo0aJFq4MtUZWCHQXg7quXLliY2ODDAV/m42MjNDXOT3q+v3797x585KSkqprBbVDVk6ePGliYgLTV65cOXToUEIZXqjr58+fhJLiuty6dSt82MTVoLjaKSkpgUTXq1evjI2NeaGuPXv20KOu0aNHh4aGrlmzhuA2hEddAICxY8eixd9mi7ocHR379etnaWnZvXv3R48ewVtJprvoUVdycnKXLl147TipqamJjIzMyckpKCjQ0dEJCgqCvbi5uZGP5RXXsyTRdrS0tIQivMU7GBFQV3Z29l/BdbVp06aqqmrTpk3kr1Px2lAsrdUJdS1fvnz16tXIuwsAUHe6y9ramvDKQ/PkcrkmJiYCuo5t3rxZcLoLj7oo6S7JoS49Pb1+/fqtWbOmoqIiNTWVTHeNGTOGBnUh45SVlZ0/fx5GnZg4cSJlaFlUWHCFQHcxqIvy5Liqqqp3794BALZu3WpgYLBgwQK+Fj537pyenh5NgBUMw/T19eGtr6ioUFNT+/fff/HNUqIuDQ0NSaCu8vLyiIgISAXhx9DY9HPnzo0aNUo01HXx4kU9PT11dXU8ywUnSEBdr1+/1tDQgEdKNFvUBQAoLi7OyckhrOkQ6C561AUA8PHxoQnZgx6wjx8/Qk9fb29vDoeDAgijAn+FoqWlVQ8uubxMIRrqol/H4NWXyOmirTC2bt26qqoqLi6OzWaL3HW9VeSDuiZPnkzJdX379q2wsBC5PRI2M5JfW4LPp7i4GDVLqJWQkDBixAhCIq/L4uJiJSWl+Ph4XgXw6XjUBQCYPXv2qlWr8AUkhLq+fv1aXFxcUFDg5uYGnYHIjmUCoi402tLS0mPHjsFdITt37hQ2LB5qByl4uosGdWVnZ4eFhe2nkvbt2+/evZsqRwxpB+pXZs+ebWxsvHnzZkIwW2iu7OxsKyur5cuXp6Sk+Pv7U5ZBhr1+/Xpubm5xcTEvhvLChQv//PMPLB8SEkIISFNvqOv9+/ccDsfd3R2u+6DxNyrl9OnTvXr1UlBQePv2rbCoCzodHzhw4OXLl+PGjUPudGiCBNQFABg/fjx0/X748KHgLyXUYBNWCHQXX9RFs5GI0kppaWn9+/c/ceLEkydPxo4diz/xhrJ8o0pkUBf97cAwjM1m47c00pdHua1bt4ZeSTo6OjR+hKh8wyr8URc+5Ou7d+/OnTu3b98+VVVVvLORWOiu6upqf39//P6gOppmy5Ytzs7OgjTi4OCAP0v458+fLBYLhfIDAKSmpqqrqwvSlGhl3rx5M2jQIBiOleBYNmbMmNu3b4vWbERExNSpU+GxaA8ePCB8lQrYJp7uokFdHA6HzWbPpJI2bdp4eHhQ5YgnbUY9ytSpU93d3dXV1RUUFCi/LuAKY2pq6ty5c0+dOgUj+NOcVvH8+XMFBYU7d+6Qbwc93VVvqOvKlSv9+/evz6glZFMImPLixQt9fX2hUFdQUJCWlha6lZQHM5BR15s3b5SUlDZv3jxz5kxtbe1ARnAWGDp06IABA7KzswEAfFGX4HQXegZcXV1PnDhRXFx87tw5+FhOnDix7n4pqH3JKX8d6srJyak3rqusrMzKykpKSorXYhfNfWnVqhX8dVu2bJlYDmSj6avuWcKhLgUFhf79++vr6zs6OhL6rjvddfToUUtLS0Kz6LKyshI5F6NEegXSXfjz1HiVd3BwOHv2LD531qxZ6CgYiLrU1NTwBcSiI4/U8PBwCI/IjmVWVlYioy40yNu3b5uZmUVFRXG53JcvX6LdXqgAvYLoroSEhB49ehAKZ2dnKyoq9u/fX1ZWlvI4mk6dOtUxUDuhxwa/jIuLU1BQKCkpIS/nrV+/ft26dWiEXC7XxsYG0iFwAwTKQkp2dnZJSUlOTs7+/fsJRC8N3cULddETbKhTQZSIiIh9+/apqanp6+vz2uAiSDv1Vqa6urpDhw4/fvxAJwLhuyb4dUFD3b59m3ATyXQXGXUBAPr162dlZWVvb89ms5cwgrPAxIkTpaWlDx06BADo1KmThoYGhmFfvnzx8fGBMSb+rRX0qAtLd0HUhe4shmEPHz6Ep2SGh4cvWbIEAj5UoPEoioqKIhA5Yhl/VFSUvr6+sIfL5eTkKCgoiGUA9I3k5OT06dOnffv2rVq1IpPN9HUBAC1btoSoKyoqCu6o5VulAQsIh7qkpaWNjIwyMzPl5eUJsR/rTndVVlYS2sTb5fr160OGDMGnCKJv3brVycmJb0ky6kpOTmaxWGivWWpqqiRQl7GxsXmtDBw4EL36CUybWFAXskBKSkqfPn0WLVoEABD83YTormfPnnXo0IHwAwxRl7m5uYeHx/Tp01FfSIEHsaHLpqE4Ojpu3brV1NQUnuaEJkUZ5QFazMfHp0ePHuQdsrDujx8/hg0bduTIEdQUAICG7qJEXerq6uJCXTk5OaampnFxcXUH/fgZSULfsGHDtm3bDh06ZG1tPX36dBquy9fXFw5gyZIlOjo6lMw6me6iRF2enp4REREPHjxgVhgJ9xS+EGBi31XpVv4AACAASURBVL59oZNDenp6SEgI9M1asmSJkZFRdXV1TEyMkpJSYGCgj4/PiBEjli9fXlZWVlJSEhkZmZ6eTmgWXbq6uvI6hezz589+fn55eXlpaWnTpk1rbOuPLBaLvGcTzUtySkREhJSUlLq6euNEXe/fv5eSkmrRogU8jXHLli3CmqJly5YQxGMYpqqq2oDOc4KMnA/qsrOzw68wysrK6urq3rt3b+HChfPnzyd0UBe66+rVq2lpaYQG8ZfFxcUimLKkpERZWTkuLg7fFFknoy4AwMyZMxFXKSHUhWHY79+/EbZDA8M7lllZWVEuP6HCIijQEdjS0tLY2BjDMPTRSdMUorvIp9Eh1HXr1i0FBQUYdAffFDxoBZ/yl+oZGRnBwcHLli0LDg6OjY1VVlbOzMyEPyRoiYoSdaH5wlBzd+7csbS0jImJQelI4XK5SUlJDg4OyIy86C7Joa7Kysr79+9XVlbOnTtXX1+/AXddIbPQK4mJiceOHQsODr5+/TqXy+WFukJCQnx8fKB32tu3b2nOLiPQXQzqorc/IRePuoyMjAi7QPCFuVxuZmZmTk5OWlqajIzMqlWrqqurv337Nnjw4K1btwIA3N3du3Xr9uvXr+zsbB8fHxh8fOzYsRs2bEB/cfgGkZ6fnx8SEgLLr1+/HjJhKLehlG7dusnLywvobSyWQdbU1Hh5ecFzGEVAXbm5uZLmur59+zZ8+HApKSl9ff02bdpISUkRnKoFsUOLFi3QAo6Xl1dgYKAgtRqqDH/UBcOHwvF17tx5//79gwcPzsrKkpeXh3G30dBFprtycnJYLFZiYiJqiqCUlZVRLl0RilFebtu2jbweSihJibqSkpIQ3SUh1EUYBrqETBt0LBs9erTYURfqCNp8586dhoaG9I47iO568eJFt27d8HQXQl3Pnj3z8/ObNm0aah8qTQZ1vXv37sCBA/fu3Vu3bt2wYcMcHR23bdsGAMjKyuJwOBB+0aMuaJDy8vKzZ89++vSJy+UuWbIEHvmHjFZRUbF582a45F1VVcWL7pIc6rK3t3d0dAwNDR0+fDj54wqNs9EqNKhLV1fX3NyckuLCT4dAd9GjLhq/CHybzUcXHHXhbUK5mbG0tPT79+9cLjcvL2/Pnj1wS6+BgQGHw8nMzExJSVFUVITBpU+cOLFs2bKcnJzq6uonT56gpQMAwPnz5yG7HxkZGRgYSLOigh+PJHQtLa0FCxbUWwj1vLw8KZyoqKgIy3Xl5uayWCxJmILcpomJSVhYmJSU1JQpU8i59ClSUlIIdd29e3fgwIH05Rs2VzjU1aVLl1+/fmlraz99+nTRokXz5s0jjF40uovL5aITUgkNwsszZ86IHAtUELqLEnUBAKZPn+7p6Xn+/PmwsDA5ObkztXL69OlTp06dPHnyxIkTx2vl2LFjR48ePXLkyOFaOXToUERExMGDBw8cOAA36YWHh+/bty8sLGzv3r2htbJnz56QkJDg4ODdu3cH1cquXbt27ty5Y8eO7du3BwYGGhoa2tjY5OXljR49+u7du5RmEVcil8uNjIzMz8/PysoaNGgQ5a5VAAAvuguPugoKChQUFAjsSJNBXcjg1dXVMjIycXFxysrKkDJ58OABjNYhCOpC7ZSXl2/dutXf3x8A8OLFC8KqCtzDceXKFUq6ixfqSk1NRe0LqxQXFwMAEhMTy8vL8/Pz6ekEYRuvt/Jk1FVSUnL8+PGQkJCpU6eitzP9ePB0Fw3qun//PoO6CJYUDXUJ7t3l4uICVxgxDMvOzoYoKjIycuvWrXl5eb9//x4yZAhc91+6dCmHw4mPj6+srPT29t64caOXl9f169ejoqJWrlxJQ8IRZiSuSy0trX///VdeXh4PCsXVOKGdioqKZcuWcTgcGxubtm3bSklJKSgoiIC65OTkPn78SGhc7JcxMTHdu3fHMMzY2JjSTYW+Rymp/49kqqqq5OTkGhBb0w8VAPD/x0pZFB5QiLK6dOmSl5cXERExcuTI7OxseXl5wu+ECHRXUlISTdQi2PX9WkHDEFYJDAx0cHCgqeXo6EjwpoeFz58/b2BgYG9vP378eGlpaUdHRycnJ2dnZxcXF1dXV7dacXd3nzJlioeHx9RamTZtmqen5/Tp02fMmAF36M2aNWv27NleXl7e3t5zasXHx8fX13fu3Lnz5s2bXysLFixYuHDhokWLFi9eDN1SBw8eLCsre/PmzVGjRrHZ7MGDBwMAXr16NXfuXEiNvHr1ip6dopkvr6zq6urbt2/Dw0f9/PwOHjyIX3zkRXfhURcAgBCwBwAgIyMDf8559fsXpX/9+nXDhg0TJkyALBeiu+AUnjx5oq+vT3moFN85+vv7q6url5eXFxcXwyVgAEBsbCzc/dCjRw9C7C5K1KWmpiYy6nrz5o2amtq3b9927NhhY2OjqqoquOcf39nVZwEy6rKzs5syZUpQUBDy6+I7HjzdxaAuvubCFxANdQm+mRGhLnynlHpZWdmPHz8qKyvLy8tDQ0PhRvX9+/cbGhpCF0AUiJiyutgT4R7GZcuW1Wcwz+XLl8+dOxdyXsKirl+/fsnIyMBfH7FbA9/g1KlT4bLgyJEj8U5N+DI0Oh51AQCcnZ33799PU75hs/igLnRAIRylnJxcXl5eVVUVm81+/fr1kiVLyG8xYekuOzs7Ebzn4Hhu377NYrG6du2qrq7OZrM1NTW7deumpaWlra2to6Ojq6vbq1ev3rXSoUOHT58+8bK1o6MjPkY8Knb9+nUYc7yeVxjhz62pqSkAYNSoUZcvX4bfRl+/ft29ezcEWx4eHiNHjgQAXLp0SVlZGe62RUcv5+bmPn36lFfQZzRBGuX69esw2mdMTMzJkycho0NJdxFQV2FhoaKiIj4GVceOHZsM6kpPTz979qyXlxdkTfB0FwCgvLzcxMRk5syZNIalyYLbcE6ePMliseB6JSycl5enoKCA9nPA2F1iR13v37+HL+UVK1bcunUrIiKCZqiNOQuhrpSUFBgGD0bkCgkJIb+vaCaC6C4GddFYCWZVV1fn5uZCxwORUZeAdJeLiwuMycJ3VIQC6enpBw8ezM3Nzc7O1tfXDw8P57WtmFBRXJcQdcHtaHV5OQs+npKSEgUFhaSkpKysLDU1NRFQl5ycnLq6uti/8PFT+P37t5ycHNxmJFqUVALqOn/+vMiLY/iBSUjnj7rwgazk5OSgs1FoaKi1tXVOTo68vDzh21pYuuvWrVtlZWU00zt27Nj69espC8yYMUNaWvrdu3cpKSk/f/5MSkr68ePH9+/fv379mpCQEB8fHxcX9/Hjxw8fPqxcudLe3p6yEQBAI0Rdr1+/NjMzg6gLkk+8Bl9TU5ORkQFD9p8/fx6emxEVFWVubg5Paho+fLiuri4A4PPnzz4+PvD4Drh5W5DVlhcvXowfPz46OprL5W7fvh0G78Z7dxFQFwAgICDA3d0dDbgpoS40KS0tLbj/g0B3+fv7+/n5nT17ti7xaVNSUoqKirKysgwMDOAPTElJSc+ePW/dunXw4MG8vDw1NbVRo0adPn0ajQcqampq9LtSCOXhZWhoKHQ3fvXq1e/fv4U6OZ6ywYZNRKjL3d09ICAAhakLCQkRimNAdNfy5cvJvjhwDyOzwggAOH36tJGRkaWlpY6OzrVr10RGXQLSXc7OzkKhrps3b0LmIywszMXFhcaBWNLPrba2NtwT5u3tLYLPuAjDCwkJQes8o0aNEgF1ycvLBwQEzJo1S4TeBayyY8cO5MslAurCMKxFixb4voqLi2VlZRttuCLhUJe8vDxEXeXl5aqqqu/fv1+2bNmcOXPwEwYACE53wXNUCNUJl76+vrw8jXx9fYcMGQI9JQm1CJelpaUqKiq86K5GiLpiYmIg6hLhKSTMvbi4GG6IS01NDQkJgbupFy5caGxszOVyX716paSktGvXLgBASEjI8uXLKyoqioqKIiMjCbslsrOzhw8fzmazw8LCvn//Pnz4cEiHkFFXUVGRoqLily9f4EiaDOpKSEiAnF9cXJyqqirSkXcXAMCvVqKjo3v37k3enUq4NXwvnz17Bt3FtmzZsnjxYhMTExcXFw8Pj5CQkK5dux4/frzqv6KqqpqYmFj5X6kgSTlO0tLSBg0alJCQ8PHjR0VFxaCgIFVV1ZycnLKyslKSlJCkmEqKSFJIkgIqySdJHkl+U8kvnBw5coQc3wQAEBwcLBTqAgBAuis4ONjIyIhwsxDqgpQzIbdZXSJc++XLlx49ehBQl1BndwpCdwmCun7+/Llp0yb4rnNzc9uzZ09juCPa2tpwESAxMZHFYkkaFnC53O7du6O90iKcCPT79295efmsrCw5OTkJ8YIYhmlra0dFRcEbJMLvHZfLJaAu+JdLuX7VGB4DoVEXija0fft2BwcHuMeBECJIQLrrxo0bffr0EYRu4WUpX1/fgIAA+FjwKoPSt2/fzovuapyoC54GI8JTiKYsiMLlcrOysnJzcwEAN2/e3Lx5M5fLTUhIGDx48Pbt2+Eaeffu3fPz8zMyMubMmRMYGKihoTF69Gh5eXlNTc2SkpKsrCxFRUVzc3P8otimTZtcXV3hADp27AgBiiDjacxlzpw5Y2ZmZmhoaGZmht/igKe7IOqCobYAAFevXq079oJ0wrRp0/T19cPCwqKjo8vKylq3bt2iRYvW/xUpKanWrVu3wUlbkrT7I23btm3dujW8at++fbt27VDZ9u3bS5OkA0k6UokMSTqRRJZKOpOkC0nkqET+v9KuXbvRo0eTHyQRUBeku8rLy3v16kWgnCHqunfvHoO6AABcLresrOzYsWPQ5RcFNDc0NBQKdQlCd9GgrgsXLkyfPh3DsNjY2AULFtSDGzj5MaNJQagLAODq6iqyaw1NF/isixcvwiNPYKJoqEtOTg4A4OLigk4fx3dRd/3evXvGxsaoHRF+77hcbsuWLVELUDl48CDf2AWEKvV2yQd1EY7KwR9WU1JSoqSklJCQsGLFCi8vL8KIBaG7Xr9+zTeK3e3bt6OjowmNo0tfX1+4aiA43UX5d+jk5ESJixvQrys6Orpfv34AgJEjR96/fx9Nuf4VuHkbw7Bfv37t2bPn7t27Y8aMmTBhgr6+/uDBgydOnNipUycy6ioqKkLnYHbo0KFpoC5exsd7dyHUBQuvWLGif//+vCoKm37hwgVtbW0OhxMbG3vw4EFvb2/4g4fa6dq1q+ArjHZ2dm5ubgCA3NxcBweH8vLyxh8QFc1UBEUE1IXortOnTxO2ozOoC38Lrl69amxsrKKi8vz5czzXJQLq4kt3EVBXTk7O/Pnz4YlAYWFhhw8f5hsZBD/y+tTxqOvTp08qKirQ41BCYxgwYMDly5dR4+PHj79x4wa6FESBHlcAgJcvX/bo0aMuFAmv7mxsbPBnmY8aNYrwecOrIkqvqalp1aoVuoRKdnZ2ly5dGucubP6oC7+5j8ViQVIETiwgIMDDw+PXr18sFouwFZYv3UXY/EgwGbocOHAgzS8BRF3p6ekC0l07duyws7NDjSOF0jEZANCAqCsqKgqiLktLy4ZFXchKSImJiVFXV3dwcOjXrx+Hw4mKiiKjLgAAOgezyaMu6BoIdzUSUBcAANLDMD4qsqFoCozdBY9A/fz5s5yc3O7du01NTWFISQBA165dBfnLgn4CaWlp8DW6ZcuW1atXHzhwwNjYuNH+YolmMXwt0VAXL7qLQV1420L9y5cvmpqakPyGKSKgLr50l7Oz8+nTpy9fvmxhYfHt27eSkpLNmzfzDYVNHm39p+BRFwDA2tpahNNvBBz2q1evtLW18ZvQx40bJyzqysvLg1wXAMDIyEhYPMR3qCkpKSwWC39M7ahRo/DLCHxbAABUV1eTURcAwNzcnAY8CNKyhMrUCXUVFBSwWKykpKRVq1aRve1o6K7S0lI1NTVeXlb4qb5//x4fkBOfBQCAqAsAMHfuXMHpLnKgCl6o68aNG/W2hzEoKIjNZhvVytmzZ6OioiBHYmlpCQ8vI8y9QS5zc3MDAgKuXbs2ZsyYWbNm5efnW1pa7tq1ixJ1FRcXKygojBkzplWrVpMnT3asR3GqdxkzZoysrGxNTQ0ZdQEAysrKevbsGRAQUJe7VlNTU1FRceHCBTMzs4KCgtLS0uLi4q9fv8bExGhpaa1cuTIqKkpVVZUv6oqOjlZRUYFed9XV1chd4+fPn4RAa3UZbSOsKxrq4kV3IdTVIGe8NELzAgCqqqpkZWVTU1PrssIIAOBFd3G5XDc3N3V19dOnTz9//vzmzZv0O7Eam5UIqCs6OprD4dD8wNVl/JMnTw4NDcW3IBrq6tKlC2wkIiJiwoQJ+Abrrq9evZoQ9VM01NW6dWvyYHbu3CnydnJya2JMEQ51KSgo4LkuAMCqVatmz579+/dvCL/wI6OhuzIyMqDPEL48WU9MTKT/8kaoS3C6a+fOnZMnTyb0RYO6xo0bJ7nTr/HDCAwMhNEyYeKrV68GDBgAABgxYkSDo67q6uqrV6+Wl5d/+/bNy8srLi4OH7uLzWYrKCgQ/LrgLAYMGODr69umTZujR4/CGLP19u/p+pU9e/a0aNGiZ8+enp6efn5+MEAUAODWrVsDBgy4fv16YWGhpaWlhYVFQUHBw4cPdXV14bbBiRMndu/eHXL4ioqK0NXD1tYWEoTv379v1aoVjHfg6uratm3b1NTUnj17SktLw++cZcuWqaqq3rt379ixYywWS1pami/q+vLlC/pm9fT09PX1LS8v37t3rySWD/BPeIPrwcHBhFe8gEOipLsg6rp79y6DutasWbN48eLAwMARI0Z4e3vXcYUR3hQYqh4iksePH/fu3RtGRr148eKECRPIu3cFvJUNW4yAugAAFhYWMOiPeAeWmJioqKiI55Dgx4MIXBdCXWVlZTAIhbiGWlVVpaKiQtgxLQLqqqqqatOmDXlUP378UFZWxrN95DINksIHdRHChyooKBCijOTm5sJYqWvWrJkxYwZhDpR0V1lZmYCGMDAwiIyMJLSJv0SoS3C6q6ysDO6+xLfTSFCXpaXlypUrr1y5gmHYy5cvoR9Jw6IuGJDCz89v8ODBhB3XKHbXkCFD2rdvr62tjfemh+adMGHCtWvXpKWlCX//eOM3GV1DQ2PLli0LFy6cN2/e06dPX716BY8Yf/nyJQw3GhcXd/HiRTU1tUePHsXHx0Mve3iwCeQJcnJyoKHgGcDQJR9tEEOGwoeqR4nQwUtRUZEGdW3fvj0sLAxVwTBs165dpaWlq1atEuSQeFTxL1V2794tGuqipLsY1IUeg7y8vNu3b586der58+cwXnxduC4Mw0pKStLS0tq2baukpFRTU5Oenv769Wv0q8HrdY3G02gVMuq6f/++np6e2D945s2bt3LlSoIdROC68vPzEeoCACxatGj58uWEZkW+PHv27PDhwwnVRUBdlZWVlKgLANC3b1++vuOEAdTDJX/UhXczV1RUJKAueCcWLFgAAzkSfpgp6a558+Zt2rSJ79yqq6tXrFiB/tIoy+NRl+B0165duyZNmoRv0MHBgUDGwtwbN27UG9cVGRl57ty5a9euDR8+fO3atS9evECoC8YOwA+4fnR7e3s9PT2CvzbqGtFdX758CQ4O7t69ezNHXTo6OgkJCTNmzOjQoQONK969e/dEOMcdmR1CMX19fRiqHp8OAFBVVSXE+0AFfv/+bWVlhXztz58/j0LP//79W9Kb2NEwGlCpC+oi010M6uJ1K0XjujIzMzEM+/Lli7Ky8urVqwEATk5OlMeANiXUBQAwNTWFp3Tzsqew6fn5+eRTkkXjuvLz8zt37owG8P37d0VFRXHtABgyZAg5DL1oqKtt27ZokHhl3bp1S5Yswac0Bl1o1IXe1Gj0GRkZ8vLyOTk569at8/T0ROlQIdNdXl5eZOhGqCXgJR51CUt34b2bDx06RLnVvD5RF5pyTk6Ourr6ixcv4Kbf4cOH1yfqysvL8/HxgWudHz9+pF/hRXQXdF2kQV1/l/sFuhdCKRB1rVu3ztfX9/fv32VlZTTP+aFDh1xcXESmAHnRXSoqKmTUVVJSQliRiY2NVVNTS0xMTE9Pr59ojUJZUkKF64K6yHQXg7p43SYC6qIJygidFqCnipycXGJiYnV1dVJSEmyZl3cXry3nvMbTeNLJXBc8XAQGCRLXOLdu3UoO6isW1AVP44XBt+s42k+fPqmpqZF92kRAXRUVFbxQ17t377S1tes4VLFX54O6CM+3kpISGXUBALy9vVesWJGfn6+goAADcqKBEuguwbdsDBs2jGatBLZPQF2C011BQUG2trZokFVVVZqamuQQFQ2CuhITE3v06PH8+XNzc3MAQP2grsLCQhj7tKKiYtOmTYQAbMhQBAXRXfSoq3379s0KdUHMeuPGja5du/I6SaO8vHzhwoUiH9EKNzOS6S5K1GVnZ0c+UBYeKTFjxoyNGzcSbmtTvawj6iLQXQh1UX6wNVUbCjIvPOoyMDAgo64PHz7k5ORUVVUpKCjAJzMvL4+8ks5rMyOv8IqCjK1hy1CiLgzDevXqJa5P66qqKjU1NcrXjggrjAUFBXiuCzqqwvDddbSkj4+Pn58fuRHRUFe7du3ITcEUDodDGS6KV/l6SOePuvBfyUpKSllZWeRhJScns1is/Px8Pz+/adOmEQoguuvIkSPt2rUTJIRGSkoKPIWQ0BThkoC6hKK7unbtiqe7wsPDySc33bx5s95WGOfMmbNq1apNmzbp6ekdPXr02bNnCHXBM3wIcxfXJTTC+fPn7e3t4+PjhW0W0V2U3vTQr6t5oi7oIF9WVlZYWEgDOgMCAmAkCGEtT0l3EVAXRHV4yi0uLm748OHoF05wJ0thh9cIy9cRdRHoLoi67ty5w6Auwr2mRF3Z2dl37twBABw6dEhLS+vJkyfw3FJCXcIlJd3VxFAXAODo0aMjRowgzF20yxMnTlhaWlLWFQ11ycrK4lsjxLvHZwmuFxcXQ3dwchURUFd5eXn79u3JTcGUBQsWbNiwgVdug6QLh7qUlZUpURcAYNq0aevXry8oKFBQUCDsP0d0V1hYWJ8+ffbt2yeuqZJRl1B018SJE9FI4JHe6PAEmH7z5s2xY8fWzx7G79+/X7x48fTp08nJyQCAZ8+ewZPeLSwsJIG6oP/mlClT9PT06hLCFNFdzQ11YRj248ePBw8exMbGQmOiFUb8XlQAQGhoqJ6eHnKoQo8cVKKioiwsLOhXcglV4CUl3aWiooL4s5cvX6JAtaiFDRs2wDPsoqKiyGd5oWJNUtm9ezeln5Dgk8XTXaNHj46IiGBQF9l6CHVVVlZ2794dPm+WlpYODg4YhtG76pJbg5sZ8el/L+rq0aMHPBEIPx24k4bNZr9+/ZqQLsKloaEhRLfkumJBXQCA7du3o2MTyb0IkrJv3z6CazWqJQLqKisro0FdkZGR+Nj3qKMGVIRGXeidThj0169fFRUVi4uL169fT15URnRXdHQ0m82mp7swDNu8eTP6HCd0hL8koy7B6a7y8vKuXbvi2e99+/ZBjIW6qE/UhTqFytOnT4cMGQK3Fj9+/JiQW5fLyspKOzs7a2trAIBYDquBdJeKisqRI0cIA0Ncl7gcMAntN+BlQkLC+PHjlyxZMrFWuFwuL9QFj1qqqanJz8+n+ckJCQkR9naQ6S5lZWX0F5qcnAwZBWil/Px8vHuAs7Pz1atXG9CA9d91UFBQHVEXnu5SVFTcsWPHqVOnhg0bloGTdJKkkSSVSlJI8pMkySRJopJEkvwgyXcq+UaSryT5QiUJODl79myHDh0qKio+fPjQoUOHHTt21OVek+muvxp1odNpCTYJCQnBswCEXAEvHz161Lt3b16FRUBdhYWFBK4L/mrIyckRYkjx6pQyvW/fvrxWVEVDXdLS0pQdAQBqamoUFRUJUdx5Fa6fdD6oC0YBRkPBf0mjRKQ4OTlt27atsLBQUVGRgOgfP34sLS0N3SStrKzo6a6nT5/27dsXNUujUKIuwemu3bt34x/0yspKwgdHA6KuyMjIoUOHwqPExYK6srOz/fz8YKzeS5cuiXHPGqS71q9fj3eVg3cNoq527do1PdSFHksMw7S0tNLS0hDqWr9+PcrFK0uWLLGwsCgqKsInQh3DsIULF5IjyZFL4lPIdBdEXQEBAfA4c1S4srJyyJAhyIULqxWU20wUsaAuRHd17969S5cucnJybdu2VfkjqiTpShI1KlEniQZJ2CTRpBIOSbqRpDuVaJFEmyQ9qETnvyIvL29gYAB/lSn9uoR93gh0FyGekbCtNWD5Hj168EJdZWVlysrKdYywP3bs2EOHDvGaoGioq1OnTuQGPT09RT5E8sWLF7q6uuQ2YYoIqKu0tLRDhw68GoQLccHBwTQF6jmLP+qC/DAcFsFrhDDWjx8/woOlAgIC3N3d8bn/+9//5OXl4d4HvnRXcXGxgA8fJeoSiu5SU1PDH84aFhYGHbng4BsQdT158kQsqKuqqurixYtVVVVxcXFz587l9TePv1ki6GPGjNm9e7eqqioh7n/TRl1lZWVRUVEHDx40MTGpqKiAqGvt2rW8UBeXy4Xna1ECLxjCHsMwoRaUCXSXsrJyQkKCra0tYrzQ3Tx9+jRcCT1y5Aj54FRUrAkrYkFdiO6Cxrxz5w7ZH7QJ21DYqYkFdRHoLgcHB/w5dcIOqQHL06AuAMCmTZvqsnL3+fNnVVXViooKXhMUI+p6+/atpqYmDXPPawzwIO3du3fzKiAC6iopKaFHXdevX7ewsODVY/2nC4e6VFVV4+Lirl27FhISAl86AIDCwsLbt2+HhISUlJRMnDgxJCSkqKhIUVGR8AOPvLsAADR0V3V1NXRsEsQWvFCX4HRXcHCwjY0N6quyslJDQyM2NhamNCzqGjZsGOS68OtEaKh8FbhctXz5cgsLC7hhjW8VkQtA4OXLewAAIABJREFUumvbtm0EtgahLpp3gcidNnjFzMzMmTNnmpubr127FgDAF3WhAdvZ2bm7u1OuoWdlZfXo0QMfyxTVolTwdFdRUVGnTp3Inpfbtm3DbweeOnVqY9vUQzk1sSeKC3VBugu6Sdy+fZtBXTR3ysDAAL9piaYkfRae7mqqqAuesCf4zx/BYjNmzKB3GxcBdcFXCqEjeDlgwIBr165RZtEk5uTkyMnJweDblMVEQ10dO3akbA0mlpeXd+7cGR4+S1Os3rKERl07d+5ct25d+/btEc69ePHiypUrFRUVMzMz37x5o6GhUVlZuWnTJldXVziN0NBQePK5IN5dd+/ehSfhCGICXqirLnTX3r174dmL0B2n3rzpCfN9/PgxhOdDhw4VAXWNHz/eyMiIV4BTQl/4y6ysrHd/5O0f+fePvPkjsbXy+o/ExMQMGDBg7dq1BLoLoq62bds2SdQF7cblcvv16/fmzRvBUVdpaSk83oRyb2NBQUFubm51dTXeDQt/jwg6orvs7e2lpaUJLNe9e/cMDAzggnJVVVUTvhEEs5AvxYW6EN0FAGBQF9nO+JS+ffuKBXXh6a6miroAACtWrPDx8cEbUEA9Ozubr6+VaKhLRkaGcgwnT54cOXIkZRZN4ubNm8lRbPDlRUBdxcXF9KgLADB58mSxhBnDD1VknQ/qcnFxwa8worN1ZWVlEeqCfWtra8PXvZWV1YEDB4qKiuD+KS6Xq6urC928BKG7njx5InigXhrUJTjdFRISAl3L4UQqKirU1dXfvHkDY5NA1JWWlqampiaylUWo+OjRI3haguCoKycnZ9asWTDu/8ePHympFL4jYbFYOjo6BgYGhn8EHshtZGRk/EdMasX0j5jVSq9evWRlZQl0VxNGXWhHCJfLNTMzi4qKEhx1obswYMCAdevWoUu8cu/ePTU1NcKKLb4A0jEM69mz561bt/Lz8wmxXWAQQrSguaRWUMXmpgQFBS1YsEAss0Z0F4O66O0pLtSFj93VhFFXVlaWnJycgJ9beMv7+fnxdRsQL+qqrKxUVlYmrGjhh0TWuVyupqYm3qWHXEY01MULGqL2T5w4gV/UQulIuXv3LuU3MCogRoU/6oIf5bDLrl27wqUKGtT14sULLS2tmpqaLVu2ODs7AwDQ7xNcLxPQu0uQSdKgLsHproqKCjU1tX///Rf1GBoaCg9Xv3Xr1pgxYwAAaWlpXbt2RQXqQXn48CFCXfSHUebl5YWEhCQnJ5eWlm7ZsgW/liTCOFu0aGFnZydCRRi2mODd1YRR15kzZ0xNTV1cXExMTNzc3DAMEwF1ZWVlnThxAm4dJ9v80aNHRUVFfINKPHv2TFZWVl9fHwCAR1137tyBId9Qy0uXLm08NDsaVb0pu3btEhfqQnTX7du34Sui3mbxd3UkRtSF6C4HB4dz5879XXaAo6X364Jl5syZs2LFCqFmV15eLggAEgF1FRcX0wCa1atXC7Up+MaNG/369aOfmgioi2YZFPUFjzaiOQtEUVFR0n44aDBCoy4YdogGdQEAhg4deuLEieLiYgUFBUJMIHq66+rVq0I9cPSoS3C6a8+ePRBmQbtAuuvff/9tWNQF4+YNGTKEEnVhGAap+xMnTjg7O9fxaD/0QLRo0UJJSenTp08oRXCF7N2FUBceeQveYCMvWVhYGBcXh2CuCKgLTrCqqqpXr16HDx+mnO+aNWvc3NxovsPS09NfvnwJT2bEnx6xcePGqKgo2GZubq4Yd61SjrPxJ4oXdUG66+rVqwzqorn1YkRdiO6yt7dvwqgLhhwvKCigsSoha//+/fjlGkIuuhQNddEs3qWkpLBYLMHDPY4ZM4bvMp8IqKuwsJByoyWaOFQsLS2hpxMhHV42XtSlpqYmCOq6fv26kpLSlClTFBQUdHR0CJOk8e5atmxZREQEoTzNJT3qEoruQquKsLs9e/ZYW1s3IOp68OABDDE8ZMiQp0+f4o0A13bt7e0NDQ3F7qbTsmXLLVu2ODg44HsUXCdsZoSoq02bNk0SdRHMglAXvU8roRa8jI+Ph8fMk9eFy8rKNmzYQGnA1atXb926FbYAvbsUFRWzs7O/f/+OD8qKYZiVldW2bdsou24+ieJFXZDu8vb2ZlAXzSMkXtQF6S5ra+smjLoAAO7u7ps3b6axKj4LwzBdXV3CbwS+ANLFjroAALa2tuHh4agLGuXHjx+CnJwtGuoiBxUjj2Tv3r2ELaKHDx9ms9kcDmfDhg0IdZWXly9YsIDNZqurq3t5ecGYR5cvX160aNHUqVM1NDT09fVhPFsMw/z9/dXV1dlsto6ODgy8gK/u7e1NGTKJD9fl6uqKX2FUU1P7+vVrXl5ep06dfv36Bfm6ioqKvLy8bt26xcfHQ9hbWVmprq6+fv16Pz8/NptNmD893UUoTH/JF3UJTneFhoYiJ3oAAFx2DAkJaagVxvv370PUNXjwYPQXVVZWZmNjY29vL64Ap2TztmzZsrCwUFlZWSx0VzNEXWvWrBEBdcEbkZeXp6Ojc//+ffJ9AQB4eHjAcGswt7Cw0NXVFcUqhJsZZWVlv3//rqWldfz4cdRITU3N3r17yQfNogLNRBE76oqNjVVQUGBOBKJ5fsSLuiDd1bNnz6aNuuLi4lRUVGjobbzBb968KcjpeQAAJycnOTm5QcLIgAED6AO7P3r0CPo24IdEqS9btmzJkiWUWfjEGTNm9O3bV5gxDurfv78gFkhLS2OxWOg1+Pbt2y5dunz58gXDsHXr1klJScEVRl9fX2dn54qKipqaGnd39zVr1gAAIiIiZGRk4NE14eHh8LTyjx8/qqmpQZ+N7OxsqPj4+Li4uMDqbm5ulG67/FEX9DuBdlFXVw8ODh7+RyDIvXXr1p+E4ejL28jI6O3btwkJCWSui5d3V2Rk5PPnz/E3gK/OF3UJS3ehmBEAgJCQkP79+zcg6oI7RAYPHnzp0qVVq1Y9ePAAHlAvOKPL14DkAi1btqypqdm2bZtY6C6Euvg6J5FH8telQK6rLqgLAIB2k6DILMgOL1++nDp1KgAgPz+fMuDNhQsXWrVqFR8ff+PGjV9/5OXLl58+ffpz1az/37p1qxj9uuB9MTMz69mzZ7M2K+3k9fX1xbKHEf0VpKWltWnTJigoiLbbRpqppaUloPv5xIkT9+zZg2ZNo1hYWODPSqYpmZmZeeTIkedCCp41p2y8V69eiBegLABZDCUlJcJRgZSFi4qKhBzg/xVHbh6UbaLEf/75B0VDXLt2Ldp/UFFR0bp169TU1Jqams6dO1+9evV/tXL69GkYsD0iIgI542dmZsrJyQEAEhMTO3fufODAART4nlD91KlThoaGqHekCI26UlJSUGUahcPh+Pv780JdlHTXmDFjBHx6UL+CoC6h6C58iNTy8nIWizVo0KAG8aa/d++epaXl+fPnzc3NDx8+vHDhwh8/fqCJS06BqKukpEQsdBdEXa1bt2ZQl1C37OvXrwYGBu/fvyfXqqys1NXVnTNnDhmWwWhznTt3lv8jcnJyLVu2lJGR+ZPQrP/39fUV9ruObH9CyrNnz/T09Jq1WWknHxISguhYgulEvly5ciX+Iaftv3FlDhs2jCZUFd4gMTExmpqaiJjBZ+H1t2/fstlsmmIlJSUbN260srKytra+e/curIthWGhoqKWl5aJFiwgOZNu3b9+7dy8slpWVNXPmzJEjR06fPj0jIwPfL17fs2cP30/048eP86WEi4uLDx8+PHfu3HXr1qGgg1wu99SpU76+vpcvX8a/8TAMi4iIePHiBRxJbm6uv7//3LlzDxw4QHbSQKPdvHmzr68vvPT29l65ciXK6ty5c2pqamlpqZSUlLOz87Q/snTpUsh1ubm5wcK/f/9GOwwePHjg5OTUtWtXAwOD79+/l5SUSElJubi4/Kk9bdmyZagLpAiHujQ0NAREXbq6uleuXOGFuijprvfv39NsMUAjxiuCoC6h6C58iFQYPYXNZpuamvbt27dNmzZ/QiX83/8wegL+3z9xFf7zPwq7gFf+xGT4z/8G/xUtLS0OhzNq1Kh//vnn2bNn+FlLVIeoCwAgFrpr6NCh165dY1CXCLfsxIkT6LMMVf/27VtVVdWcOXMWLVqEEpFy/vx5Gxsb/EsHwzD0qkXFJKGkp6fD875g42VlZXfv3o2JiUEvyry8vLt3796/fx+FsZDEMJg2GQs0GQuMGDGCr++5q6sr/TGX6enp+/fvT0tLe/fuHZvNhmzT8ePHraysMjIy/P398afI3L59u2/fvuiUvLFjx27fvj03N3f37t1waxelbYuKiuTl5enZpv79+/MNqRoZGRkQEPD06dOQkJCePXtCKLlz584JEyZERkZaWFjgz/k9ffq0uro6XP4DABgZGW3btu3p06fW1tb+/v6U4wQAxMfHa2howNxdu3ZBXx0AQFZWVosWLVJTUzEMY7PZ5G+ziIgIStQFm8IwbM6cOfPnz4fVERbkNQw+qMvNzQ2/wqihoYHINF4twnS4nE+Dugh015YtW0SgQwREXYLTXXv37sXTXfA+vX79+ubNmwoKCn9igr6GMULx//6JHvqf///EFv3P/38ij/7n/z9xSf/zf3FxMQDA3Ny8QVCXWOguJSWl1atXt2zZ8vLly9dxco0kV6nkCkkuU8klKrlIkgtUcp4k56jkLJWcwcmRI0c0NDQSEhLquMJI+LN6/vy5paUlJPkjIyMVFRWhvx2Xyy0uLsZHtoNoBg+57ty5QzgOldC4uC4nT55sZmaGQiYWFBTo6urOnz9/3Lhx3t7eAIDc3NzevXsvWLBg0aJFurq6IkffFteA/8Z2SktLnz9/jl+tS05O3rdv3/Xr11HoxHfv3oWHhx8+fDgnJ+dvnGMDjpnL5aIvBDgMDMOQYRtkYA8fPuzVqxdhVPiRpKamslgswfcm29ra3rp1CwBgY2MDgQXcrQ9fGgUFBYMHD75y5QpCXYMGDYKxteLi4ugdp+bMmePn54cfG16HgE8oY/bq1SsxMREA0LdvX0j0vHv3Dh7WAkHSsGHDtm3bhlAXCqpw7do1GK8KPwC83rNnT+hHlJ6ezmKxQkNDX7x4MXHixLZt20K/rgMHDnA4nCtXrsTGxp45cwa6UVGirujo6B07drx8+fLZs2dDhgyBp0vv37+/W7duhOr4AQAA+KMuvFsum80WHHW9f/+eBnUR6K527dpdunSJMDi+lwKiLsHpLrhGA3co4Huv/3hdqHdzc3My9Ea5YlcQ1yUWusvd3X306NEtWrQYO3bs+D8ygSTWVGJDkolUYkslk0gymUrsSGJPJQ5U4vhf6devn6ysbHR09Jo1awICAsR1X2pqajZt2vT27VsMw3Jzc/F+h9+/f9fW1oZ/NcHBwQQCPzc3V1FRkT4gobgGiWHYq1evEOo6ffo0/ICurq5WVVUtLCysqRXYnZ+fHwzkK67em0k748aNGzVqFDrw49u3b5qamiEhIc7OzrNnzwYAfPjwYcyYMSEhIYGBgfA49mZiGWGnuXv37n79+iHypqSkxMLCok+fPgYGBvb29vBb9/Dhw9ra2n379h03bpywKzDCjoem/D///EMT7GDp0qULFy6kqY7Pio+P19LSgt9mvXr1Ql8+2tra8KNu5syZ9+/ff/DgAUJd0dHRpqamU6ZMMTU1pedv4uLiunbtyos3mTlz5saNG/GDodffvn2rq6tbU1ODYRhayysrK2OxWLCio6NjTExMUFAQQl1BQUFOTk6bNm0aMWIE/iVJ7mjFihWrV6+G6Z8+fZo+fbqLi8vTp0/9/PzQ4u/jx49nzJgxceLEuXPnQsojJiYGuT+VlpbCFlJSUlauXGlnZ+fs7Hzo0CGEjx89ejR9+nR8dcIwhEZd6G4RGiJc6uvrf/jwgR51IboLwzAOhyOg8yC+I8FRl+B0V1hYGIxHj++oAVHXoEGDGgp11Z3ugvEOWrVqReN5gLfzX62/efOmtLR03rx5tra2eM6pjpPCMGzJkiUODg4eHh6E5bmCgoKqqqrc3NwNGzaQP4cE9Nut4/BgdTzqOnr0KDrVREtLi/D0uri4XLhwQSydNrdGrl69ilDXzp07V61aBePrslisqqoq9NIHAMybN0/A/fzNzYYAgIRa0dPTg3MvLy+He/4xDPPy8goODgYAdO7cGfKF9vb2+NNZ6tlcV65cMTMzo+wUhsMU8Oc4OTm5T58+cAseAKBXr17IH0BbWzs9Pf3+/fvTpk0DAOBRl6en59KlS1+9erV69Wr04FEOBgBgYWFBeSR5QUGBnJwc8tPiVR2lJyUl9e7dG34u1tTUINRVVVXVuXNnAMCFCxegfwVCXRiGubm5+fj4HDp0aPjw4fioC6hZpERHR6NbjxLrWeGDutzd3fFcl6ampoC3uU+fPh8/fqRHXQS6i81mUwYlorGI4KhLWLoLPaCw94ZFXfTfGTT2ESELz3XVne6Cpzg3E9QFre3l5cXhcPB/NSLcBXyV4uLimTNnpqam+vr6kndUvHjxYteuXerq6vg/zJCQENECf+D7FUrHoy5Iw9y6dWvnzp0yMjL4QBgHDhyws7MTaq1BqGE07cJ41LVjxw74oV9dXd2xY8f4+Hg095qamv79++MP20BZjAIt8PPnT8qf3tWrV+/atQsAoKurm5SUxOVyx44dK8IxuOKyM4Zhenp6cPc6oc3du3c7OjoSEikvf/782adPH3yobVtbW3hZXl6urq7O5XL9/f179+5tZGSkpaUlKys7b948AICMjAz8esQwrEOHDpSNo8SLFy8OHjwYXSIlODjYyckJXdIrEB3if+84HA5kH1NSUgwMDAAAo0aNMjY2HjRoEIfDUVdX37t3b0pKSo8ePWDLnz9/pg91gWFY165d68f1gtdk+aOuY8eOocqampoII6NESqV3796CoC5Id9nY2Hz79s3KygqujFI2SJkoFOoSnO7at28fIfJhA6KugQMH4p9CSjuIMZGAusRCdzUr1LV69eqAgAAMw5KTk01MTMge8YLfrF+/fpEX40JCQtatWwffhpmZmUpKSpGRkVFRURiGQSYsKSlJXV1dhKPcBB8YuSQedQEAXr9+vWjRotDQUFtbW+SKFB4ePn78eLHH9SUPpqmm4FFXfHy8pqZmRESEp6cni8VCRsYwzNvbW+SIcU3VdIR5UaKujx8/GhoawmWm27dvKyoqstlsR0dHPIlIaKceLo8dOwaPhsP3VVNTw+FwyJ4w+DJQz83N7d69+9q1a5/WCnwtnDlzZvjw4d+/f1+xYoWnpye+Fp7rMjc33717d3JycmhoKC/KDdWtrq5WV1cnnxvbq1cvAf2SIXg6d+5cdq3A9UovL6+AgAAul7to0SJI7paXl5fWyrZt25YvX15ZWVlSUqKiogIJy5CQEFtbWzQqSsXb27thQ0YLh7o4HI7gqOvTp098uS4AwKBBg1RUVGpqaqKjo4Wlu4RCXULRXWw2Ozo6Gt0zEVBXdXX106dPkU9AQkLCsWPHbt26JeyHfsOiLrHQXa1atRLjihu6KY1TgagLju369etwCyH6URRqzM7OzqtWrSK89DMzM11dXZG7NP6jbUqtVFdXE3aDC9WpaIUJqAuOOTMzU0tLCz7wO3fuHD9+PGWkZtF6bIa18KgLrpTt3Lnz4cOHAwYMgNEZuFzu7Nmzly9fTnhmmqGt6KdMRl0fP340NjaG56qVlZVpa2snJyfX1NQ4Ojo24AojAKC6uprD4eB/jAAA58+fpySWyLNOSkqaj5M3b94AADAMO3LkiLW19Zo1ayCThComJCSg42EyMjLmzJljbW3t5eUlyBmFAQEBs2bNQk0BAB4/ftynTx98Co1+586d0TiBvH5+fr6Hh4eBgYGXlxf6MYWNXL58Ge3xvHPnTv/+/Q0NDW1sbMi+FoRO79+/P2DAAEJifV4KjbrgzgK+Q9TT04uLixMEdUVGRsLTsgEAwtJdwqIuwemu8PBwKysrNE0RUNeOHTukpaUTEhIAAFFRUd27d9+xY8ekSZNmzpyJmhVEGThw4MuXLwUpKZYyBK4LAFB3uqtFixbNE3XBO1JaWqqnpwd38wl4jz59+sTlcmlood+/f2tra0MfFNRmaWmpubk5/OZDifWgeHp66ujodOrUycjICC7NW1lZ2dra6unp3bx5E+IDKSkpPT09GD9l+/bt9TCqptcFAXVBf4yXL1/CE4Wrq6vd3d1XrFjBQC6+t56Aut68edO3b1/kB5mamqqtrQ0b2blzJ3K+5tushAqEhoaiEJ2wi379+uH3L0uoX2GbzcrKkpOTw3/y2dnZoehfwrYmufJVVVXy8vKZmZmS64K+ZT6oa8qUKfgVRg6HIyDq6tWr1+fPnwVBXUFBQYMHD4agVVi6S1jUJTjdVVVVpampiQ4PFhZ1JSYmurq6mpiYQNS1devW9evXAwBycnI4HA79LSHkDhgwoGFRV93prmaOugAANTU1cKPQunXr6LfYwA9ERUXFjx8/Ep4E/OXRo0c9PT0nTZqEPzbkf//734ABAyoqKoYMGVI/YbrwQ8LrFRUViYmJDLOFt0kddVtb2969e2traxsZGUGC08zMzMTEZMCAAdCH79WrV2w229DQEELbQ4cO1bHHplr9zJkzPj4+LBZr1apV//77b2ZmpqysrL29/apauX79enV1tbGx8bx580JDQ7t16ybgApnkzFVeXq6iooI8NV++fKmtrS3smonkhodv2dnZGR2bkZGRIS8vT9gAhC/cgLqrq2sDbjfhj7oQiQcA6Natm4CoS1dXVxDU9f79ew6HgzYzCkt3iYC6BKe79u/fj3bjC4W6MAyztbVNSkpCqOvDhw9Dhw69c+fOypUrV6xYIdTT1hhQVx3pLmlpaRsbG6qwD00wzdDQ8MD/Y+/M43Jq/v9/dQs3Ie0LaaMkpcWSLXv20E0kN7LHLcl2I6IsdWcrt+x7CFHkttyEZLtLyp5Ki0j7vl1dy/wet/nd853POdd1rnPtqWv+YM6cOXPmvM/pOs/zmve858gRfrf40KFDM2fOBADwmzjC4XDKysp4RqWHbbLZbEJAwtWrVyOPdfhb/PjxY6GmavPrraK8kVugOUwNlvgtSE5Ovvlfys3Nraqq+m/r3/+hVFxTU3P27NlDhw4h1pF4N4RqcOfOnShKp4uLSyMUkODlPHnyxMzMDKqtW7duFUrgF8ogYla+fPkyermL2ZQIhwtNXeRZVDzP2r179w8fPgjUuqqrq5OTk+FkxtGjRx84cGDDhg06Ojo0B6REoC7R5C6hqOvcuXPwnYeoKzc3d9SoUUuWLBk9ejQeYJen6QiF/fv3f/r0KaFQepvkEUZ4LnFC1aempvIKbtp4yw4dOmRqanr58mURuhgdHU3n7jg7O7u5ueFvTQ6Hs3z58k2bNlEfvnjxYvT7C2vGxsZOnDjRwcGB8EVUUFCwYMEC+kEUqc+r2KuwgMIC8rJARUWFpqZmVlZWRkaGlpYWwcNJXr3ieV4bG5s7d+7wc67neYjsC6urqzt06CCv30bhqMvExIQmdZmbm8OwKDxXv0ZWRusLhYWF6ejozJw5c968eaNHjya8P1B9QkY06hJK7nJychJ2HcYePXosXrzYy8tLS0vr119/LSsr8/LyOnr0KAAAru1IkynhxTo4ODQG6hJH7iLctR9ic8iQIbjKK/E+V1dXX7x4EQCQmJgIZ6jU1NSsWLFC4A/BmTNnCA6w0HFw0aJFXl5e+ByihoaG5cuXN9rPYombVNGgwgJN2AIbNmzw9PT87bff5O5nRm3ko0ePOjs7X7lyZdCgQdQ15bt3woQJKPCpjHsigLrmzJmDv3tMTEzQsuEREREjRoywtbVFPf7rr79Gjx5tZmZWX19vZmb28eNHaq3r6dOnKGjKiRMn5s6dC5uizxmiUZdQcpeRkdHTp0+F0roSEhIefU9mZmbh4eH19fXLli0LDAyES6OgICjIbtQZBwcH5F5GXVMie/lpXWJ6d0mkb7CRhoYGHFsrKirev39fXFyMTlFfX//x40f6cfnQgXgGTvLAtSh8rwTzhw8f1tTU9Pb2Fuiocf78eegmSDg7+vA9ffo0HL4kVPj06dOlS5cIhYpNhQUUFviBLFBYWKj6PcnRDZyOuWprazU1NQcOHCgvpqHTSQDA8ePHBS7aTbMpYasJpi58RMzd3R1B2IcPHwoLC9u3b49OmZ6e/u3bN01Nzbq6um7dugmkrsePH6NFHmVMXfTlriNHjjg5OQlFXcggw4cPh1ORs7KyrK2t+/fvb2xsfPjwYVSBTqZfv36NhLrkLndlZGT06dNHU1MTxSANCQmxsrJyc3Oztrbeu3cvACAnJ8fCwmLq1KlWVlZizpUbPny4bFyS3dzctm7deu7cuVWrVpWUlPB8KtLT0/X09PA4EbBabm6ugYEBCiQBg5V7e3vn5eWhdt6+fWtqakqYfI72KjIKCygs8ENYwMHBgX4gBjlekYeHR9u2bfm5rsqxY/ipi4qKOnbsSDFPHK8s2bxw1PX33393794dfZRzOBycumDPEHWlpaVRa134lciYuoSSu4yNjaOjo/X19fEOC5vncrnV1dW4SEOzhcZDXXKXu5jfk6enJ6KuwsJC6LlZXV2tqalZX18fEhIC14soKCgQ85Y9fvzY2NiY3+JiNG8fdbWkpCTW9wQA+Pbt2/Lly7Ozs+vr69GKYHCp19zc3C9fvrx58+YLKUVHRwcEBODFOTk5q1atmjt3Ll6Ynp7+5cuXBw8eJCcn4+U/el6CURLq6up+dGtIu/+SDb1bUVEh7Q5LqX25vKobGhp0dHRUVVXxHwfqnxfC3pKSEhEMgn+/ERrktzl37ty2bduKZqXi4mLZdBIA4OjoCJcD53chUioXjroAAIMHD0YCFQV1de3aNT09nYK6Hjx4sGLFCnRVBOqiqe6IPMIIAKAvdx09enTw4MHb6vttAAAgAElEQVRivsLRlQqb6devnyxVCooRRjFjdwl74fzq49SF6pSUlBgYGLDZ7AcPHowdO7akpOTatWvjx49HFUTLODk5CatN0j9RbGystrY2OULE3bt3tbS07t27BwC4du2aioqKsrKynp6ePilpa2uTyv6vQFdXt127drq6uqioQ4cOLVq0wEvQrh804+/vL6m/jgEDBnTs2PEHtYMMut2xY0dLS0v6jzd1TTabraurq6OjI4OeS/YUenp6Tk5OshdyTp8+7eTkNGfOHJGnJzs5OTEYDKGsoampyWAIgATCja6pqdHQ0Bg6dCgaFiNUoN4cNmyYsJ1UV1cXtpOwD3v27FmwYAF1f6SxV4BB586di48wwmBC3bp1g5oNBXWZmppmZGRQUNfWrVt37dqFLgmnLvrqjjjUJZTcZWBggBY8R32WTaZv376Seq/Q6TA1dcld7gIAkKmroaFh4sSJFy5cgPMVRo8ebWNjY2xsjOIp0LlwnnWEDSDHsxGehSwWq6qqCl8+D6+WlpZWXFxcWVnp5ubWqlUrntFGnj59qq+vX11djR+I56urq+fPnx8QEIAXQs8wEb5f8UYaTx4P7yJmr0xNTdGkdzGbapKH3717Fx/oEPMaGxoalJSUlixZImY7cjl8zJgxso/2ZG1tfefOnQ8fPujo6OBR+uhbYPz48TExMfTrw89sgSswEho8fvz4xIkTb9y4IXARIcKBcHP06NG3bt3iuYtfYXl5eYcOHfjtpSjPysrS0dFBY3cUNSW7SzB1nThxgnDKYcOGQRSjoC7od09BXXBdAtSyXKiLvtwVHBzcqlUr1FtZZhobdVF4d0lwuIfCwgTqYjKZLi4uoaGh8JDt27dv3rwZAFBQUNC5c2fx3eHHjRsn2WmALBZr4cKFcE0xisuEId0tLS27dOkybNgwcs3ExEQ6WMnlcgsLC4OCgvDR7VGjRsnlI498FWKWEKIZi9Oavb29ubl5Iwz5Lc5FSfbYQYMGSWp5nIaGhhYtWmhoaKBp7JLtqlRbe/78uaGhoVR9Dwj9v3v3LvLocnFxISxKQajMb1M21GVvb3/z5k0Oh2NiYkJnpUhCb2VJXQCAXr16xcfHE/og7U1RqCs+Pt7ExOT27dtbtmxp1aqVv78/jN779OlTf3//Nm3abNq0SVdX99OnT/yoKyEhgbCQu1yoi77cBV/hvSWa7O3t6bQ3ZMgQfh7W0ng4BGpdPOWuy5cvwyXre/bsefXqVQDA9u3bYYxsGxubrl27SjBCMU5dtbW148aNQ8gFbyiEJBaLpaamJtpHIW7YFy9edO7cWTQfBbwdlK+vr1+/fj2FRgVrcjickSNHjh8/3t3d3djY2MTEBJ+HKNQvRX5+vpOTEy5a19TUQIcG8akUXZe8MpKSu+zt7Xft2mVjYyObjwd5mUuc80pQ7mpoaFBWVv79998VchedOzJmzBgkfyQmJhoYGIjAfDKgrn/++cfExAT+BQUHB8+ePZvO1eF1ZExdW7ZsWbVqFd4BGeRFoS4AwKhRo/z8/FAMSThskZaWhko6deqUmZnJj7rc3NwOHjyIX97JkydR5AiZjTAK5d31/v37BImmYcOG/fHHHwKbJPv94HaTeJ4OdZHlrjdv3kCMyMvL09XVxRnl7t27+IqW4nS4oKBg6tSpJiYmffr0gctZenl5aWpqTv0vFRcXw89Qb2/vESNGoCdKnJMCAJydnUX7uCSc98uXL97e3rjmRKhA2Lx9+/bJkyd//fXXkydP2traQpx9+fLliRMnrKyshPrZ5X5PmZmZ+AJfVVVVZmZmd+7cIZz3x9qUlNxlb2+fmJhoZ2enkLsoHgBJyV2QuoqLixVyF4W14a53797p6enhnmQjR47EP6IEtgAryIC65syZ88cff8DTlZSUqKmpwXXZafYQACBj6kpJSTE1NaXfPYnUFEBdHh4eCLHx8z179szQ0BB/DvC9AAAjI6OsrCx+1PXq1SvCRIyTJ0/OmTMHNkLff1xMvy54uuXLl8NZb4RLkPbm9evXra2tG9uHNR3q4il3QXPV19fr6uriC/C5uLhAXBDfng0NDRn/JRhZtKCg4L+Cf/+Hyk1+fv79+/eTkpIkZdvk5GR9fX3xZTMPD4+goCA6dvD393///j0A4PTp07/++iuLxeratWtcXByHw3F0dBw+fDg/hzDqxj98+GBlZQX99GHNuLi4iIgI6qMa/16JyF2Quq5du6aQuyjuuKTkLkhdAACF3EVhbbhr/vz5BA/6+/fvi+BjJ23qKikp6dixIx46cd68eTBQpcBrRBVkTF1wnUM8uDTqifQygqmLX8iisWPHhoWF8euZoaEhP+rKz88nj2vg1EXfk0ki1EX27vr48SMMc/ro0SNIh5mZmahEgtOn+/btiw8b8TOmLMtpUhdZ7oKOeitXrsTdt798+dK5c2ehVBlZXiz9c7m4uOzevZt+fULNZ8+e1dfX03TbTExMtLKygg8epC4AwMmTJ4cNG8ZkMk+fPg0X0t6+fbsIMhW8FykpKbGxsaiTb968mT59usCw+Kh+Y8tIRO6C1AUAUMhd1PdXInIXoi6F3EVt7fz8fHV1dbKTiYODQ2RkJPWxhL3Spq5du3b9+uuv+EmTkpIMDQ1p/u7BA2VPXStXrty6dSvebWnnRacuOLqMjyXhfTU0NMzOzuapdTk7O6PYE+gQOVIX2btr3rx5Y8aM8fqePn78CD/IHB0dYcmLFy9Qt8XM3Lp1y9LSUqiHUswzCjycJnWR5S4ul+vr67t48WJcYdqyZQvP+XcCu9HYKrx580ZXVxdFgReqe7Gxsbq6ujRHiqFMiP6sEHVBuevXX391cXGBZ4+MjJwyZQqHw8GVRZode/TokYGBAYp039DQ8Ntvv9HxzafZvuyriS93IepSyF3Ut08icheiLoXcRW3tTZs2LV26lFzn2rVr9vb25HKKEqlSF5fL7dq1Kznkk4ODw7Vr1yh6Rdgle+qKi4vDl9gh9EcamwKoa968efy0Lujvgjsy4/3r0qVLTk4OT+patWoV+atavtRFkLvmzZsH18hDV/T777/zu1JUR7TMgAEDGtXKCfSpC5e7uFyuj4/PwoULcYJksVgGBgbv3r2Li4sTzTiN6ihXV1ea44N4t+vr6+vq6tA6Wvgucv7evXuWlpa44xeiLih3DRgwoLS0lHDgokWLnJycyH9ThGqETThg+uTJk7dv36JdsbGxjU18RX2jzogvdyHqUshd1KYGAIgvd+HUpZC7+Bm8trZWW1ubvCIFHFiwtLQUSu2WKnXdvn3bzs6OfCHh4eFwLWPyLp4lsqcuDoejra2dnZ3Nsz/SKBRMXceOHeN3Ygp/FwMDg8+fP/OkLp6tyZe6CHLXvHnzunfvbmdn9/vvv0Mh4ffff+/atauNjc3y5cuFfb3xvF5UeO/ePXNzc/xFi3bJJUOfunC5a8eOHRoaGr6+vpu/J0gGUVFRI0aMKCoqcnd3l8u1SPak79+/19HRIa88ze8sDQ0Ns2fPXrt2Lb8K5PLjx4/D6cBoF6Ku/Px8f39/6N2F9sJMQ0MDRKU33xNhL/XmxYsX9fT0kCtGcnKyubl5Tk4O9VGNc6+YchdOXQq5i/oWiy934dSlkLv4WfvgwYOTJk3it/fs2bNDhw7lt5dcLlXqmjRp0tGjR8knZTKZOjo6cMiIvJdcInvqAgDMmzdv37595M5IqUQs6gIA8PN36dy5c25uLpm6Zs+ezdNzjUBd//zzD50LlohfFzwRLnd9+vSpvr6+urp69uzZvr6+AIDs7Oyampr6+vqVK1fC2XN0ukezzpAhQ/CZZTSPklI1oagLyV0pKSnXsQRH4l6/fs3zK01KPZdBszNnzty+fTvNEzU0NAQEBND0wc/Kynr16hW5ZURd8+bN27x5M/TuIleDJVevXtXV1RXW0R4G9bh//z5cVRd+ANy/fx9f25HfGRtVuZhyF05dCrlL4J0VU+4iUJdC7iIbnMvlmpubEz7D8GpsNtvY2Jg8qIfXwfPSo67Pnz9raGjwc8DYsGEDvg4N3iVyXi7UFRMTM2TIEHJnpFQiLnXx83fp1KkTmbpqamqMjIx4uqHg1NWnTx/ZUxdB7oLm/ueffwYPHoybPjs728zMDC8RPx8XF2dqakqeYSB+yyK0IBR14XKXCOf64Q75+PGjlpaWQLEzJydn4cKF9PVLJpPZvXt3ntGuEXVVVFSw2Ww0mZGf6eAf1+3btz08PHJzc/lVI5cHBwebmJigWcnbt2+3sLCgfwnkBuVSIo7cRaAuhdxFfQfFlLsI1KWQu8jWvn79usDw7mFhYRMnTiQfy7NEetS1ceNGLy8vnicFAEAmExihEB4uF+qqq6tTVVUVNsgFv+sVWC6AuubPn08xwghb5+nv0qlTpy9fvpC1LtzvB+/cqVOnUOQIeVEXkrtQVIvQ0FAYwhuVREREODs74z2XSH7EiBEC7SyREwlsRFjqQnKXwJabRoXZs2cLnPCyePFiYfXqlJQUnvY5ffr0uHHjVq9ejfZSy12wWnl5+aZNm1JSUrhcLlSw0OEUGThPKjY2Fv4+5ufnAwCEVc4o2pfBLnHkLgJ1KeQugfdLHLmLTF0KuYtg8CFDhgiM6lJXV6enp0dzpo6UqKuhoUFXVxdNzSFcBdycMmUKz69KcmW5UBcAYOrUqTyDZJF7KH6JYOriOViLn5inv4u+vv7Xr18J1HX48GF+bjGnTp1CcWzlRV1I7rKzs+vXr5+Dg8PQoUPhLH0nJ6fevXsPGDDAwcGB/hA1biXq/JMnT4yMjBpDhAVhqau5yV0ZGRmampqIwgm39cGDB/xkdkJNuMlms+fMmUPxRJ0+fbpLly64h7tAuQs/UUpKirq6ulDTNTw9Pfv374+6Z2dnJ/vYzfglCJsXWe4iU5dC7qI2vjhyF5m6FHIXbu0XL14YGhrSEZuDgoJoOs5KiboiIiKGDx+Od56cv3fvnpWVFbmcXCIv6goPD5eGnkK+QACABKgLAODu7k4I46anp5eXl4dTV3Z2tpaWFr9xNAJ10Vy/SYJ+XdA6SO6qrKwkAGJVVZXAoSWeJqZZOGbMGEK8fpoHSraaCNTV3OSuefPmbdq0iWz2e/fu6enp4VMCyXUIJQ8ePJgwYQK/PwoYJZX8k0qWu7hcblpa2vnz55FzWF5eXlhYmK+vb3Bw8KdPnxoaGoKCgsrLywkd4LkJ5bGHDx9yOJzq6uqkpCS4Di7Pyo2tUGS5i0xdCrlL4M0VWe7iSV0KuQsZ3M3NjWaAwMrKSk1NzczMTHQsv4yUqMvR0fHy5cv8TorKLSws6Exmlxd1lZWVdejQgeYwKLoo0TKSoa60tDSCv4uuri6Bumpqap4/f86vlzh19e7dW17UheQufv2UXnlCQoKBgQEK1CS9E1G3LAJ1NTe5KysrS0NDA49byOVya2pqGhoahJr9B93V8fBmhFtz/vx5JycnQuBBAABZ7iotLXV1dR05ciRy9n/+/PmBAwdiYmJ8fHwmTpxYXl4+b948fKSScC7CJofDcXJymjlzJiz//Pmzvr4+Ye1UwiGNZ1M0uYsndfGUuw4cOODm5oYWicrMzBw3bpytra2jo+PDhw8bjx1k0BOR5S6e1MVP7mKz2cHBwa6urmjWUUpKipOTk62t7ciRI+FXgQwulvoUY8aMoTmIRt0OcoSi/5G/ceNGOstZSoO63r5926lTJ4rvRnSx+/fvd3V1RZv8MvKiLrjO4ZUrV/h1TILlAqhrwYIFAkcYYW/mzJmzZcsW1DNdXd1v377hWldeXh7aS840HupCche5k9IumThx4v79+6V9Fur2RaOu5iZ3LVy4cP369dCSTCbT1dVV2GG4gwcPCnSVdXV19ff3J1MXClVPuJU7duxA1IV21dbWqquro00Wi2VjY0OxqgSqyeVyP3/+DAB4+vQpAODhw4c057igFuSVEU3u4kldPOWu8+fP//HHHx4eHvACS0tLs7KyuFzux48fNTU15f7hJGOziyZ38aMunnIXi8UKDw9fv349Crmcn5//5csXLpf74sULfX19GV8yz9PBFWAl4iWyevVqoX5PioqK1NXVBXpwSoO6li5d6ufnx9MghMLKykp1dXVqDJD9Oox4J8PCwmbNmoWXSCkvmLqOHDlC59yfPn3C/V10dHTy8/MRdb1//97AwICincZDXXKUu2D8M55zPClMJ9ldolFXc5O7cnJyNDQ04JwXNpu9e/duYd+1Fy5c+PTpE797x2KxoEsHmsNIqEmWuwAABOpKTU0NDAx0dnYODg7GD3/z5s25c+cAAElJSQJfElVVVT179ty4cSNs4caNGy4uLjDYBN5mY8uLIHfxoy6ectelS5cQdaFrLy8v19PTI3gmoL1NNSOa3MWPuvjJXQCA/fv3I+pCxvz27ZuWlhaFYIxqyiAjEbmrsrJShBXBvby81qxZQ32NEqeuqqoqdXV16PpMfWq4lw6iyVHrgoILHd2OzsVS1JEYdQEA5s+fD6NbAQC0tbULCgoQdSUkJFA7LTUq6pKj3DVlypQ9e/ZQ3DBp7xKZupqb3OXp6blo0SJ3d3dh/0qfPHkicAB9/fr169atQ6tf87zpZO8uAnVlZ2efOXNm9uzZ/ILluLm50VlUpK6uDopeKSkpTCbT29uber4Sz97KuFAEuYsfdfGUuwjUlZqa6uDgoKur20hmIsvY2iLIXRTUxVPuIlPX06dP+/Xrp6OjExUVJePr5Xc6ichde/bsmTFjBr9T8Cv//Pmzuro6eeEKvL7EqevgwYNogTL8RPzy796909fXp/7SkyN1AQD69et39+5dfv2XVLkkqSs7O1tDQwPGudbS0sKpS2B3CdSVmJgo8BAAgMS96dFJly9f7uPjgzZllnn9+rXI6/1JpJMiU1dzk7u+fPny888///HHH0KZvbKyUl9fn3rFQy6X6+npCb2++GldPL27CNQFO8blcvX19fn9HMPwEPv27btw4QK1YJCbm9upUydEFYcPHxZ28V2hDCV+ZWHlLgrqIstdBOqC0w7i4+O7d+/Ob36r+FfUaFsQQe6ioC5+chdB62Kz2VVVVX/99Ze1tbWwSrP0LCmm3MVmsw0NDWm+/ghX4eHh4e/vTyjENyVOXdbW1vfu3cNPITA/dOhQwmp7hEPkS107d+5ctmwZ7JL0RGsB1LVw4UKaI4ywo0uWLIHf6FpaWoWFhVDrSkpKWrRoEcG4hE2cuih+/ghHSY+65Ch38Yx/Rrhw6W2KQ13NR+66fft2RUWFaGhOLciXlZXh4ewpqAv37uJyuSwWKyAgwN/fn8ViwSmN8FX09u1bPT096mHr2NhYZ2fnuro6/NTkZ6y4uPjr169sNjs9PT0pKalv376NeahRWLmL+mfHzs4O11QI1IVsNXToUOgGh0qaSUZYuYuaunjKXQTqQoa1sLCgGKxH1WSTEVPuioiIcHR0FK2rqamp2traFJFrJEtd8fHx5ubmwnY1MjKSEHic0IJ8qSs1NbVz585cLvf69etSWnlZcOSIhQsXHj58mGAXis3c3FwNDY3CwkJNTc2ioiJIXbt27eI50x5v5/Tp0yheF/XPH36U9KhLjt5d79+/19bWlh5o4wYk58WhrmYid8XGxnbu3Pn9+/d5eXl0nFihkcvLywcPHiwwXryzszOun1FTF/Lu4nA4fbDEZrOPHTtma2trY2Njb29Pf4ncLVu29O3bl5oLX758qaWldevWLXhdp0+flllMZ/LjSl0ilNxF/bODy103btzw9vaGX+0VFRV37949f/58QkLCsWPHDAwM5PWXS20Kae8VVu6ipi6y3BUZGenh4TFp0qSLFy8ymcxr165FRkYmJCTs3bu3e/fuwo7yS9Ua4shdffv2vXbtmsjdmzp1KkV8ZslS18yZM/fu3StsV1ksVufOnXmuCgibkhd1ffjwIT09ncPhdO/efceOHQwGQ3pavmCtSyjqgqN+q1atgkONyK+LX0h6dM/wtwv1zx86RKojjAAAOcpd5Phn+FVLNS8mdTVtuYvD4cCVedBMnJUrV1IshYHfqZs3bwoM3MBisQIDA3G/B/zvAm8N5cneXWiXCBkulxsVFcVisTIyMigWgEtLSyspKamtrS0oKPD19ZXlEmZCXZRQcpfAnx0kd4WFhe38LxUXF6enp2/ZsmXBggXr1q3LysoSqodNqbJQcpdA6iLIXcHBwf+ZfGddXd2rV682bty4YMECX19fOEreeCwpstwVHx9vZmZGPdBPfZlJSUkGBgb4DwheX4LUVVhYqKamJtpgur+//+LFi/GO4Xl5UVd+fj7je+rQoUOrVq0YDIb0BFQB1LVo0SJhqQsKAB07diwuLk5NTTU0NKQz9Iu/Xezt7V+8eIHfCX55qWpdcpS7YPwzmjEt+RlHtHIxqasJy1319fWTJ08mzOguKCgQOIuHw+FQRJ9Htyk9PR2PAQbL8b8LVBPPILkLLxQ///DhQxMTE+oAXTdu3NDT00tOTobqzuPHj8U/r8RboC93CaQuXO6SeD+bQINCyV0CqYssd/1AJhJN7po8eTKdkC7UdnBycjp+/DjPOhKkrh07dsyfP5/nWQQW5ufnq6mp8Xu7yYu6AAC5ubmqqqpKSkoMBqNly5YCpSKBV8qvgmDqEiHym7e3d+vWrUtKSlJTU1VVVXfu3Mnv9Kgcf7vY2dk1EuqSo9w1d+5cmnFQkA0lkhGKuqqrqw0NDZWUlH7CEnxqCYXYfglkW8gjKSkpderUiRy6cM2aNUuXLqUw/ooVKyZMmEBRAQBQW1traWlJXroH/7vg14Jk5S50loaGBi6Xm5SUNHnyZH6rMT5//ry2tra8vDw/P9/S0pKwQAVqSo4Z+nIXmbrq6+sz/jdZWlqGhYX9b1lz3EpPT3/8+DFZlaEvd9GhLoLcJcenSNhTiyB3paena2lpUTtW0unGw4cPzczMeBKDpKiLw+EYGhqKE5zWzc2N30ioHKkLAJCVlaWpqclgMAwNDelYW7Q6UqGugoICY2Pjdu3atWrVavz48XQUYPzt0nioS45yV2ZmpqamJr+pZ6LdbDpHCUVdxcXFrVu3Xrx4Mft/086dO6dOnfq/ZRLeYskjubi4kJfpKCoqoo6vc/PmTTKrEe4Fm83m6UaA/10QDkGbUpK7YPt1dXV79+6FoheMH4HOizJhYWHm5uapqakwND+cfYn2yj1DU+4iU5eRkZGenp4JlnR0dFq1amVsbIyVNcesrq5umzZtYDz09PR0NFeDvtxFh7qaldy1dOlSFHdJzD+Z/v374yu3otYkRV0xMTF9+/ZFzYqQefz4Mb+xVPlSFwAgPT2dwWDQXDVShGsX7E2/aNEiEbQuAEDF91RXV0f+HuLZUfztIgPqunPnzjl66c8//1RRUQkLC6NXXXCta9eu0Zz5tWDBAhSdkqfRpFEoLHV17NhRQ0ODsBJOU/Xuev36tZ6eHvl7dP369Txn6Z4/f57OuNuDBw/4AQ3+d0Fxu6Ukd+Fn/PLli5aWFr8v1Fu3brHZ7NLS0n/++UdXV5di7S+8TdnkacpdZOrS1dVFayKhriLvLlTSDDNcLtfKyio6OhoAsHDhQm1tbSaTWVFRUVJSQlPuokldzUTuKikpUVdXpyNP0HnYrl+/bmtrS64pKeoaO3bsqVOnyO0LVWJjY8Nzlo/cqQsA8OTJEwcHBw8h09y5c+msRymYuhYvXiwadQl1AwjRIKVNXVFRUR06dJg2bZobvWRmZmZubk6vroBakydPbtOmTYcOHbKzs9lsNvpG5GkuGAAdxj/jWUEahcJSl7q6+vr168nekUFBQXRW3ZLGJUijzZKSkpycHCaT+csvv5DlrpKSEg0NDYIndX5+fufOnQUGFC0sLNTR0eG32A5N6pKq3IXsWV5eDq9x586daD4B2gsAWLt2raOj419//ZWXl8dzjAOvLMs8HbmLTF19+vTp0KEDQbpTeHfBG3f58mUkeEDHvpiYGFVVVT8/v+7du/N8PPA7TpO6monctX379nnz5uH2EScPmfj27duERiRCXZ8+fdLS0qJ+cxHOy3Pz6NGjzs7O5F2NgboyMzMZDMZxIVPfvn3Xrl1LviJyiYARxsWLF1PHlCe3KFoJ/naxs7OjOWYsmjf90aNHjYyM6IeAl6x317Rp0wICAgAAz549U1NTQ+u58rSbp6cnzRvJ83ARCkWgLsgc2dnZ+Omakty1Zs2aoUOHOjs7W1hYXLx4kafctWnTJvx3E05lp7mCfXJyMm46PI//XeDl5LwM5C540vr6+tWrV8P1cAhKNpfLhV97FRUVoaGhv/zyC01Zl3w5ki2hI3eRqWvQoEEuLi7kmafNWe4qKCi4f/9+bGxsRUWFlZXVX3/9hd+purq6mpqaAQMGqKurwwDr/MbW6VNXk5e7mEymnp7e27dvcUuKmT937hw57pdEqGvNmjXkvwgReltTU6OpqUl4a8h3HUZ0FZmZmUZGRmiTZiYwMJDmy7qxUNeZM2fQKr+2trbSpq4pU6bwfHfys+/y5cvd3d3vSSIdPXpUTU3txo0b9+7du3z5ckRExL1790xNTV1dXcnNR0REtG/fvqCggF/HJF4uAnUBADZu3Lhw4UJCZ5qM3IXYIjw8/Ndff+Upd5WVlWlqamZkZAAAMjIyzMzMyBMSCfYBABw9epR6eiN96pKN3EW4hEGDBvGc8+Hq6jp9+vQNGzaINreccBaJbAqUu3hS19WrV8lDP81Z7nJzc1u5cuXy5cu7d+9+4MABJHfh9+ju3bvm5uYw6pu3t3fnzp3z8vLYbDYe0YA+dTV5uevkyZOjR4/GDSh+ns1mm5iYPHnyBG9KfOqqr6/X0tKCv3J4y6LlfXx8YEx1/PBGonU1F+pCy33LgLrmz5/v4uJCP8jb169f1dTUjI2Nh0siaWlpde3aFW+pf//+1tbWw4cP79atW+fOnQcNGj2yBT8AACAASURBVIT2mpqaxsTE4M+lVPOiUVdpaSl5iA3KXRcvXnzx46f4+Pjbt29Pnjx56dKlERERmpqajx8/JlzW4sWLp02bBgCIiYk5evSowNv06dMnPT096rEY+tSFh6oXeGpJVcjJyYEeHih+BGy5trYWLrBdW1u7evXqq1evSuqMIrcjUO7iSV2PHj3y8vIiLw7WnOUueAtWrlx54MABstwF9+LeXfC74vnz52pqajCoAYvFEoq6mrbcZWVlRb1EmGjP/KFDhwhTp8WnrjNnzkgQEDMyMrS1tQmrOSmoCyxZskQ2I4xnzpyRMXWlpKTo6+uTPaP5PeJt27YVGFic37GEcn5O2XACxZYtWyorK3NyctavX//x40d3d/ezZ88SWpDepmjUBQDYtGkTOYKLr6+vgYGB3Y+fOnXqpKKi0rp16549e9rZ2XXs2LFTp06Ey7K2tjY2Nha4sjV+7wg+Q/gumBeKuuQid8F+rl692sjIiMlkEi5h4MCB8+bNmzx5MpvNJuyS/Sa13MWPuniuQNCc5a6XL1/GxMTY2tomJyfj3l34DeU5mbGgoAD+hFpZWU2ZMkVZWRmpyPixPPO///47nDLJc29jLqSO3XXnzh1ra2tp9L++vl5fX//Vq1eocfGpy8HBQZzQ+agnKDN27FiCj42Cuv6lLvHjtiETU2QI1PXy5UuKymiXaH5dx44dg3wwZcoUfnOy0ClQRkVFRYJrffzyyy/UjmV5eXnr1q2LiIhwd3dfsmRJeno66olUMyJTFxxiI8Tz9fuepNphWTZ+9erViRMnAgB4cjOTyVRSUkKLp1J3bMWKFdRji/BwoahLLnIXuky4LtCxY8fCwsLQWFJhYWF4eDgAoL6+PiAgQMZTQ1DfYIZa7uJHXQAA7++J0Fqzlbu2bNni6uo6atSo0tJS6LhN8O6ChsLlLoLpampqnj59qqysvHPnTjs7uzdv3hAqkDebqtw1evRo8ecDks0FS4KDg93c3NBeManr5cuXXbp0kezn040bN/r06YN6qPDr+tcUcqEuGxsbaVMXdHxOTk7W19enOR1DfOr68OFD4H/pyJEjNB3L3N3dx4wZM378eADAx48fJaW34Q86nheZugAAfn5+0MkaNdjEqCsxMRE5spC9u5hMZosWLej8KiUlJdna2hKkdWQ0PCMsdclR7oLdTkpKcnFxKSkpqaurQ6ZgsVjm5uZjxoxBejZ+jbLMU8hdFNT17ds3dXV1wlhwc5a7AADbt2+Hq+sKJXehew1HGNlsdlxcXEVFxdevX42Njam/8Jue3PXmzRt9fX2yQoysJGamqqoKOZsCAMaMGSOss0p1dXXbtm1hNxYuXCjxMMgcDsfExAQfH1BoXU2cugAAkydPDgkJofNwq6io0JySxq+1y5cvDxkyJOJ7Sk5OpulY5u7uDtUCAMDBgwc1NDTS0tJYLJbAwSl+3aAuF4e6ysvL8T9yyGE8va2p+9DY9jo7O69cuXLDhg3dunVD4eMJctfWrVsfPHjQsmVLmp1HahB1fWGpS75yF34tR44cMTc3f/fuHSz8+PHjxYsXWSxWfX399evX8ZqyzFPIXRTUBQDw8fEhL7jZ3OQuGJkY3i8/Pz8YTVA0uYvs1/X27Vv49nVzc3N3dyezSNOTuzw8PLZv3y7V53/Tpk0wlOCtW7fs7OxEpq7y8nI1NTVJRRTDLzk4OHjOnDmoREFdwNPTk/r7AxlLzAw+wigzrQsA8PLly06dOtFRHdq2bSs+dc2ZM6empgZ6M0DHMoFK28yZMxF1AQDg2/rVq1cdO3YMDQ0FACBFQcxbAA8Xh7oAAFu3bsX/hJqG1lVcXPz333/HxMRkZmbiRkZyV0ZGRq9evb59+yaQuphM5siRI8nzpfFm8bwI1MVisWxsbKysrPrKO5mbm9vb29va2nbr1g32xc7OrlWrVi1btjQyMpJX74YMGcJz6js1dcEFN79+/YrfncjIyF69esnrQmR/Xltb259//llNTU1VVbVNmzY2NjawD127dlVRUSH3x8zMTF1d/dixY7jRYJ5MXajO169f4VSM6OjoMWPG4KHs1q5da21tTT5R4y/R1NQkBND69u2bmpoanZnOyDIiZIqLi9XV1Z8/f85gMGxsbESmrpCQEBgKRIQ+UB9SUlKipqYG/RMUI4z/2srT0/PAgQPUVpPIXnlRFwDA2dkZ4gv1hUiEuiwtLfv162dhYQEnrdBR2gjUhTpZW1sLn1RLS0scdFAF0TJiUldFRYWWllZaWho8e9OgLn6WhHLXt2/fIPsymUyB1BUfHy/UKJsI1AUAcHJy2r179/PGkc6ePdu1a1d/f3/YnUOHDgUEBMTGxj548OD69euy7+O5c+cGDhxIvqfU1AUAWL169W+//YYfmJGRYWBgIPtLkOMZHz9+HBkZGRUV9fjxY9SNZ8+emZqakh+5Gzdu8FsbnoK6kIUrKysvXbqUlpbGZrNHjhwZFhZ29uzZcePGofP+QJmZM2fu2rULXRqMtkPTBxQ/in7+3bt3oaGhAQEBI0eOVFVVZTAYvXv3Fpm6unfvHhcXR//sQtX08PAIDAyEhwwdOvTWrVtCHV5eXt6hQwehDqGuLOd4XTKjrrNnz6K3kY2NDUXcSNxeInvT4wEtk5KS6Mhd4lMXjJwJAEhOTjYyMuJwOMnJyZ06daKWu/hRF7JDRUVFfHw8ACAoKMjNzU1Mxy8xqQsAsG3bNhcXl4ff05zvCeal/W+cPJK1tbWqqiqcCSuQumiOKqI7S1izAS+nzo8bN+7GjRvUdWS5l8vlstnsrKysESNGwMWC0tPTDQ0NNTU1JRscks5FxcfHi0ZdhYWF6urq+N9XRkaGiYkJnZM2+To8vbvy8vJ0dXV5Xjsd6kIHcjic2NjYiIiIs2fP2tra+vj4SFsiQqeWVMbHxwenrpqaGm1tbUkFvuLXyY0bNzIYjBYtWigrK6uqqvbt21c06rp//37Pnj35nUX88qSkJPhCjI6O7tatm4K6ZKR1nT171t3dHd6/Xr16SZW6jh8/jlMXAGDixIl//vkn9dPTtm3bmpoa6jr096qrq8MZkZMmTaJW2mbOnAn1doGNFxUVHTx4sLKy8vPnz/Pnz09MTBR4CLmC+NRVUVGhqak5aNAgR0fHLt+To6zSYJknIyMjNPGbmrq+fftmamqKhHSy5XmWiKZ1NTbqgpfGZrNPnz4NZ55nZmaeP38+NDS0vr6efvQWniYStlBk6oJLHk2YMOHIf2nbtm2ampr/bTXr/w8fPqyjo7Nv3z7800JS1IVu8dmzZydMmODv719XV5eamjpnzpxnz56hvY05Q6CusLCwKVOmyKDD9+/fV1VVbdGihaqqqoODg2jUNXXqVGkPeTk4OOzZs4fBYJiamjZ36lq6dKm0zQ2fPBlTF2GqXVJSUufOnam9u9q0aSMmdb148aKsrIzL5V68eLF3797Qu0ugY5mbmxtN6kJ/w6Wlpbt3746KigIA/Pnnn4QIxagaz4z41MXhcJSUlGDjTXuEEQDw4cMHc3NzeLHU1PXgwYPg4GCeNqcobErUhS6zqqqqS5cucPWMx48fGxgYTJgwQWbsJQ51FRUVaWtrz549e8H35Orq2r59e5hX/GtgYNCxY8e0tLSysjITE5PVq1fn5eV17NgxICAAjsK/ePECLbMhlNaFnhz8NVFSUvLnn39CV401a9acPHkSVWuEGZy6OBxOt27d4ACFDLqam5traWnJYDD69+8vAnW1adNGTU1NSkt7ZWRkDBkyhMFgmJmZKSsrKykpWVtbK6hrqUARSCLPDf7nJAOti0BdAIAJEyZQ86X41HXw4MHevXtbW1vPnDkT98t2dnbev38/PzOKQF14U4GBgdAL8tWrV3TicSioC7eewDxN6kIvG4ENEio0SeoCANTV1cHhlcDAQG9vbx8fH8lOCiGYEd8Uh7oAAJqammj6sGKEETfskSNHFixYAADgcDgZGRnp6el5eXlqamobNmz4+vVrTU2Nra3t7NmzAQCBgYFWVlYtWrSAq/3AecFfv35NTU2l/vTFXxP4qSMiIjZv3gwAuHHjRlBQELpBeB355nHqio6ORgFoZNMrJpM5f/78QYMGiUBdLVu2lGp82rS0NAaDoaSkxGAwVFVV7ezsFNQlH+pKSUmh8ziK5td1/PhxMnUlJiYaGBiQpyujbohPXagpQoZaaROTutC5Lly4YGJi8vr1axaLlZqaisoJGQV1EQxCvUmHuhITE/X19UUTSpsqdUGrcrncnTt3wqGWiIiIzp07o8Ac1GYXZ6+CusSxHsWxiLpQHX4jjGVlZYmJiS1atGCxWDt37jx8+DAA4MiRI926dXv06BEAwNzcfO7cuQCAuLg4f39/COivXr3av38/ckRBZ8EzSUlJS5cuzcjIqKmp+f3332l6quAtSCmPU9fgwYMvXrwopRNRNDtu3DgRqOvnn3/OycmhaFb8XeXl5f3792/Tpk27du369evX3Klr2bJlste6rK2tZU9dAIDx48dThMlo06aN9AZBKBzL3NzcJPsqSk1N1dfXDwgIAACQo+0rqEuoHxE61BUfHy9yhKqmTV24qcePH9+1a1f4rsXLJZ5XUJfETQobpE9dMAKOsrIyv558+vTp/fv3AIDnz59v3LgR5gcOHGhtbe3u7n7ixImePXvGxsYCAHbs2AHXPC0qKnr//j36iS4rK/P19YUus6dOnYqJiZGZmMrzohB1JSQkGBkZyaUzYsam53ldkipksVju7u4MBmPQoEEK6lpGMfglKYsDAHDpWNrUdeLECbLWBQBISEjQ1taeMmWKy39pCpZ++umniRMnTv6eJv1vcsbSRCxNwNJ4LI3D0tjvqW/fvioqKnBhjZycnMzMTPRnOWPGDMlSFxwCgOP0dnZ2Y8aMwe+jgrpwawjMC6QuMb+2mw91FRUVwcBOPj4+VlZW0ojHCO+mgroEPtWiVZAgdfHrAHxNVFZWvnr1Ck5j3Lt3L3SXvHr1qrm5eWRkJABg8ODBcOWuly9fbv2eJk2a9Pbt2/v37586daq0tJRf+9IrR9Q1Y8aMvXv3Su9EFC03ZuqC3Q4MDBw2bJiCupomdfH8pIYrukT+l65g6erVqy1btrxw4cLVq1ej/jdFY+kalq5jKQZLN7D013/p4sWLrVq1gkq7v7+/kZFRRkZGcXGxubl5jx49zp8/HxMTExgYWFBQwOVy0S8OxR8YzV0sFgsuj7p9+/bhw4enp6crqIum6WA1auoKDw+3sLBAEUOEahlWbj7UhYzj5+fXokWLpUuXohLJZhTUJVl7otZkRl3ojPwy2dnZ8GftzZs3vr6+MFjJpEmTzM3NYYxcaUeEJ3cMUldOTo6GhoaUPNPJJyWUNH7qUkRJ/feWLVvWvKiLIsrlzz//TB1Yi/CIC7uppqZG+Ahjs9nv378fN27chQsXbt++vWbNmry8vMrKyp49eyKnVDs7u7dv33K5XF9fX/id9+3bt4yMDHz+Np2e1NXVXblypaKiQklJacKECffu3aNz1NevX9u1a0eo2bTnMEZHR/fv39/W1nb8+PGZmZnU1JWcnPz69WuCfYTabIbUBQCAMoa7u7s0lpNSUJdQTyB1ZQ6Hg1T5xkNdhD5nZGRcuXIFuo7Z2dndv39f2AAuhAZF2ITU5ePjw3NdBBEaFOEQBXXRNJqco6T+9ttvshlhDA8PR26S1tbW8EtFoI1E86Y/ceIEP62Lgrpat24tVerq2LFjWVkZ+ZKnT59+4cIFcjkAoLi4ODExsaqqqqGhwd/f/+DBgwCAsLAwY2PjJ0+ecLncHj16wOkncXFxO3fuzMrKAgC8e/eO4kdHSUnp9OnTN2/ehD4TMPwEz7MDAIqKitq1a4fW2oPVmjZ15ebmQme4CxcujBgxgh91sVisq1ev8rMb/XJ+1LVlyxZbW9uBfJKampqFhQWfnT9Mca9evUxMTITtbp8+fZydnQ8fPsxPUaBPXb169bp79y7hZinmMCKDLF261MbGxs7ObujQofn5+Y2Kuqqrq69cufL06VMYjhFOrkQ9l33Gx8dn27Zt6urqnz9/lv3Z4RkV1EXT8vKnrtDQ0Ly8vIMHD/r5+Z07dw5+2UAnjM2bNx8/fhyf98disc6cOQOjs9C8QlgtPDx85syZMG9lZdUMqUtVVVVY6hJo4dTU1Ddv3gAAHj9+vG7dug8fPgAA7O3tR48eDQA4ceKEra0tXOchMDDw9OnTAAAlJSU0f/vkyZOLFy+GHm+3b9/mOVIWFBQ0ffp0vCdNm7rQlf79999Dhw7lR12bN2+eMGECqixyhh916evrjxkzJp5PcnBwCAoK4rOziRfHxsZqaGiMHj26oKCgqKho9+7dhBlY9Klr0KBB27ZtI9w7BXUhgyDX9YCAgLVr1zYG6oKOXEwm8/Xr12PGjIFfj6jDcsz4+PhMmDABvePk0hMFddE0e6Ogro0bNwYFBUVHR3t4eMCPhqCgIH9//+joaG9vb+i3CK9nz549ampqIizYpKAuVVXV8vJy8mNBoXWRKwtVUl5enpSUBEdzgr4nSF3GxsZQp3F0dJw6dSoAIDQ01MDA4PLlyywWC5E3PFd1dbWOjg4udzV56jp16pSVlZWent6rV6/4UVdmZiaFoEj/NvGjrlGjRnXs2JFfNIrGGZue/lWLWXP//v3wR+nz588LFy48dOgQAODixYvwC4Q+dSUnJ+vr6xMUbgV1Ee4Oi8VauHDhrl275EVddXV1hw4dgk6xu3btWrt2Lc/PV0K3Zbzp4+OjqamZlJQk4/Pip1NQF24NinyjoC7Uv5qaGnV1dbQJAOByue3bt4cqSFZW1owZM8aOHdvIqevkyZOijTBSR/DDzSJCvkOHDhUVFeQDp0+fHhERQS6XUgnuTZ+WlgZ/JpKTk9etW3f58uXs7Ox27doRlg8jyF1Nnrq4XC6TyTx27Njo0aPJ1FVUVBQSEiKpu8OPuqZOnerg4ICv7IafsZlTV319fefOnQlvuI0bN44cORIAcObMGWtra7gyBG408urXAIDJkyfv27cPr6agLtwaXl5ehoaG1tbW1dXVMqYuGJoLBiCcP3++yMFZ8MuRXt7Hx8ff31967dNpWUFddKwEAJAzdS1fvhxfJTAyMhKKH6j3jx49GjJkCMQvFxeXzMxMiVAXTR9k0fy6Tp48OWfOHHQJKNPQ0EDh19WqVSsJUldtbW3SfwlCTPv27XlSl6urq7yoC1kGALB48WJDQ0OevjIEuavJUxc0C4vFUlFRIVPX3Llz161bh5tOnDwFde3evVtXV5en3NU8qWvFihU239PcuXN3796Na/D4LdixY0ebNm3i4+O5XG5sbCwaN+dJXWS5S0FduDHhL39AQMCKFStkQ102Njbwm/nBgwe7du3Ky8sj9KdxbqLIEXLsnoK6aBpf/tSFPtwTEhJ69+6NL7bw4cMHOzu77OxsAMCFCxe2bt0KABCfunr27Ckv6qII3CdZ6nr16pWWlhZcuw3OV2jfvj1PppEjdbFYrLlz506ePBkAkJ+fz+Fw+D21uNzVtKnr4MGDUVFRcXFxnp6eLi4uZOoqKioSdgIpP6sCACio69KlS66urn/88Qf58OZJXXl5edzvafHixTt27CDLXdBQaIQxPz+/X79+0HMxNTXV1taW54LxBLlLQV3k5+3evXtjx46VHnV9+PBh6tSpx48fP3v2bJ8+feDai+RuNOYSBXXRvDujR49u7vG6li9fDqnr8ePHdnZ2ubm5yHavX7/u1asXdNAGAPTv39/JycnZ2VlLS2vAgAGfPn1CNelkcL+uZkJd/fv3xy3Trl07cqR4AIDsqauoqCg4OPj27dsAgPDwcJyz8Q7jeVzuatrUFR8f7+vrC/8u6urqcOp68eLFTz/9hJtF/Dw1db17905HR6e6uppwouZJXdAIXC53yZIl+/btQ95dBOMg6oLlcHrQokWLlJWVnz17VlFRQXCvJMhdCupC9nRzcwsNDf3zzz+7d+8eEREhcerau3dvjx49Kioq8vLyTp8+XVBQgAfTRt34ITIK6qJ5mxTUBeDb5e7du7169crJyeF8T3BSm6Wl5fv372EJl8vNz8///D0NHTr08uXL+MRGOub+IahL2IuiuPBXr16pqakNHDhwxowZcMKmiooKP+qSzaJdHA7n9u3bSkpKb968mTt3Ls1ppOgakdzVtKkLXS/M4NQ1YcIEuKAvoY44m9TUBQCYMWNGYGAg4RTNlrrmz5/fuXNnBwcHJpMJvbtevHhBMA6ButBeqHVFRUV16NABLleH8AuXuxTUhSz28uXLY8eOHT58GC7AICZ1wVdJaWmpo6MjHEOMj49PTk7GPfAU1IWML0JGMcJI02hyHmH08vIKCQnx9PTs/V/q06cPAGDjxo3/Ffz7Pz5nxMvLi+DHSudSz507h2bVSlvrioyMnDFjBrlXDQ0NFCOMLVu2lCB1lZWVpaWl1dTUXLt2zdDQkMlkqqiokEULAMC0adOkTV3wvPCeKikpobCHZBNRlCC5q9lSV2VlJYVfIIXpKHYJpK73799ra2sTeL3ZUhdc4G/BggVw4HX//v3k+B38qAv5dVVVVVVXV9fV1WlpaS1atAh+ZKLJjArq4ve4ikZd0K3i1KlTGhoajx8/BgD8/fffPL0VCQvH8etG4yyXvdaVkpJCcERuhNR1/fp1wrC+7LUuFotFIBb5UxdhCo+Unulz5865ubnBxnv27AnneAs8l2je9OXl5ZqamoSJeAIXZJUsdeGX5uDg8PLly7Zt2/L8rZE2dc2YMcPS0hJePgAAn8OId5JOHspdzZC6IiMj161bx2QyZU9dAICZM2fu2LEDv0HNmboAANHR0dOmTQMA8JS7BFIXsiSTyczMzAQAeHh4aGhowF9CBXUh+xAy9Kmrurq6sLBQWVnZwcHB3t4eAJCbm/v161dCg+RNhdZFtgm/ksTERAaDERQUhNirEVLXly9fGAyGlZUVYi/ZUxcAYPr06QwG459//oHGbI7UZWlpKVXqAgBs2bKFvAC2LLUuJGuVlpZ26dKlqKioTZs2MqOu0tLSVatWQT0gMTERj0gkDnVBuevNmzdKSkrw8fX7nvj9LjSBcjjCOGHChISEBHlRV2pqqpaWFj4Vo3lS1/Lly69evRoZGdmrV69z587Bp4ssd9GnLvR8cjicqKgoKHcpqAuZhZChpi4ulwt/1e/du9euXbtjx44pKytnZmbiA4iEBsmbCuoi24SiRFNTk8FgqKmp7d27t76+vhFSFwBg1qxZDAajTZs2Q4YMSUxMlAt1vXv3jsFgtGzZctCgQf/884+CuigeKiCa1gUAKCsr09TUJLj8s1gs6hFGCc5NCw0NtbKyGjt2bI8ePcLCwgAAbdq0QbGe8WueNm3apUuX8BKR8zU1NSdPnszJyampqfH19SWrfWJqXQCAoKAgV1fX5kNd7969MzMzg3dEXtQFf7nwKOqQuurq6h4/fnz//n3YPQ6Hc+vWrZCQkIMHDxYUFIj8FDXaA6OiorZ8T7GxsaiTZLlLBOqCrUHvLgV1IdsSMjypS0tL6/379wCAX375xcLCoqampq6urrq6mvoTl9Ay2vxxqWv58uXdu3cfK9vUr1+/li1bMhiMVq1aMRiMXr16QYdFZE+BmerqamVlZYaUU4sWLdAZLCwsRJjD+PPPP4tpWkiosBvdunXr1KmTQOMQKgQGBq5du5ZQyHOTwbMUFa5YsUL2I4wy0LoAAH5+fvPmzUNXCgBgsVgU3tDKysoSpC4AQGVl5ZcvX5CvGL/VtadOnSo+daWlpcH4kBMmTMDjyOOXD/PiaF0AgOrqam1tbQbj/z9XTV7rWrZsGYobLEfqSktL09LSQvHeIHUtX758xowZ1tbW8M42NDSsWLHixIkTu3fv7tq1a35+PvnuN8kSgtwlMnXByYwaGhpoVm9GRoaJiUmTNJoIF4Woq7a29tatWxUVFS9fvlRSUoKzPXBBXaA7B7+z/7jU5e3tPX/+/L9kmxYvXtyyZcuff/5ZRUVl2bJlTk5OIlBX27ZtYUAWKf07e/ZsBoPRtm1bR0fHhIQE0bQuFRUVcUwbExMDqatdu3ampqZhYWFGRkb8HkJ+5ZKkrr179/I7jQTLcb8u2VBXWVmZhoYG9NuAFyJj6iJYr3Xr1mgAHt8lPnXNmTOnW7duPIU0/EQwLyZ1QblLW1u70/fU/nuCeX1eSY9X0iUlHV5Jm5S0eCVNUtLgldR5JTVS6oglVVXVli1borjBcqQuAMDs2bO3bNnC/J7GjBkTFRXFZDLfv3/fs2dPWIj/O378+Js3b+IlTThfWVnZqVMn5DgiMnXBUPUqKio5OTm139Pbt2+NjIxqa2treKVqUqoipUpeqYKUykmpjJRKeaUSUiompSJeqZCUCkgp/3/TypUrR40aBQDYtm2bo6Pjx48f8/LydHR0yD8yzZC6+HnTP3369MaNGzxNJGYhk8mEys369evhdDdJjTB++/YNznsQs4cAgK9fvzIYjJ49eyYkJMDWRKOuDh06iNOZo0ePMhiM7t27//XXX/KPTb9ixQphqYvD4WRlZX3+/Bmf2CjQIgTqevv2rcBDABB9hBE2vmnTpvnz56MTyZe6+EVhFY266uvr3d3dXV1dYYBT+s4T4lMXl8stKSnJ/Z5Wfk+5ublfeKWvvFIeKX3jlf73B//fLdJL4d8C0rujkNcrpoj0Jvq3gPTCKuH1XitFwc3lS13p6elt27Zt0aJFy5YtlZSUYAaODrTEUosWLX766SclJSVlZWWsuIlnlZSUNDU1YRSJBQsWmJubAwAKCwuzsrKQgI3mMKIfBHImOTm5Y8eOrVu3/vl7atWqlZKSUhteqe331KZNG2Vl5datW7dt21aFlNrxSvBDBf+3AympkhL2LfB/WdIngxr5y4LXB4gG6TtFk/w5Q/rk0VZWJBdRzwAAIABJREFUVp4+fTputLy8PF1dXbwE5ZvbCCM/6tqzZ4+npycyiwQz586dW7NmDf4WlhR1xcTEQLwWv7fXr19HvAVbkz11cTgcDw+PyMhIdDly9uvy9vYWlrpOnTqloqKir6/fsWPH0aNHw8WV0fXwy+DU1aNHD9lQV2lpqYaGRlZWFuyVQOpC71d+VyFOeatWrdBoI97O1KlTL1++jJdQ5IuKinbs2AH9WsLDw2kaH29QfOrCW/Pz80NTU/HyJpmXL3UBAHr06AEXdUDe9BkZGWiEEdp8//79a9asGTFiBBqObJL3gnBR4eHhAwcOLC8v53K5Hh4ecPjg+PHjXbp0gYHO+/btq6GhkZiY+Pz586CgoPT0dABAWloa+S8IURoAQOAIY3V19fbt24ODg+H4/unTp3nq2YTeNplNBXWhW0mgLiaTmZ6eXlNTQ6Cu2tratLQ0NNcKAMBms7lcbnFxcVZWFv7xXF1dnZ6e/vnzZ3zJEPxwvBx2oxFSF7IPysiFutDZYUb+1LVnzx5Cn6g3d+zYoaKi8vr164kTJ86aNYvL5b579+7BgwfUR50/fx69nmVGXQAAX1/fhQsXwr5RU1eLFi2kSl0tW7bEf9CRuX755ReB1MVms//66y82m52SkrJw4ULovopaECojcerq2rWrUB34cSvLnbpQoDsK6oLm/e23344cOfLjmlrYnl+/fh0F7uI5wvju3TsLCwtIXatXr05JSYHrbcAFJC5evNi7d2/IZyEhISdPnoQzch48eGBsbEyzM9HR0dOnT6+vr09PT9+5cyfu20CzhR+umiypi8vllpWVEbzHGo/FcOp68eKFsbHxwIED7ezsJk+ejLSukJAQU1PTIUOGmJqaHj58GHZeS0vL29t74MCBlpaWw4cPh++ImJgYPT29YcOG9e3bF8We3LdvHzqc51+3ONRVWVnp5uampaXVq1ev9evXI60rKSlp+PDh+vr6FhYW58+fh32eNWvWn3/+2bt3bx0dHVdXV/il8eXLl2HDhnX+nqZMmQJrosN79Ohx4cIFAIDsqYv8kPx41LVr1y5HR8fp06enpKTo6enV1tbGxsZ269aNeiT4/Pnz6OmRJXVBuQsuJSlf6uLnrU9NXTA85urVq/v37//lyxfyAyRsicSpy8/PT9g+/KD1Gzl1lZaWwugSDQ0NTk5OuKL+gxqcfrcFUhcAgGKEsby8PCEhAU78DA4Oho/0tWvX9PX1tbS0AADjx493dnYuLS2Ni4sLDAyEiuOTJ0+uXr36/PlzQtjhT58+/fbbb1FRUQCA4OBgfMYl/Sv6IWpKj7o2bNjQs2fPkSNHQjtUVVX16NFj6NChVlZWnp6eZJlH7ubCqcve3v7AgQNw7pG5uTmkrhcvXnTp0gXOcYF2g8+blpZWQEAAFL3s7e2vXr0K0SQiIgJeFATNxMREwuFozge6dnGoy8vLa9KkSWw2u6KiwtraGlJXVVWVrq7u9evXAQA5OTkGBgYfP34EAAwcOHDkyJE1NTVMJnPw4MFwkv6qVau8vLygSz6c3QUPhw7+2dnZ8HAFdQFvb29hta5du3YtX75cW1v748ePLi4u8HD4Z/Ds2bM+ffo8efIEPQcoQ6Au6nl26CiRI0egFmCcfRiBms1mU8xhbNGiBeHXE29E/LyysjJPLY2CuiZNmmRnZwdnX4rfAdiCgrpEtmRjo67Vq1f36tXLzMzM1tb25s2b796969Wrl42NjZmZ2bJly3g+bCJfeyM/UEzq4nd1aIQxLS3NycnJxsbG3t5+zZo1cXFxxcXFWlpaqqqqbm5uvXr1srW1hZ/yJ06cQG/cT58+BQQELFu2DABw7969U6dONbFhX+lR1+fPn1+9euXg4ABvDVqqjsvl9unTh+AqxO/2ybIcUVdxcTGDwUCanJ+fH6QuX1/fwYMHn/gv9ezZ88qVKwAALS0tON4NAJg3bx58eFavXm1tbR0aGvr69Ws47Lhx40bC4ZDP8GsUh7o6deqErHr8+HFIXZcuXbKyskr6L02bNg2+7gcOHHjt2jV46u3bt/v4+AAAtm7d6uDgcPv2bRRZ8NKlS9bW1v8dnTRt2rS9e/cqqAusXLlSWOravXu3j49PQEDA3LlzX79+raenh4J/crncK1euQJ/Wmzdv4l8kOHVZWFjIkrpKSko0NDRycnLYbDbF6sWSxRH8jwHm+VHdL7/8gssSRUVFXl5e0NkuMTGRpysYuXH6JfQv8+LFi+GC0pTvSVCtf/efk2g6L9F06NChPXv2FBcXU5uxsVEXdW+b1V5pUxcAgMPhJCUlOTo6kg3br1+/s2fPfv78GQBw6NAhb29vAMCTJ0+MjIxgpOI5c+ZYW1u7uLg8evQI/2MnN/VjlUiPugAAb968QdQFAOByuSwWKy0tzczMLCcnp7EZClEXjMaOPuB37NgBqcvb23vIkCGhWIK6kZaWFnxyAACLFi3av38/fNgiIyM9PT0NDQ2nT5/O5XK9vLx4Ho7bQRzqat26NRSoAABXrlyB1LV//34DA4P5WIK618CBA5GCGxwcvHz5cgAAk8ncvXv3iBEjVFVVFy1axOFweB6uoK5/qWv37t34nROY371798qVK+GqO9nZ2VOnTt21axfhqJKSEgcHB3gz4C45UhcAYMOGDYsXL5YvdfHDHRcXl8jIyKqqqiNHjnz9+rWystLPzw8OiRKsKpFNft0gNP7777+3bdt2xowZMylTz++Jssr/7XSTaJohudSnTx8dHZ3Tp08DAC5cuIA+PQk2kQZ1RUdHo2EU/HQ8Z7aS/brwQ5pzng51TZo0CTps0TcU0rrgIQTqYrFYCQkJFy5c6NmzJz6VjNA+XHdo//793bt337ZtWzOhLjab3bNnT8QTBJvw28TjdRGoq66urnfv3np6euvWreN3uBzLEXVxOBxdXV20+Azy67p48WLfvn0RjaGu8qQutLempuann36qqqqKiIjgeTiqCcfBRYvXBQCwtraGURUAAIGBgZC6YmNjzczMyH3mSV2oJ2VlZXp6eikpKbGxsebm5oTDFdQlOnVBlFmyZMmbN290dXWR3IVMD0e1uVzu+PHjT5w4IV/qKi4uhpMZ5ah1/fTTT7j4hww1atSoyMjIY8eOTZkyBX1toL0Sz9Ckrm3bthkYGEAQoehD04iS2tDQYGRk9PTpUwDAsmXLJk6cCABITk5+/vw5PqtIGtTFYrFMTU0fPXpEMPLUqVPJa6IrqAtZ6fbt20uWLJk1a1ZISAiLxaJDXdHR0ba2tqgFOhlq6qqpqVmwYMGwYcOWLl1K+NPmcrnl5eUAAE9PT3V19fr6+qKioqSkJPxxotOBRl6HQusCAKxbtw45ktO8EArqgi0wmUxHR0e0HgPNZmVQDVEXACA0NNTY2DgkJGTZsmVGRkbQCEwmc+TIkU5OTn/++eeePXsmTJgAP615Upebm5ufn9/hw4cXLFgwaNAgLpfLZDJHjBiBDh8/fjxZ8BNH6zp48GDXrl3//vvvy5cvGxoaQuricDiDBw+ePn36w4cPHz16FBgYCJeR5kldISEh586de/78eXh4uK6ubklJCTx8xowZ+OEK6hKFuvbs2bNy5UoAQFFRkbq6+tevX11dXeHcaZ4Pd3x8/O7du8+fPz927Fg42i3jEUbYq/Xr1y9atIiaugg/nTwvR+RCJSUl8m+uq6tr+/btoUeIyC0LdSB96nJ3d+/WrRvhS4VwrqZBXQCAI0eOODk54Vd34cIFGKmByWTevHmzvr5eGtQFADhx4sTw4cPxUwMA+vbtu2XLFkKhgrqQQe7du/fkyZO3b9/OmjVr8+bNdKgLAGBraxsdHY0aEZihpi50+MSJE6FO8PXr14aGhpycHC0trdWrVwMAPn78iIcJQIc0jQw1dRUVFWloaOTm5tK/WIHUBZ2fBH4N0j+jpGri1AUAePjw4bZt265du/bhwwfkL8Vms//+++9t27bt2rXr/v378Kf1ypUr6An5559/4LBjYmLi/v37t23bdurUKeQixmKx7ty5Qzgc77841MXlcs+dO+fq6rp69erHjx8fO3YMtlxTU3Po0KHp06e7ublt3769qKgIABAWFoYGBOLi4qCP1+3bt5cuXTp16lSoxfA7XEFdwMfHR9gRxj179kDHBQD+Pdzb2/vdu3c6Ojro0cGfA5Q/f/58t27djI2NmUymhYUFzdgHEvGmh30oLi5WV1dHCwiijqGMkpKSVKmLwWBA6qqurnZ1dZ01axYAoKCgwMXFBbpVop5INUOfujZs2DB06NBTp05R9AdSV25uLnwq9u7dC1XPO3fuYA4MoTxDZlA0K5tdbDb70qVL8FcsKysLyV2Es+fk5AwePHj16tVMJrNFixalpaWECmJu8pS77ty506NHD8IDqaAusqkvX77s5uZGk7qElbsoqAs90jU1NY6OjtHR0f7+/hoaGu/eveNyucKOrJGv64cooaYuEeQuRF1hYWEzZszQ0dFZtmxZSkrKw4cPZ82aFRwcvGLFiq5duwp0wZS99QjUJfsOiDnCKLMOK6jrX2wie2VR34C9e/ci6srLy1NXVy8sLJwxY0ZQUBDFgXCE8du3bwAAXV1dLy8vGBOB4hDxY9MTGl+7di2DweC1tkdNdXU1g8GorKzEF/kgLe/xbwF5hQ/S8h7/FpBW+ChnMBj+/v5xcXEAgLNnz8IBCADAlClTZEldSkpK1PIVNNq2bds2bNgQFxdnampKMRsOUlfI93T//v3NmzdDL6W4uDg4WcfX19fCwoIs8hFujVw26+rqNm3adPny5YMHD5qamu7atYsgdxF6xWQyf/rpJ0NDQw6H8+3bNxR9l1BNhE2ecteAAQMIIqiCunDbhoeHe3h49O7d++3btzSpS1i5C6euFStWWFtbt2/ffsCAAU+ePDl06JClpeXMmTNbtWqlr6/PZDIrKysJlIz3tknmBVKXsHIXoq537949+S8VFxezWKynT5+Gh4dHRUWhKXKNyqQivEkl3n9xtC6Jd4ZfgwrqEpG6VqxYgWzq6em5fv369+/f6+joUIDUhQsXULwuY2NjFxeX4uLiyspKcmxo1LLEqauwsNDc3Jy8vAdc3IPBYLRp0wbmea7voaKiQl7hA1/ZA+VJK3z8W2BmZrZ06VKy55aMqWvYsGFwHgpuZ3IeUhcAYPjw4SdOnCBXgCXkEcZ27drhVLdq1SphxVR+55Jq+ejRo+/du8dP7oKnhiOM8Oqio6O1tbXhCms0J+RS9J+m3KWgLtyGnz59evDggbOzc0hICH3qEkruwqmrvr7+06dPERERtbW158+fNzMzi4qKevv27cePHxvnRwVuKynlBVKXsHIXoi4pdVh6zSqoi6ZtFdQlCnXt27cPp67s7GwNDY2ysrKZM2fu3LmTn+kvXLiA1vDq3r07HGGMiYlRV1eniGsvwRFGfh1D5Tz9rtBe6WVkTF1Xr161t7cXeDmIuuLj401MTPjJXQTqun379ujRo1HjdXV1+vr60BUAFTaqDJvN3rt378qVK8eNG1dXV0f27sJ7S/Dr4nA4LBarurrazMwMflFAtx78EPp5OnKXgrrI9kxNTbWxsaFPXULJXRkZGcbGxnfu3IEhoF1cXFxdXfn9LZD71uRL6FCXUHKXgrrEeWYUWhdN68k5Nv2qVauEHWHct2+fl5cXfnkeHh5bt25NTU3V1tbmJ/8SqOvDhw+whc+fP1dVVRUUFKxcuZIce12W1IX8rvBLk0F+ypQp5Hh30jsvl8uFbynqUyDqAgCMGjUKOVcSjsKp6+XLl/b29nl5eajOmTNnkMCJChtVhsPhnDx50s/Pb9CgQeXl5fhkRnI/CdSFV4Aq74oVK9TV1UtLS+vq6oSNh0lH7lJQF7L5zZs3i4uLa2pqfH196ft1wcPpyF0fP34MDg5OSUkxMDAYNGgQeT4p6klzztChLqHkLgV1ifM4KaiLpvXkT10U0w95XgOZutLS0rS0tKqqqmbNmrV9+3aeR+HUZW5ujqgLVi4pKVm1atXRo0fh8meoheZAXZMnT5YldQEA6MhdOHU9ffrUyMgIuQ+juwMAQNT1/PlzW1tbgqtT//79UTA9/KhGmPf09Dx+/DjPyYyotxTUhepAYS8uLq5Dhw5wIgJ9/BIodymoC9l5+/btQ4YMcXBwWLJkSUlJiVBaFz+5i81mnz179uDBgwCAkJAQT0/PZ8+emZiYoJMqMgQL0KQu+nKXgroIFhZqU0FdNM3141FXSEgIHv4UXueMGTP++OMPiF88XzPU1IWMVVNTo6ent2nTJliioC5kGQlm6MhdOHXBdcF4rrcKqevhw4dmZmbJycml3xP0KU5JSenatWtj9i8uLCyEk6FqamoGDhwIJ/9TyF10qAvdpurqajjbsWvXrjAAGJoBjuoQMgLlLgV1ESyGNoWlLlzu+vDhw5o1axISErhc7ty5c8+dO4eaxf26UKEigyxAk7roy10K6kK2FSGjoC6aRpMzdY0aNYpnaGyK3vOkrjdv3ujp6dXV1f36669wLU9CCzSpC2pdycnJAID9+/e7ubmFhoYSmpLSJoPBkFLL1M3KXuuiI3cRqOv58+eGhoZkuQtSV0BAwHAswemZhw8fhuoR9eXLce/bt2/79u1rY2NjYWGxceNGBIj8vLuEoi50XWw2G8a22bx5s7GxcWpqKlzpFlXAM9Ryl4K6cFvheWGpCwBgYGAwdOhQuHSPn59fZmYm3iDMK6iLbBO8hD510ZS7FNSFm1fYvIK6aFpMztSVk5OjoaFBPZGQcCWhoaFkrQsAMHny5NDQUCh3obAI6Fj61IUO2bVrV5cuXUJDQyW+FiE6BZ6RI3VFRUXhPZFBXqDcRaAuAMDYsWMPHTpE6BsaYSSU/9Cb/OQu0agLN8Xr16+ZTGZaWpqGhgZccI0w/Y1a7lJQF25MPE+TunJycubMmRMWFgYAWLx4sbGxMcH+eJsAAAV1EQxC2KRPXTTlLgV1ESws1KaCumiaS87UBVfc3LBhA83uwuUOfvvtN3L9Fy9eGBgYMJnMOXPmbN26lVCBQF3wi59Qh7wJRxjnzp07duxYfn765KNEK5EXdU2aNEn21CVQ7iJTV0JCQpcuXQgE3CSpi593l/jUhZ7ML1++wCDUw4cPd3Z2RjIbv1D1MHaXgrqQAQkZauo6ceIEnOdRXFx84MABtMipwFD1Cuoi2JmwKRR10ZG7FNRFsLBQmwrqomku+VOXsHLX/v37eVIX9P45evRoRkaGpqbm/2vvzONqzB4/3nyN+Q4zZJiEolX7vkqKbHULZUliZCim7ElkN0SWmakorVIKFS1KRHYVmVJkCclkaS+tt2733uf8Xl/nNef1/O7W7XbrXjnnD85znvOc5fM89bz7nPOcw7IdbHx8PFo5QkVFpVvURaPREhMTAQD5+fk8lpngU3Fu2b426uJtd7FTF1z7eObMmaQd6F31PwdySv+IL1++/Pvvvz906BCTyezs7ITerRCpCz2ETU1N169fBwBERkaamprm5eXxsLs0NTWfPHkCALC1tYVLhaFyvvIIC3VNnDixvb3d1tZ24cKFAIB7nwP7ig/k2V0cBcTUxVEWlNgt6uLH7sLUhbQVIIKpi0/RRE9d3bW7jh8/vmbNGo7dy87OVlJSYjAYy5cv37NnDzlPfHw8/A0IAOgudaFyrl69qqKi8vjxY5QixMjXRl287S6O1LVv3z5zc/MIUpj9OZAS+k9USUkJLmyWm5s7ZMiQPXv2wLXp582b19HRUVNTEx4eXlRUBABobGxkf6N398ns7OzMysqqqKhobW2VkZEZP348SwkTJ06UlZXF1MUiCzxMS0ujUCgAgJSUlJEjR6qrqwMALl261OX2TbztLkxdHNVGid2lri7tLkxdSFsBIpi6+BRNLKirW3ZXUFAQN+oCAEyePDk2NvbNmzcsdpdQqAsAAOdhXLt2zcjIKC8vj0+Vu8xGEIQIqatbO/J22Rf+M/CwuzhSV3BwsIeHB7n8/jrCCADYsGGDv78/6iyTyaTRaN9+++2FCxcAAGVlZStWrIiNjQUA/PLLLwMHDmxsbCwrK0Nrm127du3s2bNUKpXBYLBPc0TFcow8fPhw9OjRd+/e9fLyWr58Obz86tWrgwYNmjlz5oIFC0aNGmVubr7gc5jPKcxjC3PZggOnYM8W5rAFiNos/85iC3ZswZYtUDgFG7ZgzRZm/v8gKSk5ZMgQAMCHDx/OnDljbm7OUVj2RN52F6YudsXIKd2lri7tLkxdZHm7G8fUxadiYkFd3bK7goKCVq9eza17WVlZcN89V1dXtAAEAICFuuCkFm6FoHRuK0cQBJGcnPz8+XMmk5mSkkKeFoOu7VZEhNQ1Z84cUVEXD7sLUxcLdQEAeIwwwiewpaUlMzPz0aNHcGaYk5NTU1NTaWnp0KFDV61aBQA4ePCgg4NDVVVVW1tbeHg4/LOhubmZ/eNQ+DFjeXn5iRMnmExmbm6uvb39tm3b4uPjExMT9fX1fXx8EhMTz3MKF9hCEltI5hRS2EIqW7jIKaSxhXS2cIktZHAKl9nCFbaQyRYiIyPRgjX37t3jn7q4rd0Ff3tg6uL9W1QA6uJtd2Hq4i0477OYunjrg86KC3Xxb3fxpi4AgKmp6fnz59++ffvzzz8jh59MXePHj+8hdSH5KioqzMzMfHx8UIpgka+WurjZXZi6ukVdXT51EMueP3+elJREpVLr6upcXV0DAwMBAF5eXt99992LFy+ampqmT58O94q4c+fOyJEj4RJiDQ0NTU1NcXFxf//9NwBg8eLFGhoaeF4XN827S1087C5MXdxEhukCUBdvuwtTF2/BeZ/F1MVbH3RWXKiLf7srODh49erVnZ2djx8/Ju/hw2Awnj59+vbt27S0ND09PQDAypUrd+7cCbsqGHWtX7/+yJEjSCxukfb2djqdPnny5JiYGG55eKcTBPHNN9/wztNLZ0XrdXGzuzB1CZe6eD88xOdAo9GuXr2ak5MDAEhISDAxMTEzM2tpaZGUlJwzZw70z+zt7SMiIjQ1NdeuXbtt2zYfH5+ysjJ2q4x3df37bHepi4fdhamL96MiGHXxsLswdfEWnPdZTF289UFnxYi6+LS7goODXV1djY2NdXV19+7di3oyYcIEY2NjOPiop6d36dIluDE2XAxMMOpKSkqaOnUqqoJ3JDs7G66fXlBQ0OU64CxFMZlMEVLXxYsXWdrTl4cc7S5MXX1JXRxvN/ljRgaDAZePSk5Orq+vt7Gxsba2dnJysrS03LJly+nTpzmW8HUmCkBd3OwuTF28HyHBqIuH3YWpi7fgvM9i6uKtDzorRtTFp9114sQJOKX6yJEjZOoCAMTExEDqSkxMnDBhAlyKEC4GJhh1kV88SLIuIytXrlRVVe3WZC8RUtfs2bNFS10c7a6vkLpaWlry8/MLCgo6OjrYZ9PzntfV5TMpWAb2perpdHp4eDgcYTxx4oSXl1dNTY1ghffXqwSgLm52F6Yu3g+JwNTFze7C1MVbcN5nMXXx1gedFS/q4sfuOnHihLu7OwCAB3UxmUw1NbXr16+/e/duxIgRdXV1CQkJaOWI8ePHv3r1CknAO3Lq1Cn+7S5UFNxf788///T19W1tbUXp3CJMJvM///kPt7O9mi4O1MVudzk5Odna2rJ0vH9/w2hnZ+fq6uri4qKrq1tZWSlyrwsAgP7qePLkydq1ax88eEAQhLu7u4GBAZ7XxfJwokPBqIuj3YWpC6nKMSIwdXGzuzB1cdSZz0RMXXwKJV7UxY/dFRIS0iV1Qd/LysoKAODh4eHj45OQkODo6AhFUVZW5p+66HS6srLynTt3+BSUnK2kpMTd3b21tbX+cyCfYokzGIyvmbrY7a67d++OGjWKZaC2f1MXeiRWr14dGRkpDtQVEBBgbGw8derU+/fvHz58+N27d7CReJVUdLPYI4JRF0e7C1MXu7zklJ5QF0e7C1MXWd7uxjF18alYWVmZhIQEXOKb/38lJCS2bNnCTxXd3tG5S7srJCTkt99+4+11wT/TR48e7eXltX///u+//97X11cw6gIAnDp1CgIcPx3mmCcxMXHEiBH379/neBbuRixC6kpLS+PWsD5LZ7e77O3tAwICyA3o99T16tWr27dv6+vrFxQUiIq6ysrKFi5cCDd9P3ny5KVLlxQVFe/evUu+EZi6yGqwxAWmLna7C1MXi7Yshz2hLo52F6YuFoW7dYipi0+5aDRagUDh48eP/FTRberq0u4KDQ3lh7rgpC5tbe01a9ZISkqOHTvW0dExJSVFQUFBWlr61atXhw8f9vPzAwDU19f//fffLDsIkfvGYDCUlZVv375NTuxu/P379x0dHWVlZRs2bCB/egnLEaHXNWvWLHGgLna769GjR2PGjCHbXf2eujw9Pa2trW1tbVtbW/uYukJCQtTV1SsqKurr60+dOlVZWYmecPbZXZi6kDjsEYGpi93uwtTFLi85pYfUxW53Yeoiy9vdOKYufhQ7ffr0mjVrDh48iDLTaLSdO3eam5t7e3tTqVSYfuvWLWtrazs7O7QYe2Nj47p168zNzQ8ePAg/b0IlsEQEoS7edldoaOiqVasMDAzk5OTGjRunr68PZx/PmDFDSUlpzJgx+vr6FRUVAICkpKR58+YBABwdHTdu3Ojo6Eij0d68eaOgoPD69evTp08fOnQI7pJmaGh48uRJAICNjY2BgQEAoKSkxNvb+969ewCA4uLigwcPTp48maVvAhzW1tZu3rw5ISEBAFBbW4tKYDAYAwYMQId9GREf6urS7ur31AXv+/bt2/38/HqVugiCYDAYbW1tVlZWCxYsAAA8ePCgoKAAbr3A8vih2V0oHVMXkoI90hPqYrG7MHWxy0tO6SF1sdtdmLrI8nY3jqmLH8WCgoJOnDhBniy+b98+Nze35ubm9evXe3t7AwAqKirk5eWfP39bchDUAAAgAElEQVReUFAgJycHV2B2dXXdu3dvY2Ojo6NjUFAQj7oEoS7edhekLh5VolMXLlyYP38+mbrgKSUlpdevX6Ns5Ehtbe2zZ88AAP/888/hw4fhdC53d3d1dXVlZeWgoCA5OTnY4ZCQkN9//51Go7W2tj58+BBOnycXxTve0NAgJSXl6+sLs9HpdExdXdpd/Zi6mEwmIp69e/fu2rWrN6gL/vQmJCRISUlduXIFAHD9+nV+vvZgsbswdfH46e4JdbHYXZi6eOgMX06jRo3inYf3WRa7C1MXb7l4n8XUxVsfdDYvL49MXfr6+uXl5QCAuro6uAFuTEzMxo0bYf6lS5dmZGQQBCErKwudsIKCgunTp6PS2CMCUhcPuyssLAxub8JeGUvK+fPnu0tdLCWQD2NiYiwsLMrKyuDgS1JS0q5duwiCePbsmaGhIRysdHFx0dTUbGpqqqys3Lx5c2ZmJgDg5cuXz549Y7cEGxsbnz9/DgA4dOhQYWGhCKkrPT2d3FMRxnnbXf2YuioqKrS0tJYvX+7o6Kiurl5eXi4s6mpra4NL1k2fPl1NTQ2+q9C8eD7vNYvdhamLh249pC6y3YWpi4fOQqEuFrsLUxdvwXmfxdTFWx90loW6fvzxR4QHgwYNIghi165dR48ehfl9fHz8/f3r6+vHjBkDU6qrq8eNG4dKY48ISF087K6wsLCVK1ey18Secv78eTh6gkYYYR4eXhd7ISiFwWCoqKjcunULpbBHGhoanjx5QhBETU3N4cOHIc3s3LlTTU2ttrb2zZs348aNg2uMnTlzZs+ePQ0NDZ2dnevWrbOzsxswYAB5DhN74b2UIsCPSi+1BBabnJxsaGiIqiDP7urH1AUAaG5uLigoePLkSc/X6yII4smTJ3DccMiQIcHBwdC+7dYacugWwAjZ7sLUxSIO+bCH1EW2uzB1kYVlj/d8hBHO9BgxYsT79+8BAJi62EXmP0WAV0lra+vgwYP5r6LnOa2traHNz39RjY2NQ4cO5T9/lzlZqGvIkCF0Oh1eBalr9+7diLq2bt0aGBj46dMnRF1VVVXy8vI8ahGcurjZXeHh4XxSV2JiIvxuUSjUBQA4ffp0T2Z3MRiMt2/fQpshMzNz9+7djY2NVVVVxsbGGzZs+PbbbxUUFPj8NJSH4t09JcCPSner6FZ+HnZX/6YuFpUE8LoqKyshbC1btkxFRaWurq6zs7OlpYWlZMEOyXYXpi4eGvacupDdhamLh87C8rrIdhemLt6C8z4rwKsEUxfcORpuDP3x40dNTU0AwLlz5+BS8ACAhQsXZmVlEQSBJnjl5uayL2ZJvjWCUxc3uys8PNzNzY1cB7c4WqOLnbpKS0u5XcUjHdpdN2/e5JFHsFMPHz4cMGBARUVFZGSk0b8B7i+UnZ39b4IRnP4vWBXcrhLgR4VbUcJK52Z3YeoaOHAgi8jt7e1Xr16tq6trbGyUkpLas2cPAAC6ZSw5e36I7C5MXTzE7Dl1IbsLUxcPnYVIXWh2F6Yu3oLzPivAq+QrpK6cnJyAgABdXd3MzEz42V9AQMDcuXOfPXu2ePFiONW7vr5eQUHh2rVrFy9eVFZWbmtrAwB4enp6eHg8ffp02rRpsbGxPO5Fj6iLo90VERHBJ3WhXYAgdcHRRgCAoqKiYNQFLWhLS0seHRbgVEFBgZSUFFyv69SpU6tXr2Z8DnA8KCMjY8GCBeQUAargcYmdnZ24rTPOze7C1IWo68mTJ+fPnwcABAQETJo06fHjxwAANB+fx+3uySlkd2Hq4iGjUKgL2l2YunjoLETqQnYXpi7egvM+i6mLtz7wbEBAgM+/oaioCADAZDJDQ0OdnJyOHTuGhhqLi4tdXV3d3d3Rl38dHR1HjhxxcnI6ffo071/1PaIujnZXRESEq6srP92Lj493cnJC3zAKhboYDIaqquqNGzf4aUCXeZ4+fVpSUgIA+PDhw7fffgtXZLWzs4uOji4sLISXZ2RkWFhYxMTEwP1YuiyzuxnE8w3K0e4KCAhAvivs5p7Pobtd/iLys48wVldXDxgw4OHDhwAACoWyefPmvu8ItLvE85npezU41igU6oJ2V0hIiKKiIsdacKJwqQvaXYGBgUuWLPkStd20adMff/wh2pZj6hKt/qj2nlIXu90VGRnJJ3WdO3du0aJFwqUuAEBcXJyFhQXqocCR0tJSKSkpuPN0Z2cntDGysrLg9wv6+vpwIbW8vLxt27b98ccfkyZNQl+TClwp+4Xi+QblaHctWLDgK6SunJycHTt2MJnM7Ozsb775RrDNqdjvu2Ap0O6aMGGCuPmjgnWnN64SFnWlpqZqaGhg6uJxj4Qymx6Vv3Xr1mnTpmHqQoJ0N4Kpq7uK9VL+nlIXu90VGRm5YsUKfpp79uxZbtT15s0bfkrgmIfJZKqqql6/fp3jWX4SX758mZ+fT14olUajocEjWMKnT5+GDx9ONhLb29tHjhwprMnRqJ3iSV0c1+4aOnSonZ3dDVJw+RyucwpZbOEap3CVLWRyClfYwmVOIYNTuMQW0jmFNFJISEjQ1taGTq2fn9+ePXva2trYHxJ0E/syEhUVNWLECExd3DQXFnUBADQ0NKSlpblVhNOFS121tbU//vjj3Llzv0RhsdfF510Th28Y+WyqwNmEQF0sdle3qMvZ2Znd61JQUOgJdUG7a9KkSYKJUl1dLS0tffbsWfLl7C9UGo02dOhQMnUxmcxRo0Y1NjaSL+x53NbWNiMjo+flCL0Edrtr+/btBgYGVqQg/zlMZQvT2MJ0TmEGW5jJKVizBRtOgcIp2LIFO05h1v8PFApFWVk5MTGRrCr7Q0I+22dxOp3+888/29nZbcSBkwJbt261trYWyu2IiIgYOnQop0pw2v8UWLly5ejRo4UiNSxk4cKFSkpKX6K4ZmZmx48fF6IUAhSFvS4BROuNS4RAXSx218mTJ/n0us6cObN48eLeoC4mk6mmppaVldUtyd68eQOHh9j3fEQv1GPHjkVFRaWkpDg4OMDxxJMnT4aFhaWmpi5btgx2p1uVdpmZQqGIJ3Wx213sfenH87rYO4seEvZTfZxSVVX1Fw5cFEhOThbi7cjMzORSD07+nwLXrl0TotoAgKioqC9RWd5bxAhXIm6lYeripkwfpwuHush218mTJ5cvX85PN+Li4uAgPcs3jD33ugAAZ86cMTc356cZME9LS4usrGxkZCTHS2g02nfffQcAuH///oEDB3bt2pWeng6/YSwsLDx06NDOnTsTExM7Ozs5Xt6TRHGmLna7i6WnmLpYBMGHWAGsAFZAJApg6hKJ7OyVCoe6yHZXVFQUn9SFPgN2dHT09PRE3zAKhbqYTKa6ujo/f2mVl5fDSTDNzc3sAsGUjo4OSF3cMvReOoVCuXz5cu+V38OSWT5mZCkNUxeLIP370MPDw9DQ8MCBA7CbVCp1/vz5WlpaxsbGeXl5AIDXr19PmjRJS0tLU1Nzz5495AH6/q0M7h1WQOQKYOoS+S2ADRAadSG7Kyoq6tdff4Wlt7W1BQcHu7q6Xr16FaYwGAy4eP358+djY2N/+eUXOMLo6ekJ92QEACgoKJSVlfVcoLNnz3Zpd3V2diorKwcEBPCuToTUZWNjI87UxdvuwtTF+7nqZ2fv379/4sSJ9evXw375+/vDLVlzcnKMjY0BAO/fv4c/2jQabcKECXfv3u1nCvRZd+rr611cXLS1tdF6jJWVlVZWVtra2hYWFnBebE5OjoGBgY6OjoaGRlhYWJ+1TWwrotForq6uurq6/v7+sJG5ubmGhoZQotDQUAAAg8Fwc3NTV1dXUVERh2FBIYqJqUuIYvakKKFRF7K7Ll26hPipvr4+PDzcxcUlMDAQtpJGowUHB69bt27Hjh2nT59eunQpO3XJy8sLhbqYTKaGhgY3u6uioiIhIQEA0Nra2qWCHR0d//3vf7vM1hsZxJy6eM/uwtTVG4+EOJcZGRmJqMvLyyskJAS+yQYMGABXcEaNd3BwQH+MoUQc4VOB1tbWJ0+eeHt7oznaq1evPnLkCNwYDX6l9PLly+rqagBAU1OTvLx8d7dU57MlX1A2Op2en5//xx9/7NixAzb71atXUKLm5mYFBYXy8vIbN26Ym5szmcympqZhw4axPLTwquLi4o0bN6akpKC+5+TkbNy4sTe2RUFV9DyCqavnGgqlBGFSF7S74NaPOTk5qH3bt29H1AUTAwICduzYERMT4+Li0nvUBfdLmjhxImoJikCHBg2FoHRukfb2dkxd3MThYXdh6uImWn9NJ1NXcHDwL7/8QhDE1atXJSQkPnz4gHp99epVS0tLBoOBUnBEAAV8fHwQddnb28Pvh16+fDl27FhyaQRBaGlp9fDDcHKBX3Qcvn1YukAQhLa2dmlp6ZMnTyZOnMhgMBoaGhQUFGg0GktOAEBaWtrgwYPV1dXREPmcOXN++OEHka+Dyt5UcgqmLrIaIowLk7qQ3RUZGTlt2jTUK27UFR0d3dvUBe0u8p/U1dXVUVFRAID29nbUwi4joqWu7u7B3mV3hJ6B2+wuTF1Cl1rMCyRTFxzQ0dLSWrRokYaGRl1dHWz89evXJ0yYgA7FvEfi3DwydXl6eu7evRsAEBQUNGjQIHKzT5w4sWzZMnLK1xznSF2hoaFw4AUAsGHDhjFjxvz8889o9JZFrrS0NHl5eQsLC7gRRU1NjZyc3PTp0xF1paSkbNmyZf369UlJSZDMPn36FBAQAMdVCIIIDw9HO8mwFN57h5i6ek/bbpUsZOqCdld1dbWysjJapJsHdcHfBXA2PRqXFNYIIxQiPj7ezMwMiTJlyhRkL6PELiMipC4BVo3rsjtCz8DN7sLUJXSpxbxAMnWhptbV1enq6sLDS5cumZiY1NTUoLM4IrACZOpqaGiYN2+etra2p6fnuHHjUJmnTp2ytbXtpQ3XUS1fUISduqKjoykUCvw7/NatW1ZWVlQq9cOHDyoqKrW1texdg9QVERGxbt06AMCxY8e8vb2tra0RdXl4eMTHxyckJJiamvr5+cESXD8HuDfrxIkTe+ODd/amklMwdZHVEGFcyNSF7K6YmBi0CzU36jp16hScd89OXW/fvhWWKEwmU1NTMzExEY5ycnSMu6yrvb39+++/7zJbb2T4IqiL2+wuTF298UiIbZl//vmng4PDhAkTfH19m5ubqVTqgQMHTp8+PXHixIiICADAgwcPvvvuu40bN/p+Do8ePRLbvnwRDSNTF2pwcXGxjY0NPAwODra2tqZSqegsjrBQV0hIyMyZM5FEgYGBW7ZsgSpZWFjATUpYRIPU1djYOHbsWBqNZmRkVFxcTKYuAACVSq2srLx586ampia8vK2tTUNDY9u2bdLS0v/88w9LmX1wiKmrD0TmpwrhUxeyu1RVVeFuLosWLfLw8EBrlmZlZbm7uzs7O2/atImj1yUnJydE6gIAJCQkDB8+3MvLC66wxY8uLHmoVCqmLhZNWA452l2YulhU6t+HaWlpF/4NVCqVwWCcOXPmyJEj6NX1/v37f8//73+hfDTTvyXl1rv29vb9+/dbWFjY2dlBN6WsrOyvv/6KiIjQ0tKC+6ElJCQMGjRox44d+z8H4f5S5dYwMU/38/OjUCiWlpb79+/v6Og4f/78999/v337dihRWVlZYWGhrKxsSEiIr6+vkpJSU1MTe48gdQEAnJyc/Pz89PX1AQCIutrb2x0dHVVUVKytra2srMh7Rt24cUNCQgJ+LMlebG+nYOrqbYX5LF/41AXtrm3btp05c8bMzGzrvwGN6+3YsQOmUSgUjvO6hEhdnz598vPzg7O7ejI7SrTUlZmZyeftFG029tldmLpEe0dw7f1VARqNlvxvuHjxIvwWG67bjiYMlZSU/Jvlf//jUV0AQGpqKtKks7Pz5cuX6DA5ORl+z/j8+fPAwMATJ05wHF6Es+nl5eUBABkZGQMGDIDrUCDqOnv2rLW1NZzO9fjxY0RdTCZzxowZlpaWBgYGIhnwxdQlJr8NeoW6oN1VU1OjoaHBgxjQ3kEsI4xCpC5XV9e1a9fSaDQ4xC6w6CKkrpkzZ/LQUOAe9caF7HYXpq7e0BmXiRXACohQAeR10en0lJQUuIMcoq6oqCgrKysGg8FkMn/55RdEXQcPHoTpCxcuRKur9GUvMHX1pdo86uoV6kJ2V0JCgomJCbfqIyMjXV1d0coR8+bNgznl5OR6OOzd3Ny8d+9eGo2GPk2H304LvNwolUpl+SyIW6eEnv4FURf77C5MXUJ/HnCBWAGsgGgVyMzMhKOK5GY4OjrCVVVbWlosLS3Hjh2rpqa2fft2dXV1AEBhYaGKisrHjx8BAI2NjTo6OnAUmFxCb8dnzpy5cuXKlO6EuLg4CYneggSO/bWysvLw8OhOG1Oio6P7uJEcW85/Ym8JCu2u2tpaHR2d9PR0jg2KiIjgSF3jxo3rIXVt2bLFzc2NZYG7xMREHgjIsYUosa2tDVMXUoNHhMXuwtTFQyt8CiuAFeivCrS2ttLpdLHqna+vr52dnX13wpw5c9BOfX3Tl99//727jZw9e/aiRYv6pnlCqaW3qAvZXcnJyQYGBhzbGhER4ebmxu51CUxdbW1tO3fubG5u5jhrHq6Dl5GRwbExvBNFS13k9cZ4t1MczpJnd2HqEoc7gtuAFcAKfLUKNDY23rhx4+7du+S1KpqbmzMzM9ndjaqqKmjIQblKSkquXr36/Pnzr1a93uh4L1IXtLvq6uoMDAzImyegbsANGYVIXYcPH3ZxceH41Qms9Pz583A/ONQGPiMipK4ZM2Z8WdRFtrswdfH5gOFsWAGsAFZA6Ar8888/Ojo6GzduXLJkibGxMZzFX1paOn78eE9PT21t7fj4eFRpXV2dnJycg4MDTPnrr7/09PS2bt2qr69/6NAhlA1HeqhAL1IXsrvS0tJ0dHTQ5gmoxWFhYXBzXDibHs3r6q7X1d7evmPHjsrKSvYqUF0wQhCEjo7OpUuXWNK7PGxraxs8eHCX2XojwxdHXeTZXZi6euORwGViBbACWAF+FOjs7EQjPxQKBX7Iv3bt2vDwcABAaWkpnHYGi3Jxcdm3bx+iLkNDw+LiYgDA69evtbS0+KmuJ3lev349b948XV1dExMTNCRVX1/v7Oysra29YsUK8o7JVCrVwcHh5MmTsMabN2+amprq6enNmTOnsrKyJ83og2t7l7qQ3WVsbJyYmMjSn9DQUG7UVV5ezpKZx+HJkyednJzq6+t55EGnLly4IIDd1draiqkLadhlBNldmLq61ApnwApgBbACva0Ag8HQ0tJ6+vQpAMDIyOjVq1ewRjk5OfgN5sWLFzds2JCVlYWoCy7wVFxcvHPnTk9Pz95u4YsXLx49ekQQxKtXr0aPHg3HrFatWuXn50cQxJYtW7Zu3YrasHnzZisrq507d8IUKSmpJ0+eAAD2798PJ4ujnGIY6V3qQnbX5cuXNTU1EXRDIUJDQ3/77Tf2EcaxY8fyQ100Gm3nzp3o6eFTXMHsLtFS17Vr1/jsnfhkg7O7MHWJzx3BLcEKYAXEUIGGhgaWN6PQG0kQxPr16zds2ABLVlFReffuHYyrqqq+e/euoaHB3Ny8tbWVTF03b97U1dWdO3eurq5uX85yIQhCQUEBTi+Tk5ODFtf79+91dHRgmx88eLB48WJ/f39EXbKysnA5uqioKA8PD6ELKNwCe526kN1lZmZ29uxZcutDQkLc3d0hdW3atAmNMPJJXRcvXnRwcIDr2pGL7TKelJRkZGTUZTZyBhFS1/Tp079E6oJ216JFi/bs2UNWsh/HaTTawIED+3EHcdewAlgBoSgg8TnAooYNGybAW4z/ZhAE4ePjs3TpUsR2ZmZmL168gCWMHTu2ubl5165dc+bM8fPzW7FihYaGBhyYGjt27IcPHwAA1dXVo0aN4r/GHuaMiIiYM2cOAIDBYPz444+wtM7OTklJSQBAe3u7hYVFdXU1mbouXbokJyc3ceJENTW1XhWzh12Dl/c6dSG7KysrS1VVFS2gBQA4ceIExFJHR8dNmzbNnTsXtok3ddHp9N9//z0vL0/g/hMEoaury209C47Ftra2/vDDDxxP9XYib+q6cOFCeHg4WdW4uLioqKjebhU/5ScnJ48ePRpTFz9a4TxYAazA16MAmbqys7MF2x2YH7kIgti+ffvChQvJy1h4e3sfPXoUriIGFx579OhRwuewY8cOIyOju3fvAgCkpaWh4VRTUzNixAh+qut5nuTkZFNT08bGRgAAQRBDhgyBZVKpVNiGnTt3BgUFffr06eDBg5s3b6ZSqR0dHVpaWleuXKmurvbx8YFbkve8Jb1XgiDU1dzcfPv27ezsbLhJOwCgra3t3r17d+/ebWlpIbe1qanp48ePyO6ytLQ8ffo0yhAcHMyNupD/iTKjSHZ2tq2tLfnrVnSK/wh5dQN+rmppaRFP6tLT0/v222+R/fvq1auBAwcOHTqUn071dh6CIKSlpfX19eFWx/3+37179w4YMKC3VcXlYwWwAqJV4P79+5GRkf7+/jY2NuvWrauqqoLtoVKphw4dsrGxWbZsWUFBAUwkCCI+Pt7e3t7BweHChQswkUxdmzZtam5uBgAEBwffunXL09PTxsbm6NGjyJp69OjR4sWLZ8+enZqaumvXrm7NFs/Pz5eQkNDX1zf5HOA2J1VVVfr6+g4ODmpqajdu3CCLSR5hjIiIUFJScnR0VFZWDg4OJmfrpXhqaqqBgUFdXR0qX1dXFy5v8ejRIysrKwCAt7e31eegrKwsJycXGhr69u1bNTU1eElJSYmuri66XDwj3aauDx8+qKmpubu7r1q1Sltbu6qqikqlqqiouLm5rVmzRk1NrbS0FHaVyWROmzbNzMwM2V23b99WVlZG0B0cHLx69Wo0woi8LllZWXbqYjAYhw4d6sleiuQbgKZ7kxN5xEVLXWjjcPYW6unp2dvb//LLL/DUrl27HBwcEHW1tbVdvnw5ODg4KSkJrRmbn5+PJsN9/Pjxzp077MUKK6W2tnbbtm3bv5rAY73pkJCQpUuXvnz5Emnr6+u7dOlSPr8CQVfhCFYAKyBaBaKjowcPHnzgwIHHjx+vW7fOyMgIfj7v7Oxsb29fWFgYFxcnKSkJf9ghu2RnZ9+5c2fcuHHQdyBTFxphtLOzg3vo5efna2pqwiGLioqKn376KSIioqioaPny5d9//z0aHORHBCaT2UkKiOQYDMbLly9ZXBIAAJPJRC9oAMCnT59evXrV0NDAT109zJOTkzN48GA/P7+ozwH+YgwMDKRQKNeuXbO0tIyNjSVXgUYYGQyGmpra0aNHr1+/Pn/+fC8vL3I2MYx3m7o6OzvRXdm8eXNAQACTyUR7eR49enT79u2wn+Hh4Zs2bYLUhewuKysr9LVnUFDQmjVr+KSuZ8+e2djY8DPLnk+Vu2V3tbS0oAFmPssXVrZp06bxpq6IiAgZGRm4NqySklJiYiKiruPHj//2229+fn6LFy/W0tKCt+nWrVuysrLV1dUdHR0GBgYRERHCaiouh4cCS5YskZSU9PHxgXlqa2ulpKQkJCTev3/P4yp8CiuAFRA3BaKjow0NDSFpdXZ2jh49uqioqL6+/r///S/yadzc3Hbt2gU/GExOToZdOHv27KRJkwAA3KgL7ikEAAgMDFy5ciUAICgoyN7eHl7e2to6aNCgblGXuEnHoz3Pnj07Tgpw63GCIBITEz09PdPT01lWhiosLLx//z4ssLq6ev/+/V5eXhEREYhPeNQl2lPdpi5ycx0dHeF29yhx7dq18C1eUVExa9aswsJCSF3I7rp3756CggJcJPf48eNr167lTV0EQfj7+8fFxaEqhBWBdhdL+7kV3tzcLLbUFRsb+9tvv0VHR9++fdva2jo7OxtRF7k71tbWyCncs2cP9MadnJxYHmXyJTguRAWWLFny66+/ysvLwz83jx8/vmrVKkRdlZWVBw4cWLJkibu7e3Z2Nqz33r17cFkduGTOwYMHxf8XihAVw0VhBcRTgejoaPI+OcbGxsnJyYWFheTJT/BvXQDATz/99PjxY9iRvLy8MWPG8KCu8+fPw5yRkZFwBMPb2xu+JWG6rKxsf6Uu8bzXvdEqwakrPDzc0dGR/M5OSkqaPn06JCpnZ+eioqLHjx8j6kJ218yZM8PCwgAAx44d65K6ysvLJ06cGBUVVVRURN7QgJsWHz58QH8ukPMkJCQUFhaSUwAAKSkp3HYrYskp5tSVk5Mzbdq0FStWnDlzhkxdhYWFlpaWOjo6enp60KaG/WIwGIaGhjIyMnDSIktnv9BDBoPx4sULNOmBIIjnz58nJyffuXMH+er19fVpaWlZWVl9jy9LlizZunWrnZ0dnEhhZGSUnZ2NqOv+/fuhoaF37949d+7cmDFjioqKAADNzc0qKioXLlzo6OjQ19fHruQX+mTiZvczBaKjo6dMmQI7RRCEoqJidnb2x48fv/vuOzTX2cvLC65xpaamhiYeZGRk6Onp8aAuNPELUVdgYCD6up9KpQ4ePBhT15f+OAlIXaGhoXZ2dmhgEQBw4cKFyZMnw1mBBQUFcJzV09Nz3LhxiN9XrVq1bdu2Bw8ejBs3jkajHTt2DH5uwPINI5zXFRwcvG/fPjU1NR0dnblz5xoZGRkaGkK5f/3111u3bnGU/unTp46OjuynnJycYmJi2NP19fVTU1PZ01lSREtd6IeWpVUAAD09vdjYWIIgVFRURo0a1dbWRqYufX19ZG4vWLAAGSdPnz6VkpKSlpZGDi17yV9WSlNTk6Ghoaam5u+//w5bfurUqZkzZ+7Zs8fZ2XnWrFkEQVRUVCgpKW3ZsmXx4sU2NjZ93EFIXQkJCcuWLXv27Jm+vn5jYyOiLgBAR0dHaWlpcXGxh4cH+vCzsLBQWlra2dkZu5J9fL9wdVgBbgpER0cPGDDg0vm7IB0AABQ3SURBVKVLTCYzLCxs7Nix8K84S0vLzZs30+n0p0+fDh8+HP523bt3r4WFRXNzc2Njo4mJiZ+fX7eo6/3795KSkmfPnn39+rW7u/t3332HqYvbfflS0gWhLn9/fzs7OwT1AIDTp09bWlqiDRCrqqrOfA5+fn7KysroKwlkd9na2gYFBQUGBq5fvx6OMHp5eaHZ9DIyMsXFxbNnz3Zzc7O3t0d2GhzoZTAYU6dOTU1N7ezsZDAYBEFAD6y8vLympgZOHkTqNzY2vnz5kk6ns1BXXV3dixcvOjs7U1NT9fX1URXoQpZIc3Mz+oSV5VRvH06dOrVL6gIAXLlyBe6oRaaukSNHwi0dKioqRowYAamrra1NU1MzNjY2PT1dXl6+b2ZK9rZKsPwjR44g6kLOKFwX98WLFxcvXnRycoIfJA8fPpz8APdB8yB1UalUGRmZdevW+fv7k6krNzdXSUlp1qxZS5Ys0dfXhz8XsFXu7u4DBw6ED38ftBNXgRXACvBWIDo62t7e3sXFRUZGxsLCAo2ifPz40dnZWUZGRldXFy1O2dnZuW3bNgUFBUVFxV27dkE+I8/rmjlzJpw57uXldfPmTVh1Wlra3r17Yfz+/fv29vZTp049d+7c6NGjy8rKeDcPnxVzBbpNXY8fP5aQkDA0NJz4OYSEhFRUVEhISOjo6MCUgwcPoj6TRxhhIrS78vPzZWRkjh49ClfLdXR09PLyghsRREZGDhkyBE4xXrlyJfuf+DExMUOGDBk/fryJicmFCxdKSkpkZWUXLFigo6Oze/fuv//+W1tbG9YVGxsrIyMzZcoUMzMzc3Nz6HXR6XQ3NzdVVVUrKytlZeU7d+5w25wb9QIA0NTUJObUhVpLpi5fX18ZGRnoFE6cOBFS18qVK5ctWwbzw2XSuoROVLiYR8jUhZra1NSkoKDQ1NRUUVFhYmJy69at2NhYa2vrPu41pC4AwMqVKwcOHFhVVUWmLjs7O/Rr2sfHB1HX06dPR44caWVl5e3tjXqEI1gBrIAIFYiOjnZ2du6zBqD9B7Ozs2VlZdF8iT5rAK5IuAp0m7qYTCaVFODmmqQEKnnBN/LnjbDdyO6aM2eOg4MDC3VRqdQFCxaMHDkSUtfDhw8lJSW1tbVXr1597tw5KpUKC5k+fTrawbqkpERCQgJOiicIAlEXHBP8+++/AQBv3rwZNGgQpK7g4OAZM2bARubm5qqoqKSmpurp6fF+B4stdTU0NLB4Np2dnWRf5PXr1w8fPmxvb29qaqJSqQRB1NTUIB+ITqdDg1C4T5WoSmOnLhqNNmvWrHPnzgEAqFSqk5PTvHnzrKys4CKBfdlORF2VlZUPHz4EAJCpy9bWFjaptLR05MiRkLra2to0NDTi4uLq6+vl5OTQjrB92WxcF1YAK8CiQB9T19SpU6dMmTJt2jQZGRk0Y4SlSfjwC1Kg29TV875Bu6uwsHDo0KFoNj2FQlFUVISFy8jIwI0I4F4E0dHR7u7usrKyxsbGcNEpFuqSkpJCrULUdfnyZfJqaRQKBVLX9OnTXVxcIiMjIz6HQYMGffjwoUu7S7TUhYZoUTdxhKMCLNTV3t4+a9Ys+OkGACAsLAzSDJPJ1NDQ6GOj3svLiwX14GR5OP2/qKhIRUVFVlbW0tJy27Ztvr6+AIBDhw6hz5dycnLMzc3RID7H7uNErABWoA8UqK+vf/v2bR9UBKtgMBivXr0qLi4mOxp9VjuuSOgKiIC6kN01e/ZsFRUVKysrPT09HR0d9FXImDFjEHWhDjc2Nv7888/Q02KhLnl5eZQNUVdSUpKxsTFKt7e3h9Q1YcKEX3/9NZgUmpqa0tLSeNtdTU1NHJdjQOX3XsTKygpTF5/ykqmrpaVlxowZoaGh6Npjx47B3dbpdPr48eNLSkrQKRzBCmAFsAJYAaxAHyggAupCa3fV1dVduXLlxo0bRUVFycnJcF4XAABRFxrPBgB0dnaOGTMGDiza2NikpKRAdUpKSjhS1z///CMpKQmnind0dMjJyUHq8vLy4rgnuaGhIQ/ztrGxEVNXHzyOPanCwMBAVlZ2zJgx+vr6NBrt0KFDQ4YM0f83FBQU1NXVGRsbT506VUdHx8PDg/eYck9agq/FCmAFsAJYAawARwVEQ13I7kJt4khdLi4u06ZN27lz5969e01MTPT19eGEpN27dxsaGnp5eeXm5nKjLgDA0qVLJ02aFBgYOGvWLERdHz9+VFJSWr58OVyZws7ODrYhPT1dV1eX25sYUxe6U190hMlkVlZW9qfPNr/o24EbjxXACmAFvjYFRENdyO5CcnOkrubm5vT09KNHj/r5+WVkZKDlwZhM5s2bNxMSEl6/ft3U1JSeno7Kqa+vRyuwMxiMCxcu+Pn55efn5+TkoJH4tra2hISEAwcOnDhxAq0aDLduSEpKQkWRI6KlLvQ5MblJOI4VwApgBbACWAGswJelgMioi8XuYqGujx8/9r2O6enpOjo6HO2uxsZGSUnJvm8SAGDKlCm9Sl1o5ZiQkBC0S6BIeoorxQpgBbACWAGsQP9WQGTUxWJ3paSkoHldo0ePFgl1AQCMjY3RngzkG//p06d+T11FRUV3794l9xrHxVOB1tZWvGe2eN4a3CqsAFYAK8BbAVFSF9nuSklJQTuri5C6Ll26pK2tzW53iS11RUVFlZaW+vr6btmyhTxa+v79e19f302bNl25cgV1p7W1NTQ0dOPGjSdPnkSLnyGv69GjR3CfpaqqqrNnzz5//nzr1q2+vr7V1dXwGSIIIi0tbePGjaGhoY8fP87MzOT9bOGzwlUA3anMzEz0wa9wq8ClYQWwAlgBrECvKiBK6iLbXWJCXQAAExMTtHEkkl601MVt00kAwNixY3V1daOioo4dOzZs2DC4/Obbt2+lpKT27dsXFxenoaGxf/9+AACdTjc1NV2yZMm5c+fmzZs3depUSGPoXf7nn3+uWbMGAJCXlyclJbVw4cL4+PiVK1eamJjA1ZD/+uuv8ePHx8bGHjlyZNy4cX25OjO6EV9zBN2p5ubmPl5s7GuWHfcdK4AVwAoIUQERUxeyu1ioq6KiQoid7FZRGRkZ7HbXp0+fhg0b1q1yhJV58uTJvKnrzJkzsK79+/e7uLgAAHbs2OHm5gYTi4uLhw0b1tnZeePGjfHjx8NdwDo6OmRkZODC/ehdTqau4cOHQzOMTqf/8MMPdXV1BEGMHTs2OzsbFrthwwZMXd26xX5+fomJiY6OjsbGxvv27YM3AgDw6NEjR0dHIyOj1atXo8e+urp63bp1RkZG8+fPhyRN3jG3qKgIbjfZ0dHh7Ox869at6dOnW1paouVUmEzmn3/+aWpqOnv27NTUVLybULfuFM6MFcAKYAV6TwERUxeyu8jUNWrUKPT64djzt2/fenh4LFq0qKamhj1DS0tLRkbGu3fv2E/xmWJqapqYmEjO3NDQILbU9ezZM9jUixcv6unpAQDmzJkTHBwMEwmC+Pbbb9+8eePv7z9//nzUqZkzZ0ZGRpLf5WTqQntZAgBGjRr19u3blpYWCQkJtOZCWFgYpi4kJj8RCoUiLy//999/l5aWmpqawq1tKysrhw0bFhcX9/79e29vb7hUL0EQpqamGzZsePfuXUJCgqSkJHyYER+jEca2tjYJCQk3N7fy8vIbN24MHToULi8cFBSkqan5/HMwNDTU0dHhp4U4D1YAK4AVwAr0tgKipy5od8XExKB5XV1S15QpU/bv35+Tk8OyBSEUa/Xq1QMHDoyKihJYu8uXL2tpaaHpUAAAcaYu5IWcO3fO0tISALBkyZIjR47A7nd0dHzzzTc1NTUnT560sbFBmpibmyckJHCjLvJmSqNHj3779i2dTh80aBBafePIkSOYupCY/EQoFIq/vz/Mee/ePbj/VXBw8OzZs2EinU6XlpYuLCx88eLF8OHD0e4fjo6Of/31F/lOsVDXp0+fYAmTJk3KysoCAEyYMAGtgZKUlISpi58bhPNgBbACWIE+UED01AXtrvnz53OkLoIgcnNzL126hF4tJSUlsrKy6enpHHd0uXPnjq2trZGRUU+oCwBgamoKoQTeA9FS1+3bt7k9CmPHjl26dClBEDQabfLkyYcPHwYAnDt3TlVVtbGxEQDg5+dnamoKAPjw4cPgwYOLiooAALm5uT/88EN9fT35XU72utipCwCwaNGiX3/9lcFgVFRUKCoqYuridlM4plMoFGSglpWVDRw4EADg4+OzevVqlF9PTy8tLe3atWvq6uoocdOmTRs3biTfKTJ1/ec//0E5Z8yYAdeuGzduHBoLzs7OxtSFJMIRrABWACsgWgXEgrrKy8uHDBlCoVCgFsjramlpmTBhwrRp01xdXaWlpS9fvgwAWLdu3eDBg2fPng2nfpPla2tr09XVLSsrMzY27iF1XblyRVNTE9ldDQ0NP/30E7muPotbWlrypq6NGzdqamrKyMgsXLgQmn8EQXh7e48bN05VVdXU1BTh6ZkzZ5SUlNTV1VVUVNAcIDRuFRQUtHnzZgBAfn7+pEmTUAdVVVXLy8sBALW1tQsWLBg1apS5ubmnp+fSpUtRHhzpUgEKhXLs2DGYLTc3V05ODgBw/PjxuXPnwkQGgzF69Oj8/Pxnz579/PPPaOKXs7Mz3DYb3SkydQ0YMABVjahr8uTJaLbf2bNnMXUhiXAEK4AVwAqIVgGxoC44KPbTTz999zlMmDChra0NAPDXX3/NmDEDfkCXkpKipKQEMUheXh6RBFm+zZs3w/dTz6kLDtMgu6u+vl5sqev169cdHR1NTU1kKQAA7e3tyCBEp+h0en19PYPBQCn8RxCDAgCWLVsGh734v/wrz0mhUBQVFZ8/f15ZWWlpabl9+3ZoQEpKSqampjY0NOzZsweCPkEQBgYG27Zta2hoyMjIGDp0KBzY5Z+6YmNj5eTkrn8O2tramLq+8mcPdx8rgBUQHwXEhboAADQareNzQH/lOzg4HD9+HIpFp9O/+eYbuHoqR+rKy8szMjKC1wqFujIzMzU1NSHziTl19c3zlJqaOmvWLC8vLzs7OxUVldra2r6pt3/UQqFQDh8+bGtrq6mp6ePjg6Zt5ebm2traqqurL1u2DHqKkMZWrFihrq5uY2ODlq5F1FVQUAB3EWhvb0fTwgAAO3fuzMvLg3LFx8fPnTv3t99+i42NhUPM/UNG3AusAFYAK/BFKyBG1MWuo729PaIuBoPxzTffwE+0OFKXu7u7qqrq9M9hyJAh6urqaEY5e8l8ppiZmcXHxwMA6uvrhw8fzudVws1maWl5584dbmWmpqY2NzdzOyvcdDqdnpubGx8ff+PGDUTGwq2iH5dGoVDQqG5vd7PtcwAAMJnMFStW4JUjeltwXD5WACuAFeBTAbGmrj/++INCocCBrfT0dEVFRR4jjG/evLn/b1BXV9+xY0dpaSmfKnDLlpmZqaGhwWQy6+rqREVdFhYWPKiLW8txurgp0JfU9fbtWxkZGRMTE0VFxRkzZtTV1YmbGrg9WAGsAFbg61RArKmrqanJwMDAxsbGw8NDWlo6LS0N3iSOXhf5/gllhBEWaGZmdu7cOUxdZHlxXAAFampq4GxFAa4V4BL4qSlaX02AEvAlWAGsAFYAKyB0BcSauuAQye3bt5OSksh/rz99+pTjSl1InZKSEnJ+lC5A5OrVq+rq6jU1NdjrEkA9fAlWACuAFcAKYAWwAkgBcacu1FARRiZOnBgWFjZixAiRtMHCwgLNpxZJA3ClWAGsAFYAK4AVwAoIRQFMXV3LeO3atfHjx4vK65o0aRKmrq5vEs6BFcAKYAWwAlgBsVcAUxdft8jExOTHH3/kK6uwM2HqEraiuDysAFYAK4AVwAqIRgFMXXzpfuHCBfIi4HxdI6RMmLqEJCQuBiuAFcAKYAWwAiJWAFMXXzegra1NXl5+gCiCoqIi708H+OoAzoQVwApgBbACWAGsgKgVEBfqKigo2L179/r168PDw8VzBU4Gg0EXRRBs9x5RP1e4fqwAVgArgBXACmAFWBUQF+q6evVqcnLy3bt3XVxcvLy8WJv5ZR5XVVXFxMTAlV0JgkhKStq7d+/p06cxSH2Z9xO3GiuAFcAKYAWwAj1SQFyoC3UiOzt76tSp6PCLjri4uAwcOBBSV1BQ0JQpU1JSUhYsWAA30fuiu4YbjxXACmAFsAJYAaxAdxUQI+q6du3ali1bzM3Ns7KyutsNMcyfkpJy+PDhIUOGQOpydXWFWzrm5OTMnDlTDBuMm4QVwApgBbACWAGsQK8qIEbUVVJSkpycbG9v/8cff/Rqn/ug8KamphkzZtBoNERdDx48oFAoYWFh8+fPR1sb9UFLcBVYAawAVgArgBXACoiJAmJEXVCRuro6WVlZMVFH4GasWbPmxo0bAABEXVlZWTNmzDhy5Mjs2bPj4uIELhlfiBXACmAFsAJYAazAF6qAuFBXXl4elUoFAMTExFhYWHyhasJm0+n0H3/8cc7nMGDAAEdHRwDA1KlT8/LyAAAfP35UUlL6ojuIG48VwApgBbACWAGsgAAKiAt1+fr6GhkZ6enpzZ49u7S0VICeiM8lBEG8+zf88MMP7969AwDMmjUrMjISAJCVlaWnpyc+rcUtwQpgBbACWAGsAFagbxQQF+rqm972fS2WlpZwNv2rV68mTZqkp6dnbGycn5/f9y3BNWIFsAJYAawAVgArIFoFMHWJVn9cO1YAK4AVwApgBbACX4sCmLq+ljuN+4kVwApgBbACWAGsgGgVwNQlWv1x7VgBrABWACuAFcAKfC0KYOr6Wu407idWACuAFcAKYAWwAqJVAFOXaPXHtWMFsAJYAawAVgAr8LUogKnra7nTuJ9YAawAVgArgBXACohWAUxdotUf144VwApgBbACWAGswNeiwP8BuRkG6Bb6kiAAAAAASUVORK5CYII=)"
      ],
      "metadata": {
        "id": "z5PkB96lo92U"
      }
    },
    {
      "cell_type": "markdown",
      "source": [
        "\\*Hint: As mentioned, The Convolution layers of Alexnet is separated because of the GPU size but we don't consider it on this notebook. Also, you have to reduce the size of output, since we have only 100 categories.\n",
        "\n",
        "Ex) For the first layer of Alexnet, we would use 96 filters, not dividing them 48 & 48 as paper authors had used.\n",
        "\n",
        "\\*Refer to this paper: https://papers.nips.cc/paper_files/paper/2012/file/c399862d3b9d6b76c8436e924a68c45b-Paper.pdf"
      ],
      "metadata": {
        "id": "949qBFrzo_sz"
      }
    },
    {
      "cell_type": "code",
      "source": [
        "import torchvision\n",
        "\n",
        "\n",
        "\n",
        "transform = transforms.Compose([\n",
        "    transforms.Resize((227, 227)), #Size is different with original paper, since we have to obtain 55*55 feature maps after 1st convolution layers\n",
        "                                   #224*224 images do not lead to 55*55 feature maps\n",
        "    transforms.ToTensor(),\n",
        "    transforms.Normalize((0.5, 0.5, 0.5), (0.5, 0.5, 0.5)),\n",
        "])\n",
        "\n",
        "\n",
        "#Use CIFAR100, instead of ImageNet Dataset\n",
        "trainset = torchvision.datasets.CIFAR100('./data', train=True, download=True, transform=transform)\n",
        "trainloader = torch.utils.data.DataLoader(trainset, batch_size=64, shuffle=True)\n",
        "\n",
        "testset = torchvision.datasets.CIFAR100('./data', train=False, download=True, transform=transform)\n",
        "testloader = torch.utils.data.DataLoader(testset, batch_size=64, shuffle=False)\n"
      ],
      "metadata": {
        "id": "Bbmd4mypnXFG"
      },
      "execution_count": null,
      "outputs": []
    },
    {
      "cell_type": "code",
      "source": [
        "#Implementation of AlexNet\n",
        "\n",
        "class Alexnet(nn.Module):\n",
        "\n",
        "  \"\"\"Torch implementation of Alexnet\n",
        "\n",
        "  Inputs\n",
        "  - images with [B,C,H,W] => (Batch_size, 3, 227, 227)\n",
        "\n",
        "  Outputs:\n",
        "  - Class probabilities with [Categories,] => (100,)\n",
        "  \"\"\"\n",
        "\n",
        "  def __init__(self):\n",
        "\n",
        "    pass\n",
        "\n",
        "\n",
        "  def forward(self, x):\n",
        "\n",
        "    pass"
      ],
      "metadata": {
        "id": "vWuzATe8qpAU"
      },
      "execution_count": null,
      "outputs": []
    },
    {
      "cell_type": "code",
      "source": [
        "#model\n",
        "model=Alexnet().to(device)\n",
        "\n",
        "#learning rate\n",
        "\n",
        "#epoch\n",
        "\n",
        "#Loss function\n",
        "\n",
        "#Optimizer\n"
      ],
      "metadata": {
        "id": "T92r-e1Wq6xS"
      },
      "execution_count": null,
      "outputs": []
    },
    {
      "cell_type": "code",
      "source": [
        "#Enjoy Your Training\n",
        "#Good Job :)\n",
        "for t in range(epoch):\n",
        "    print(f\"Epoch {t+1}\\n-------------------------------\")\n",
        "    train_loop(train_dataloader, model, loss, optimizer)\n",
        "    test_loop(test_dataloader, model, loss)\n",
        "print(\"Done!\")"
      ],
      "metadata": {
        "id": "kzqW3kg6rCR6"
      },
      "execution_count": null,
      "outputs": []
    }
  ]
}