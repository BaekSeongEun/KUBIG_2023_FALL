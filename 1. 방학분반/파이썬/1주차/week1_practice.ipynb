{
  "nbformat": 4,
  "nbformat_minor": 0,
  "metadata": {
    "colab": {
      "provenance": []
    },
    "kernelspec": {
      "name": "python3",
      "display_name": "Python 3"
    },
    "language_info": {
      "name": "python"
    }
  },
  "cells": [
    {
      "cell_type": "code",
      "execution_count": 3,
      "metadata": {
        "colab": {
          "base_uri": "https://localhost:8080/",
          "height": 35
        },
        "id": "SsiLw8wAfHmS",
        "outputId": "838aee2e-e3c3-4bf9-b225-77083c7acb20"
      },
      "outputs": [
        {
          "output_type": "execute_result",
          "data": {
            "text/plain": [
              "'bathroom'"
            ],
            "application/vnd.google.colaboratory.intrinsic+json": {
              "type": "string"
            }
          },
          "metadata": {},
          "execution_count": 3
        }
      ],
      "source": [
        "#print bathroom from the list\n",
        "house = [[\"hallway\", 'hall'],\n",
        "         [\"kitchen\", 'kit'],\n",
        "         [\"living room\", 'liv'],\n",
        "         [\"bedroom\", 'bed'],\n",
        "         [\"bathroom\", 'bath']]\n",
        "\n",
        "house[4][0]"
      ]
    },
    {
      "cell_type": "code",
      "source": [
        "# change 18.0 to 16.5 in the list without impacting the existing list\n",
        "areas = [11.25, 18.0, 20.0, 10.75, 9.50]\n",
        "\n",
        "areas1=list(areas)\n",
        "areas1[1]=16.5\n",
        "\n",
        "print(areas1)\n",
        "print(areas)"
      ],
      "metadata": {
        "colab": {
          "base_uri": "https://localhost:8080/"
        },
        "id": "ggfHZG9SfUMp",
        "outputId": "dc6386cd-5cf9-4f24-e3a2-d56411417cb3"
      },
      "execution_count": 4,
      "outputs": [
        {
          "output_type": "stream",
          "name": "stdout",
          "text": [
            "[11.25, 16.5, 20.0, 10.75, 9.5]\n",
            "[11.25, 18.0, 20.0, 10.75, 9.5]\n"
          ]
        }
      ]
    },
    {
      "cell_type": "code",
      "source": [
        "#calculate the bmi with height and weight (kg/m*2)\n",
        "height=[157.8, 160.0, 174.7, 163.5]\n",
        "weight=[42.3, 50.7, 68.4, 51.4]\n",
        "\n",
        "import numpy as np\n",
        "\n",
        "np_height=np.array(height)\n",
        "np_weight=np.array(weight)\n",
        "\n",
        "np_height1=np_height*0.01\n",
        "\n",
        "bmi=np_weight/np_height1**2\n",
        "print(bmi)"
      ],
      "metadata": {
        "colab": {
          "base_uri": "https://localhost:8080/"
        },
        "id": "7MMwI7xtfVsC",
        "outputId": "9f766df1-d18c-4a77-e794-0b325f174ed6"
      },
      "execution_count": 7,
      "outputs": [
        {
          "output_type": "stream",
          "name": "stdout",
          "text": [
            "[16.98737874 19.8046875  22.41146733 19.22771185]\n"
          ]
        }
      ]
    }
  ]
}