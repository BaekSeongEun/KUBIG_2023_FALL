{
  "nbformat": 4,
  "nbformat_minor": 0,
  "metadata": {
    "colab": {
      "provenance": []
    },
    "kernelspec": {
      "name": "python3",
      "display_name": "Python 3"
    },
    "language_info": {
      "name": "python"
    }
  },
  "cells": [
    {
      "cell_type": "code",
      "source": [
        "# Use if-elif-else to print \"big place!\" when area is bigger then 20,\n",
        "# print \"medium size\" when area is 10,\n",
        "# print \"small\" for else\n"
      ],
      "metadata": {
        "id": "SV9IcW4lMVbY"
      },
      "execution_count": null,
      "outputs": []
    },
    {
      "cell_type": "code",
      "source": [
        "# from the dataframe below print the (subject's name) is (score2)\n",
        "\n",
        "data = {'score1' : [91,94,97,100], 'score2' : [100, 97, 94, 91]}\n",
        "data = pd.DataFrame(data, index=['MATH','ENG','KOR','HIS'])\n"
      ],
      "metadata": {
        "id": "WhRh3vHNNc3a"
      },
      "execution_count": null,
      "outputs": []
    },
    {
      "cell_type": "code",
      "source": [
        "# starting from 50th stair,\n",
        "#you and your friend are going to go up or down the stairs depending on the numeber of dice each one gets\n",
        "# if the number on the dice is 1 or 2 go down 1 stair,\n",
        "# else if the number is 3 or 4 just stay,\n",
        "# then else if the number is 5 or 6 go up 1 stair\n",
        "# numpy is already imported as np and the seed has been set to 123.\n",
        "\n",
        "# NumPy is imported, seed is set\n",
        "import numpy as np\n",
        "import pandas as pd\n",
        "np.random.seed(123)\n",
        "\n",
        "# Starting step\n",
        "step = 50"
      ],
      "metadata": {
        "id": "ViAwU74tOgxB"
      },
      "execution_count": 4,
      "outputs": []
    }
  ]
}