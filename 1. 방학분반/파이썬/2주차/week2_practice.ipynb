{
  "cells": [
    {
      "cell_type": "code",
      "execution_count": null,
      "metadata": {
        "id": "SV9IcW4lMVbY"
      },
      "outputs": [],
      "source": [
        "# Use if-elif-else to print \"big place!\" when area is bigger then 20,\n",
        "# print \"medium size\" when area is 10,\n",
        "# print \"small\" for else\n"
      ]
    },
    {
      "cell_type": "code",
      "execution_count": null,
      "metadata": {
        "id": "WhRh3vHNNc3a"
      },
      "outputs": [],
      "source": [
        "# from the dataframe below print \"(subject's name) score is (score2)\"\n",
        "\n",
        "data = {'score1' : [91,94,97,100], 'score2' : [100, 97, 94, 91]}\n",
        "data = pd.DataFrame(data, index=['MATH','ENG','KOR','HIS'])\n"
      ]
    },
    {
      "cell_type": "code",
      "execution_count": 4,
      "metadata": {
        "id": "ViAwU74tOgxB"
      },
      "outputs": [],
      "source": [
        "# starting from 50th stair,\n",
        "#you and your friend are going to go up or down the stairs depending on the numeber of dice each one gets\n",
        "# if the number on the dice is 1 or 2 go down 1 stair,\n",
        "# else if the number is 3 or 4 just stay,\n",
        "# then else if the number is 5 or 6 go up 1 stair\n",
        "# numpy is already imported as np and the seed has been set to 123.\n",
        "# print the random number of dice and stair\n",
        "\n",
        "# NumPy is imported, seed is set\n",
        "import numpy as np\n",
        "import pandas as pd\n",
        "np.random.seed(123)\n",
        "\n",
        "# Starting step\n",
        "step = 50"
      ]
    }
  ],
  "metadata": {
    "colab": {
      "provenance": []
    },
    "kernelspec": {
      "display_name": "Python 3",
      "name": "python3"
    },
    "language_info": {
      "name": "python"
    }
  },
  "nbformat": 4,
  "nbformat_minor": 0
}
