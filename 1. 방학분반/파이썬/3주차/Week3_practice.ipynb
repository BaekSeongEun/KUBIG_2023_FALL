{
  "nbformat": 4,
  "nbformat_minor": 0,
  "metadata": {
    "colab": {
      "provenance": []
    },
    "kernelspec": {
      "name": "python3",
      "display_name": "Python 3"
    },
    "language_info": {
      "name": "python"
    }
  },
  "cells": [
    {
      "cell_type": "markdown",
      "source": [
        "Q1) make your own fuction that concatenate words and exclamation makes then assign tuples for each result"
      ],
      "metadata": {
        "id": "t1i3a-gdWtps"
      }
    },
    {
      "cell_type": "code",
      "execution_count": null,
      "metadata": {
        "id": "oiujLEbDU8Ky"
      },
      "outputs": [],
      "source": [
        "# Define shout_all with parameters word1 and word2\n",
        "def\n",
        "\n",
        "    # Concatenate word1 with '!!!': shout1\n",
        "    shout1=\n",
        "\n",
        "    # Concatenate word2 with '!!!': shout2\n",
        "    shout2=\n",
        "\n",
        "    # Construct a tuple with shout1 and shout2: shout_words\n",
        "    shout_words =\n",
        "\n",
        "    # Return shout_words\n",
        "    return shout_words\n",
        "\n",
        "# Pass 'congratulations' and 'you' to shout_all(): yell1, yell2\n",
        "yell1, yell2 =\n",
        "\n",
        "# Print yell1 and yell2\n",
        "print(yell1)\n",
        "print(yell2)"
      ]
    },
    {
      "cell_type": "markdown",
      "source": [
        "Q2) concatenate all student's name but the number of arguments are not define yet"
      ],
      "metadata": {
        "id": "mowh61ehXiA2"
      }
    },
    {
      "cell_type": "code",
      "source": [
        "# Define name\n",
        "def :\n",
        "    \"\"\"Concatenate strings in *args together.\"\"\"\n",
        "\n",
        "    # Initialize an empty string: student\n",
        "\n",
        "\n",
        "    # Concatenate the strings in args\n",
        "    for word in args:\n",
        "\n",
        "\n",
        "    # Return student\n",
        "    return\n",
        "\n",
        "# Call name() with one string: one_word\n",
        "one_word = name(\"luke\")\n",
        "\n",
        "# Call name() with five strings: many_words\n",
        "many_words = name(\"luke\", \"leia\", \"han\", \"obi\", \"darth\")\n",
        "\n",
        "# Print one_word and many_words\n",
        "print(one_word)\n",
        "print(many_words)"
      ],
      "metadata": {
        "id": "f-tK1tBsVzPS"
      },
      "execution_count": null,
      "outputs": []
    },
    {
      "cell_type": "markdown",
      "source": [
        "Q3) fillter the name which is longer than 7"
      ],
      "metadata": {
        "id": "DAxgZUQKYCst"
      }
    },
    {
      "cell_type": "code",
      "source": [
        "# Create a list of strings: name\n",
        "name = ['frodo', 'samwise', 'merry', 'pippin', 'aragorn', 'boromir', 'legolas', 'gimli', 'gandalf']\n",
        "\n",
        "# Use filter() to apply a lambda function over name: result\n",
        "result = filter()\n",
        "\n",
        "# Convert result to a list: result_list\n",
        "result_list = list(result)\n",
        "\n",
        "# Print result_list\n",
        "print(result_list)"
      ],
      "metadata": {
        "id": "3HLy18a3Wkmy"
      },
      "execution_count": null,
      "outputs": []
    }
  ]
}